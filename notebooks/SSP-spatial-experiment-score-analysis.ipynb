{
 "cells": [
  {
   "cell_type": "code",
   "execution_count": 1,
   "id": "cbaa4020",
   "metadata": {},
   "outputs": [],
   "source": [
    "%load_ext autoreload\n",
    "%autoreload 2"
   ]
  },
  {
   "cell_type": "code",
   "execution_count": 6,
   "id": "6bf1c661",
   "metadata": {},
   "outputs": [],
   "source": [
    "import os\n",
    "import sys\n",
    "import numpy as np\n",
    "import torch\n",
    "import gpytorch\n",
    "import matplotlib.pyplot as plt\n",
    "import pandas as pd\n",
    "import xarray as xr\n",
    "import tqdm\n",
    "import joblib\n",
    "import utils as utils\n",
    "from sklearn.linear_model import LinearRegression\n",
    "\n",
    "base_dir = os.path.join(os.getcwd(), '..')\n",
    "sys.path.append(base_dir)\n",
    "\n",
    "import fit_spatial_Plain_GP as plaingp\n",
    "import fit_spatial_FaIRGP as fairgp\n",
    "from src.models.utils_spatial import compute_means\n",
    "from src.evaluation.metrics import spearman_correlation"
   ]
  },
  {
   "cell_type": "code",
   "execution_count": 7,
   "id": "4dd62e3d",
   "metadata": {},
   "outputs": [],
   "source": [
    "def weighted_mean(x, wlat):\n",
    "    mu = torch.sum(x * wlat, dim=(1, 2)) / (x.size(2) * wlat.sum())\n",
    "    return mu\n",
    "\n",
    "def compute_deterministic_metrics(prediction, groundtruth, wlat):\n",
    "    # Compute raw distances metrics\n",
    "    difference = prediction.sub(groundtruth)\n",
    "    mean_bias = weighted_mean(difference, wlat).mean()\n",
    "    rmse = weighted_mean(torch.square(difference), wlat).mean().sqrt()\n",
    "    mae = weighted_mean(torch.abs(difference), wlat).mean()\n",
    "\n",
    "    # Compute spearman correlation\n",
    "    corr = spearman_correlation(prediction.flatten(), groundtruth.flatten())\n",
    "\n",
    "    # Encapsulate results in output dictionnary\n",
    "    output = {'mb': mean_bias.item(),\n",
    "              'rmse': rmse.item(),\n",
    "              'mae': mae.item(),\n",
    "              'corr': corr}\n",
    "    return output\n",
    "\n",
    "def compute_probabilistic_metrics(prediction, groundtruth, wlat):\n",
    "    ll = weighted_mean(prediction.log_prob(groundtruth), wlat).mean()\n",
    "    lb, ub = prediction.icdf(torch.tensor(0.025)), prediction.icdf(torch.tensor(0.975))\n",
    "    mask = (groundtruth >= lb) & (groundtruth <= ub)\n",
    "    calib95 = weighted_mean(mask.float(), wlat).mean()\n",
    "    \n",
    "    mu, sigma = prediction.mean, prediction.stddev\n",
    "    y = (groundtruth - mu) / sigma\n",
    "    norm = torch.distributions.Normal(0, 1)\n",
    "    crps = sigma * (y * (2 * norm.cdf(y) - 1) + 2 * norm.log_prob(y).exp() - 1 / np.sqrt(np.pi))\n",
    "    crps = weighted_mean(crps, wlat).mean()\n",
    "    \n",
    "    output = {'ll': ll.item(),\n",
    "              'calib95': calib95.item(),\n",
    "              'CRPS': crps.item()}\n",
    "    return output"
   ]
  },
  {
   "cell_type": "code",
   "execution_count": 8,
   "id": "48aecff7",
   "metadata": {},
   "outputs": [],
   "source": [
    "ssps = ['SSP126', 'SSP245', 'SSP370', 'SSP585']"
   ]
  },
  {
   "cell_type": "markdown",
   "id": "05ef452d",
   "metadata": {},
   "source": [
    "## FaIR pattern scaling"
   ]
  },
  {
   "cell_type": "markdown",
   "id": "d44fd623",
   "metadata": {},
   "source": [
    "### SSP126"
   ]
  },
  {
   "cell_type": "code",
   "execution_count": 9,
   "id": "ece544b8",
   "metadata": {},
   "outputs": [],
   "source": [
    "train_cfg = {'dataset' : {'dirpath': '../data/', 'keys': ['historical', 'ssp245', 'ssp370', 'ssp585']}}\n",
    "train_data = plaingp.make_data(train_cfg)\n",
    "\n",
    "test_cfg = {'dataset' : {'dirpath': '../data/', 'keys': ['ssp126']}}\n",
    "test_data = plaingp.make_data(test_cfg)"
   ]
  },
  {
   "cell_type": "code",
   "execution_count": 10,
   "id": "885f5254",
   "metadata": {},
   "outputs": [
    {
     "data": {
      "text/plain": [
       "LinearRegression()"
      ]
     },
     "execution_count": 10,
     "metadata": {},
     "output_type": "execute_result"
    }
   ],
   "source": [
    "scenarios = train_data.scenarios\n",
    "all_tas = scenarios.tas\n",
    "wlat = torch.cos(torch.deg2rad(scenarios[0].lat)).clip(min=torch.finfo(torch.float64).eps)[:, None]\n",
    "glob_tas = weighted_mean(all_tas, wlat)\n",
    "\n",
    "pattern_scaling = LinearRegression()\n",
    "pattern_scaling.fit(glob_tas[:, None], all_tas.reshape(all_tas.size(0), -1))"
   ]
  },
  {
   "cell_type": "code",
   "execution_count": 11,
   "id": "7e84e6d0",
   "metadata": {},
   "outputs": [],
   "source": [
    "time_slice = slice(-21, None)\n",
    "\n",
    "pred = compute_means(test_data.scenarios, pattern_scaling)['ssp126']\n",
    "metrics_ssp126 = compute_deterministic_metrics(pred[time_slice],\n",
    "                                               test_data.scenarios[0].tas[time_slice],\n",
    "                                               wlat)"
   ]
  },
  {
   "cell_type": "markdown",
   "id": "57078d49",
   "metadata": {},
   "source": [
    "### SSP245"
   ]
  },
  {
   "cell_type": "code",
   "execution_count": 12,
   "id": "2fe18469",
   "metadata": {},
   "outputs": [],
   "source": [
    "train_cfg = {'dataset' : {'dirpath': '../data/', 'keys': ['historical', 'ssp126', 'ssp370', 'ssp585']}}\n",
    "train_data = plaingp.make_data(train_cfg)\n",
    "\n",
    "test_cfg = {'dataset' : {'dirpath': '../data/', 'keys': ['ssp245']}}\n",
    "test_data = plaingp.make_data(test_cfg)"
   ]
  },
  {
   "cell_type": "code",
   "execution_count": 13,
   "id": "58deffa3",
   "metadata": {},
   "outputs": [
    {
     "data": {
      "text/plain": [
       "LinearRegression()"
      ]
     },
     "execution_count": 13,
     "metadata": {},
     "output_type": "execute_result"
    }
   ],
   "source": [
    "scenarios = train_data.scenarios\n",
    "all_tas = scenarios.tas\n",
    "wlat = torch.cos(torch.deg2rad(scenarios[0].lat)).clip(min=torch.finfo(torch.float64).eps)[:, None]\n",
    "glob_tas = weighted_mean(all_tas, wlat)\n",
    "\n",
    "pattern_scaling = LinearRegression()\n",
    "pattern_scaling.fit(glob_tas[:, None], all_tas.reshape(all_tas.size(0), -1))"
   ]
  },
  {
   "cell_type": "code",
   "execution_count": 14,
   "id": "a77e8f2f",
   "metadata": {},
   "outputs": [],
   "source": [
    "time_slice = slice(-21, None)\n",
    "\n",
    "pred = compute_means(test_data.scenarios, pattern_scaling)['ssp245']\n",
    "metrics_ssp245 = compute_deterministic_metrics(pred[time_slice],\n",
    "                                               test_data.scenarios[0].tas[time_slice],\n",
    "                                               wlat)"
   ]
  },
  {
   "cell_type": "markdown",
   "id": "a51ee218",
   "metadata": {},
   "source": [
    "### SSP370"
   ]
  },
  {
   "cell_type": "code",
   "execution_count": 15,
   "id": "68693b9e",
   "metadata": {},
   "outputs": [],
   "source": [
    "train_cfg = {'dataset' : {'dirpath': '../data/', 'keys': ['historical', 'ssp126', 'ssp245', 'ssp585']}}\n",
    "train_data = plaingp.make_data(train_cfg)\n",
    "\n",
    "test_cfg = {'dataset' : {'dirpath': '../data/', 'keys': ['ssp370']}}\n",
    "test_data = plaingp.make_data(test_cfg)"
   ]
  },
  {
   "cell_type": "code",
   "execution_count": 16,
   "id": "01e3fbd7",
   "metadata": {},
   "outputs": [
    {
     "data": {
      "text/plain": [
       "LinearRegression()"
      ]
     },
     "execution_count": 16,
     "metadata": {},
     "output_type": "execute_result"
    }
   ],
   "source": [
    "scenarios = train_data.scenarios\n",
    "all_tas = scenarios.tas\n",
    "wlat = torch.cos(torch.deg2rad(scenarios[0].lat)).clip(min=torch.finfo(torch.float64).eps)[:, None]\n",
    "glob_tas = weighted_mean(all_tas, wlat)\n",
    "\n",
    "pattern_scaling = LinearRegression()\n",
    "pattern_scaling.fit(glob_tas[:, None], all_tas.reshape(all_tas.size(0), -1))"
   ]
  },
  {
   "cell_type": "code",
   "execution_count": 17,
   "id": "a0b7047e",
   "metadata": {},
   "outputs": [],
   "source": [
    "time_slice = slice(-21, None)\n",
    "\n",
    "pred = compute_means(test_data.scenarios, pattern_scaling)['ssp370']\n",
    "metrics_ssp370 = compute_deterministic_metrics(pred[time_slice],\n",
    "                                               test_data.scenarios[0].tas[time_slice],\n",
    "                                               wlat)"
   ]
  },
  {
   "cell_type": "markdown",
   "id": "45bfc5aa",
   "metadata": {},
   "source": [
    "### SSP585"
   ]
  },
  {
   "cell_type": "code",
   "execution_count": 18,
   "id": "a8bde1e8",
   "metadata": {},
   "outputs": [],
   "source": [
    "train_cfg = {'dataset' : {'dirpath': '../data/', 'keys': ['historical', 'ssp126', 'ssp245', 'ssp370']}}\n",
    "train_data = plaingp.make_data(train_cfg)\n",
    "\n",
    "test_cfg = {'dataset' : {'dirpath': '../data/', 'keys': ['ssp585']}}\n",
    "test_data = plaingp.make_data(test_cfg)"
   ]
  },
  {
   "cell_type": "code",
   "execution_count": 19,
   "id": "71ffe7fb",
   "metadata": {},
   "outputs": [
    {
     "data": {
      "text/plain": [
       "LinearRegression()"
      ]
     },
     "execution_count": 19,
     "metadata": {},
     "output_type": "execute_result"
    }
   ],
   "source": [
    "scenarios = train_data.scenarios\n",
    "all_tas = scenarios.tas\n",
    "wlat = torch.cos(torch.deg2rad(scenarios[0].lat)).clip(min=torch.finfo(torch.float64).eps)[:, None]\n",
    "glob_tas = weighted_mean(all_tas, wlat)\n",
    "\n",
    "pattern_scaling = LinearRegression()\n",
    "pattern_scaling.fit(glob_tas[:, None], all_tas.reshape(all_tas.size(0), -1))"
   ]
  },
  {
   "cell_type": "code",
   "execution_count": 20,
   "id": "813d32ea",
   "metadata": {},
   "outputs": [],
   "source": [
    "time_slice = slice(-21, None)\n",
    "\n",
    "pred = compute_means(test_data.scenarios, pattern_scaling)['ssp585']\n",
    "metrics_ssp585 = compute_deterministic_metrics(pred[time_slice],\n",
    "                                               test_data.scenarios[0].tas[time_slice],\n",
    "                                               wlat)"
   ]
  },
  {
   "cell_type": "code",
   "execution_count": 21,
   "id": "9d2f4b1b",
   "metadata": {},
   "outputs": [],
   "source": [
    "metrics_pattern_scaling = [metrics_ssp126, metrics_ssp245, metrics_ssp370, metrics_ssp585]\n",
    "scores_pattern_scaling = pd.DataFrame(metrics_pattern_scaling)\n",
    "scores_pattern_scaling.index = ssps\n",
    "scores_pattern_scaling.index.name = 'SSP'"
   ]
  },
  {
   "cell_type": "code",
   "execution_count": 22,
   "id": "fe1d0a52",
   "metadata": {},
   "outputs": [],
   "source": [
    "metrics_pattern_scaling = [metrics_ssp126, metrics_ssp245, metrics_ssp370, metrics_ssp585]\n",
    "scores_pattern_scaling = pd.DataFrame(metrics_pattern_scaling)\n",
    "scores_pattern_scaling.index = ssps\n",
    "scores_pattern_scaling.index.name = 'SSP'"
   ]
  },
  {
   "cell_type": "code",
   "execution_count": 23,
   "id": "f16a5485",
   "metadata": {},
   "outputs": [
    {
     "data": {
      "text/html": [
       "<div>\n",
       "<style scoped>\n",
       "    .dataframe tbody tr th:only-of-type {\n",
       "        vertical-align: middle;\n",
       "    }\n",
       "\n",
       "    .dataframe tbody tr th {\n",
       "        vertical-align: top;\n",
       "    }\n",
       "\n",
       "    .dataframe thead th {\n",
       "        text-align: right;\n",
       "    }\n",
       "</style>\n",
       "<table border=\"1\" class=\"dataframe\">\n",
       "  <thead>\n",
       "    <tr style=\"text-align: right;\">\n",
       "      <th></th>\n",
       "      <th>mb</th>\n",
       "      <th>rmse</th>\n",
       "      <th>mae</th>\n",
       "      <th>corr</th>\n",
       "    </tr>\n",
       "    <tr>\n",
       "      <th>SSP</th>\n",
       "      <th></th>\n",
       "      <th></th>\n",
       "      <th></th>\n",
       "      <th></th>\n",
       "    </tr>\n",
       "  </thead>\n",
       "  <tbody>\n",
       "    <tr>\n",
       "      <th>SSP126</th>\n",
       "      <td>0.017865</td>\n",
       "      <td>0.673905</td>\n",
       "      <td>0.485556</td>\n",
       "      <td>0.775864</td>\n",
       "    </tr>\n",
       "    <tr>\n",
       "      <th>SSP245</th>\n",
       "      <td>-0.048413</td>\n",
       "      <td>0.371226</td>\n",
       "      <td>0.272364</td>\n",
       "      <td>0.966141</td>\n",
       "    </tr>\n",
       "    <tr>\n",
       "      <th>SSP370</th>\n",
       "      <td>-0.100107</td>\n",
       "      <td>0.662458</td>\n",
       "      <td>0.483243</td>\n",
       "      <td>0.944825</td>\n",
       "    </tr>\n",
       "    <tr>\n",
       "      <th>SSP585</th>\n",
       "      <td>-0.409348</td>\n",
       "      <td>0.810060</td>\n",
       "      <td>0.596556</td>\n",
       "      <td>0.966578</td>\n",
       "    </tr>\n",
       "  </tbody>\n",
       "</table>\n",
       "</div>"
      ],
      "text/plain": [
       "              mb      rmse       mae      corr\n",
       "SSP                                           \n",
       "SSP126  0.017865  0.673905  0.485556  0.775864\n",
       "SSP245 -0.048413  0.371226  0.272364  0.966141\n",
       "SSP370 -0.100107  0.662458  0.483243  0.944825\n",
       "SSP585 -0.409348  0.810060  0.596556  0.966578"
      ]
     },
     "execution_count": 23,
     "metadata": {},
     "output_type": "execute_result"
    }
   ],
   "source": [
    "scores_pattern_scaling"
   ]
  },
  {
   "cell_type": "markdown",
   "id": "35d5bd40",
   "metadata": {},
   "source": [
    "## PlainGP"
   ]
  },
  {
   "cell_type": "markdown",
   "id": "77ff0495",
   "metadata": {},
   "source": [
    "### SSP126"
   ]
  },
  {
   "cell_type": "code",
   "execution_count": 24,
   "id": "e81e9b40",
   "metadata": {},
   "outputs": [
    {
     "data": {
      "text/plain": [
       "<All keys matched successfully>"
      ]
     },
     "execution_count": 24,
     "metadata": {},
     "output_type": "execute_result"
    }
   ],
   "source": [
    "train_cfg = {'dataset' : {'dirpath': '../data/', 'keys': ['historical', 'ssp245', 'ssp370', 'ssp585']}}\n",
    "train_data = plaingp.make_data(train_cfg)\n",
    "\n",
    "test_cfg = {'dataset' : {'dirpath': '../data/', 'keys': ['ssp126']}}\n",
    "test_data = plaingp.make_data(test_cfg)\n",
    "\n",
    "model = plaingp.make_model(train_cfg, train_data)\n",
    "state_dict = torch.load('../data/models/leave-one-out-ssp/ssp126/SpatialPlainGP/state_dict.pt')\n",
    "model.load_state_dict(state_dict)"
   ]
  },
  {
   "cell_type": "code",
   "execution_count": 25,
   "id": "6df21bb5",
   "metadata": {},
   "outputs": [],
   "source": [
    "test_scenarios = test_data.scenarios\n",
    "Xtest = test_scenarios.glob_inputs[:, 1:]\n",
    "Xtest = (Xtest - model.mu) / model.sigma\n",
    "test_tas = test_scenarios.tas\n",
    "model = model.eval()"
   ]
  },
  {
   "cell_type": "code",
   "execution_count": 26,
   "id": "5906e3b8",
   "metadata": {},
   "outputs": [],
   "source": [
    "with torch.no_grad():\n",
    "    posterior = model.posterior(Xtest, diag=False)\n",
    "    posterior = model.likelihood(posterior)"
   ]
  },
  {
   "cell_type": "code",
   "execution_count": 27,
   "id": "14cd3cbe",
   "metadata": {},
   "outputs": [],
   "source": [
    "nlat = len(test_scenarios[0].lat)\n",
    "nlon = len(test_scenarios[0].lon)\n",
    "ntimes = len(test_scenarios[0].timesteps)\n",
    "time_slice = slice(-21, None)\n",
    "\n",
    "prior_mean = model.mu_targets.view(1, nlat, nlon).repeat(ntimes, 1, 1)\n",
    "posterior_mean = posterior.mean.reshape(nlat, nlon, -1).permute(2, 0, 1)\n",
    "posterior_correction =  model.sigma_targets.view(1, nlat, nlon) * posterior_mean\n",
    "posterior_mean = prior_mean + posterior_mean\n",
    "\n",
    "posterior_stddev = posterior.stddev.reshape(nlat, nlon, -1).permute(2, 0, 1)\n",
    "posterior_stddev = model.sigma_targets.view(1, nlat, nlon) * posterior_stddev\n",
    "\n",
    "prediction = torch.distributions.Normal(posterior_mean[time_slice], posterior_stddev[time_slice])\n",
    "groundtruth = test_tas[time_slice]\n",
    "wlat = torch.cos(torch.deg2rad(test_scenarios[0].lat)).clip(min=torch.finfo(torch.float64).eps)[:, None]"
   ]
  },
  {
   "cell_type": "code",
   "execution_count": 28,
   "id": "24c881c7",
   "metadata": {},
   "outputs": [],
   "source": [
    "metrics_ssp126 = {**compute_deterministic_metrics(prediction.mean, groundtruth, wlat),\n",
    "                  **compute_probabilistic_metrics(prediction, groundtruth, wlat)}"
   ]
  },
  {
   "cell_type": "markdown",
   "id": "b8cc39c8",
   "metadata": {},
   "source": [
    "### SSP245"
   ]
  },
  {
   "cell_type": "code",
   "execution_count": 29,
   "id": "25fca91f",
   "metadata": {},
   "outputs": [
    {
     "data": {
      "text/plain": [
       "<All keys matched successfully>"
      ]
     },
     "execution_count": 29,
     "metadata": {},
     "output_type": "execute_result"
    }
   ],
   "source": [
    "train_cfg = {'dataset' : {'dirpath': '../data/', 'keys': ['historical', 'ssp126', 'ssp370', 'ssp585']}}\n",
    "train_data = plaingp.make_data(train_cfg)\n",
    "\n",
    "test_cfg = {'dataset' : {'dirpath': '../data/', 'keys': ['ssp245']}}\n",
    "test_data = plaingp.make_data(test_cfg)\n",
    "\n",
    "model = plaingp.make_model(train_cfg, train_data)\n",
    "state_dict = torch.load('../data/models/leave-one-out-ssp/ssp245/SpatialPlainGP/state_dict.pt')\n",
    "model.load_state_dict(state_dict)"
   ]
  },
  {
   "cell_type": "code",
   "execution_count": 30,
   "id": "deadcf14",
   "metadata": {},
   "outputs": [],
   "source": [
    "test_scenarios = test_data.scenarios\n",
    "Xtest = test_scenarios.glob_inputs[:, 1:]\n",
    "Xtest = (Xtest - model.mu) / model.sigma\n",
    "test_tas = test_scenarios.tas\n",
    "model = model.eval()"
   ]
  },
  {
   "cell_type": "code",
   "execution_count": 31,
   "id": "4d5afbe4",
   "metadata": {},
   "outputs": [],
   "source": [
    "with torch.no_grad():\n",
    "    posterior = model.posterior(Xtest, diag=False)\n",
    "    posterior = model.likelihood(posterior)"
   ]
  },
  {
   "cell_type": "code",
   "execution_count": 32,
   "id": "9de5aab2",
   "metadata": {},
   "outputs": [],
   "source": [
    "nlat = len(test_scenarios[0].lat)\n",
    "nlon = len(test_scenarios[0].lon)\n",
    "ntimes = len(test_scenarios[0].timesteps)\n",
    "time_slice = slice(-21, None)\n",
    "\n",
    "prior_mean = model.mu_targets.view(1, nlat, nlon).repeat(ntimes, 1, 1)\n",
    "posterior_mean = posterior.mean.reshape(nlat, nlon, -1).permute(2, 0, 1)\n",
    "posterior_correction =  model.sigma_targets.view(1, nlat, nlon) * posterior_mean\n",
    "posterior_mean = prior_mean + posterior_mean\n",
    "\n",
    "posterior_stddev = posterior.stddev.reshape(nlat, nlon, -1).permute(2, 0, 1)\n",
    "posterior_stddev = model.sigma_targets.view(1, nlat, nlon) * posterior_stddev\n",
    "\n",
    "prediction = torch.distributions.Normal(posterior_mean[time_slice], posterior_stddev[time_slice])\n",
    "groundtruth = test_tas[time_slice]\n",
    "wlat = torch.cos(torch.deg2rad(test_scenarios[0].lat)).clip(min=torch.finfo(torch.float64).eps)[:, None]"
   ]
  },
  {
   "cell_type": "code",
   "execution_count": 33,
   "id": "a848c26b",
   "metadata": {},
   "outputs": [],
   "source": [
    "metrics_ssp245 = {**compute_deterministic_metrics(prediction.mean, groundtruth, wlat),\n",
    "                  **compute_probabilistic_metrics(prediction, groundtruth, wlat)}"
   ]
  },
  {
   "cell_type": "markdown",
   "id": "82678ed2",
   "metadata": {},
   "source": [
    "### SSP370"
   ]
  },
  {
   "cell_type": "code",
   "execution_count": 34,
   "id": "77d51fa2",
   "metadata": {},
   "outputs": [
    {
     "data": {
      "text/plain": [
       "<All keys matched successfully>"
      ]
     },
     "execution_count": 34,
     "metadata": {},
     "output_type": "execute_result"
    }
   ],
   "source": [
    "train_cfg = {'dataset' : {'dirpath': '../data/', 'keys': ['historical', 'ssp126', 'ssp245', 'ssp585']}}\n",
    "train_data = plaingp.make_data(train_cfg)\n",
    "\n",
    "test_cfg = {'dataset' : {'dirpath': '../data/', 'keys': ['ssp370']}}\n",
    "test_data = plaingp.make_data(test_cfg)\n",
    "\n",
    "model = plaingp.make_model(train_cfg, train_data)\n",
    "state_dict = torch.load('../data/models/leave-one-out-ssp/ssp370/SpatialPlainGP/state_dict.pt')\n",
    "model.load_state_dict(state_dict)"
   ]
  },
  {
   "cell_type": "code",
   "execution_count": 35,
   "id": "c2bd0576",
   "metadata": {},
   "outputs": [],
   "source": [
    "test_scenarios = test_data.scenarios\n",
    "Xtest = test_scenarios.glob_inputs[:, 1:]\n",
    "Xtest = (Xtest - model.mu) / model.sigma\n",
    "test_tas = test_scenarios.tas\n",
    "model = model.eval()"
   ]
  },
  {
   "cell_type": "code",
   "execution_count": 36,
   "id": "349e1504",
   "metadata": {},
   "outputs": [],
   "source": [
    "with torch.no_grad():\n",
    "    posterior = model.posterior(Xtest, diag=False)\n",
    "    posterior = model.likelihood(posterior)"
   ]
  },
  {
   "cell_type": "code",
   "execution_count": 37,
   "id": "42369b3e",
   "metadata": {},
   "outputs": [],
   "source": [
    "nlat = len(test_scenarios[0].lat)\n",
    "nlon = len(test_scenarios[0].lon)\n",
    "ntimes = len(test_scenarios[0].timesteps)\n",
    "time_slice = slice(-21, None)\n",
    "\n",
    "prior_mean = model.mu_targets.view(1, nlat, nlon).repeat(ntimes, 1, 1)\n",
    "posterior_mean = posterior.mean.reshape(nlat, nlon, -1).permute(2, 0, 1)\n",
    "posterior_correction =  model.sigma_targets.view(1, nlat, nlon) * posterior_mean\n",
    "posterior_mean = prior_mean + posterior_mean\n",
    "\n",
    "posterior_stddev = posterior.stddev.reshape(nlat, nlon, -1).permute(2, 0, 1)\n",
    "posterior_stddev = model.sigma_targets.view(1, nlat, nlon) * posterior_stddev\n",
    "\n",
    "prediction = torch.distributions.Normal(posterior_mean[time_slice], posterior_stddev[time_slice])\n",
    "groundtruth = test_tas[time_slice]\n",
    "wlat = torch.cos(torch.deg2rad(test_scenarios[0].lat)).clip(min=torch.finfo(torch.float64).eps)[:, None]"
   ]
  },
  {
   "cell_type": "code",
   "execution_count": 38,
   "id": "a72f8b11",
   "metadata": {},
   "outputs": [],
   "source": [
    "metrics_ssp370 = {**compute_deterministic_metrics(prediction.mean, groundtruth, wlat),\n",
    "                  **compute_probabilistic_metrics(prediction, groundtruth, wlat)}"
   ]
  },
  {
   "cell_type": "markdown",
   "id": "04ff198c",
   "metadata": {},
   "source": [
    "### SSP585"
   ]
  },
  {
   "cell_type": "code",
   "execution_count": 39,
   "id": "44441d52",
   "metadata": {},
   "outputs": [
    {
     "data": {
      "text/plain": [
       "<All keys matched successfully>"
      ]
     },
     "execution_count": 39,
     "metadata": {},
     "output_type": "execute_result"
    }
   ],
   "source": [
    "train_cfg = {'dataset' : {'dirpath': '../data/', 'keys': ['historical', 'ssp126', 'ssp245', 'ssp370']}}\n",
    "train_data = plaingp.make_data(train_cfg)\n",
    "\n",
    "test_cfg = {'dataset' : {'dirpath': '../data/', 'keys': ['ssp585']}}\n",
    "test_data = plaingp.make_data(test_cfg)\n",
    "\n",
    "model = plaingp.make_model(train_cfg, train_data)\n",
    "state_dict = torch.load('../data/models/leave-one-out-ssp/ssp585/SpatialPlainGP/state_dict.pt')\n",
    "model.load_state_dict(state_dict)"
   ]
  },
  {
   "cell_type": "code",
   "execution_count": 40,
   "id": "69208419",
   "metadata": {},
   "outputs": [],
   "source": [
    "test_scenarios = test_data.scenarios\n",
    "Xtest = test_scenarios.glob_inputs[:, 1:]\n",
    "Xtest = (Xtest - model.mu) / model.sigma\n",
    "test_tas = test_scenarios.tas\n",
    "model = model.eval()"
   ]
  },
  {
   "cell_type": "code",
   "execution_count": 41,
   "id": "def90658",
   "metadata": {},
   "outputs": [],
   "source": [
    "with torch.no_grad():\n",
    "    posterior = model.posterior(Xtest, diag=False)\n",
    "    posterior = model.likelihood(posterior)"
   ]
  },
  {
   "cell_type": "code",
   "execution_count": 42,
   "id": "e99c7b8c",
   "metadata": {},
   "outputs": [],
   "source": [
    "nlat = len(test_scenarios[0].lat)\n",
    "nlon = len(test_scenarios[0].lon)\n",
    "ntimes = len(test_scenarios[0].timesteps)\n",
    "time_slice = slice(-21, None)\n",
    "\n",
    "prior_mean = model.mu_targets.view(1, nlat, nlon).repeat(ntimes, 1, 1)\n",
    "posterior_mean = posterior.mean.reshape(nlat, nlon, -1).permute(2, 0, 1)\n",
    "posterior_correction =  model.sigma_targets.view(1, nlat, nlon) * posterior_mean\n",
    "posterior_mean = prior_mean + posterior_mean\n",
    "\n",
    "posterior_stddev = posterior.stddev.reshape(nlat, nlon, -1).permute(2, 0, 1)\n",
    "posterior_stddev = model.sigma_targets.view(1, nlat, nlon) * posterior_stddev\n",
    "\n",
    "prediction = torch.distributions.Normal(posterior_mean[time_slice], posterior_stddev[time_slice])\n",
    "groundtruth = test_tas[time_slice]\n",
    "wlat = torch.cos(torch.deg2rad(test_scenarios[0].lat)).clip(min=torch.finfo(torch.float64).eps)[:, None]"
   ]
  },
  {
   "cell_type": "code",
   "execution_count": 43,
   "id": "25604dd2",
   "metadata": {},
   "outputs": [],
   "source": [
    "metrics_ssp585 = {**compute_deterministic_metrics(prediction.mean, groundtruth, wlat),\n",
    "                  **compute_probabilistic_metrics(prediction, groundtruth, wlat)}"
   ]
  },
  {
   "cell_type": "code",
   "execution_count": 44,
   "id": "6301bb2f",
   "metadata": {},
   "outputs": [
    {
     "data": {
      "text/html": [
       "<div>\n",
       "<style scoped>\n",
       "    .dataframe tbody tr th:only-of-type {\n",
       "        vertical-align: middle;\n",
       "    }\n",
       "\n",
       "    .dataframe tbody tr th {\n",
       "        vertical-align: top;\n",
       "    }\n",
       "\n",
       "    .dataframe thead th {\n",
       "        text-align: right;\n",
       "    }\n",
       "</style>\n",
       "<table border=\"1\" class=\"dataframe\">\n",
       "  <thead>\n",
       "    <tr style=\"text-align: right;\">\n",
       "      <th></th>\n",
       "      <th>mb</th>\n",
       "      <th>rmse</th>\n",
       "      <th>mae</th>\n",
       "      <th>corr</th>\n",
       "      <th>ll</th>\n",
       "      <th>calib95</th>\n",
       "      <th>CRPS</th>\n",
       "    </tr>\n",
       "    <tr>\n",
       "      <th>SSP</th>\n",
       "      <th></th>\n",
       "      <th></th>\n",
       "      <th></th>\n",
       "      <th></th>\n",
       "      <th></th>\n",
       "      <th></th>\n",
       "      <th></th>\n",
       "    </tr>\n",
       "  </thead>\n",
       "  <tbody>\n",
       "    <tr>\n",
       "      <th>SSP126</th>\n",
       "      <td>0.112992</td>\n",
       "      <td>0.675618</td>\n",
       "      <td>0.486972</td>\n",
       "      <td>0.786125</td>\n",
       "      <td>-1.240330</td>\n",
       "      <td>0.864899</td>\n",
       "      <td>0.357551</td>\n",
       "    </tr>\n",
       "    <tr>\n",
       "      <th>SSP245</th>\n",
       "      <td>-0.146242</td>\n",
       "      <td>0.553857</td>\n",
       "      <td>0.395803</td>\n",
       "      <td>0.955901</td>\n",
       "      <td>-0.714520</td>\n",
       "      <td>0.947532</td>\n",
       "      <td>0.279655</td>\n",
       "    </tr>\n",
       "    <tr>\n",
       "      <th>SSP370</th>\n",
       "      <td>-0.268145</td>\n",
       "      <td>1.108343</td>\n",
       "      <td>0.810000</td>\n",
       "      <td>0.909650</td>\n",
       "      <td>-2.560269</td>\n",
       "      <td>0.712090</td>\n",
       "      <td>0.606140</td>\n",
       "    </tr>\n",
       "    <tr>\n",
       "      <th>SSP585</th>\n",
       "      <td>-0.271968</td>\n",
       "      <td>1.779781</td>\n",
       "      <td>1.296891</td>\n",
       "      <td>0.744651</td>\n",
       "      <td>-5.306279</td>\n",
       "      <td>0.629173</td>\n",
       "      <td>1.006176</td>\n",
       "    </tr>\n",
       "  </tbody>\n",
       "</table>\n",
       "</div>"
      ],
      "text/plain": [
       "              mb      rmse       mae      corr        ll   calib95      CRPS\n",
       "SSP                                                                         \n",
       "SSP126  0.112992  0.675618  0.486972  0.786125 -1.240330  0.864899  0.357551\n",
       "SSP245 -0.146242  0.553857  0.395803  0.955901 -0.714520  0.947532  0.279655\n",
       "SSP370 -0.268145  1.108343  0.810000  0.909650 -2.560269  0.712090  0.606140\n",
       "SSP585 -0.271968  1.779781  1.296891  0.744651 -5.306279  0.629173  1.006176"
      ]
     },
     "execution_count": 44,
     "metadata": {},
     "output_type": "execute_result"
    }
   ],
   "source": [
    "metrics_plaingp = [metrics_ssp126, metrics_ssp245, metrics_ssp370, metrics_ssp585]\n",
    "scores_plaingp = pd.DataFrame(metrics_plaingp)\n",
    "scores_plaingp.index = ssps\n",
    "scores_plaingp.index.name = 'SSP'\n",
    "scores_plaingp"
   ]
  },
  {
   "cell_type": "markdown",
   "id": "d43b2b4e",
   "metadata": {},
   "source": [
    "# FaIRGP"
   ]
  },
  {
   "cell_type": "markdown",
   "id": "6a378b8a",
   "metadata": {},
   "source": [
    "### SSP126"
   ]
  },
  {
   "cell_type": "code",
   "execution_count": 45,
   "id": "02fd6435",
   "metadata": {},
   "outputs": [
    {
     "data": {
      "text/plain": [
       "<All keys matched successfully>"
      ]
     },
     "execution_count": 45,
     "metadata": {},
     "output_type": "execute_result"
    }
   ],
   "source": [
    "train_cfg = {'dataset' : {'dirpath': '../data/', 'keys': ['historical', 'ssp245', 'ssp370', 'ssp585']}}\n",
    "train_data = fairgp.make_data(train_cfg)\n",
    "\n",
    "test_cfg = {'dataset' : {'dirpath': '../data/', 'keys': ['ssp126']}}\n",
    "test_data = fairgp.make_data(test_cfg)\n",
    "\n",
    "model = fairgp.make_model(train_cfg, train_data)\n",
    "state_dict = torch.load('../data/models/leave-one-out-ssp/ssp126/SpatialFaIRGP/state_dict.pt')\n",
    "model.load_state_dict(state_dict)"
   ]
  },
  {
   "cell_type": "code",
   "execution_count": 46,
   "id": "7214d4ce",
   "metadata": {},
   "outputs": [],
   "source": [
    "test_scenarios = test_data.scenarios\n",
    "test_tas = test_scenarios.tas\n",
    "\n",
    "model = model.eval()\n",
    "with torch.no_grad():\n",
    "    posterior = model.posterior(test_scenarios, diag=False)\n",
    "    posterior = model.likelihood(posterior)"
   ]
  },
  {
   "cell_type": "code",
   "execution_count": 47,
   "id": "b901721f",
   "metadata": {},
   "outputs": [],
   "source": [
    "nlat = len(test_scenarios[0].lat)\n",
    "nlon = len(test_scenarios[0].lon)\n",
    "time_slice = slice(-21, None)\n",
    "\n",
    "prior_mean = model._compute_means(test_scenarios)['ssp126']\n",
    "posterior_mean = posterior.mean.reshape(nlat, nlon, -1).permute(2, 0, 1)\n",
    "posterior_correction = model.mu_targets + model.sigma_targets * posterior_mean\n",
    "posterior_correction = model.beta.unsqueeze(0) * posterior_correction\n",
    "posterior_mean = prior_mean + posterior_correction\n",
    "\n",
    "posterior_stddev = posterior.stddev.reshape(nlat, nlon, -1).permute(2, 0, 1)\n",
    "posterior_stddev = model.sigma_targets * posterior_stddev * torch.abs(model.beta.unsqueeze(0))\n",
    "\n",
    "prediction = torch.distributions.Normal(posterior_mean[time_slice], posterior_stddev[time_slice])\n",
    "groundtruth = test_tas[time_slice]"
   ]
  },
  {
   "cell_type": "code",
   "execution_count": 48,
   "id": "e8432796",
   "metadata": {},
   "outputs": [],
   "source": [
    "metrics_ssp126 = {**compute_deterministic_metrics(prediction.mean, groundtruth, wlat),\n",
    "                  **compute_probabilistic_metrics(prediction, groundtruth, wlat)}"
   ]
  },
  {
   "cell_type": "markdown",
   "id": "d1374055",
   "metadata": {},
   "source": [
    "### SSP245"
   ]
  },
  {
   "cell_type": "code",
   "execution_count": 49,
   "id": "f462ab40",
   "metadata": {},
   "outputs": [
    {
     "data": {
      "text/plain": [
       "<All keys matched successfully>"
      ]
     },
     "execution_count": 49,
     "metadata": {},
     "output_type": "execute_result"
    }
   ],
   "source": [
    "train_cfg = {'dataset' : {'dirpath': '../data/', 'keys': ['historical', 'ssp126', 'ssp370', 'ssp585']}}\n",
    "train_data = fairgp.make_data(train_cfg)\n",
    "\n",
    "test_cfg = {'dataset' : {'dirpath': '../data/', 'keys': ['ssp245']}}\n",
    "test_data = fairgp.make_data(test_cfg)\n",
    "\n",
    "model = fairgp.make_model(train_cfg, train_data)\n",
    "state_dict = torch.load('../data/models/leave-one-out-ssp/ssp245/SpatialFaIRGP/state_dict.pt')\n",
    "model.load_state_dict(state_dict)"
   ]
  },
  {
   "cell_type": "code",
   "execution_count": 50,
   "id": "0c477f8c",
   "metadata": {},
   "outputs": [],
   "source": [
    "test_scenarios = test_data.scenarios\n",
    "test_tas = test_scenarios.tas\n",
    "\n",
    "model = model.eval()\n",
    "with torch.no_grad():\n",
    "    posterior = model.posterior(test_scenarios, diag=False)\n",
    "    posterior = model.likelihood(posterior)"
   ]
  },
  {
   "cell_type": "code",
   "execution_count": 51,
   "id": "e3a541ec",
   "metadata": {},
   "outputs": [],
   "source": [
    "nlat = len(test_scenarios[0].lat)\n",
    "nlon = len(test_scenarios[0].lon)\n",
    "time_slice = slice(-21, None)\n",
    "\n",
    "prior_mean = model._compute_means(test_scenarios)['ssp245']\n",
    "posterior_mean = posterior.mean.reshape(nlat, nlon, -1).permute(2, 0, 1)\n",
    "posterior_correction = model.mu_targets + model.sigma_targets * posterior_mean\n",
    "posterior_correction = model.beta.unsqueeze(0) * posterior_correction\n",
    "posterior_mean = prior_mean + posterior_correction\n",
    "\n",
    "posterior_stddev = posterior.stddev.reshape(nlat, nlon, -1).permute(2, 0, 1)\n",
    "posterior_stddev = model.sigma_targets * posterior_stddev * torch.abs(model.beta.unsqueeze(0))\n",
    "\n",
    "prediction = torch.distributions.Normal(posterior_mean[time_slice], posterior_stddev[time_slice])\n",
    "groundtruth = test_tas[time_slice]"
   ]
  },
  {
   "cell_type": "code",
   "execution_count": 52,
   "id": "6dd3b644",
   "metadata": {},
   "outputs": [],
   "source": [
    "metrics_ssp245 = {**compute_deterministic_metrics(prediction.mean, groundtruth, wlat),\n",
    "                  **compute_probabilistic_metrics(prediction, groundtruth, wlat)}"
   ]
  },
  {
   "cell_type": "markdown",
   "id": "4f29fc44",
   "metadata": {},
   "source": [
    "### SSP370"
   ]
  },
  {
   "cell_type": "code",
   "execution_count": 53,
   "id": "16916f76",
   "metadata": {},
   "outputs": [
    {
     "data": {
      "text/plain": [
       "<All keys matched successfully>"
      ]
     },
     "execution_count": 53,
     "metadata": {},
     "output_type": "execute_result"
    }
   ],
   "source": [
    "train_cfg = {'dataset' : {'dirpath': '../data/', 'keys': ['historical', 'ssp126', 'ssp245', 'ssp585']}}\n",
    "train_data = fairgp.make_data(train_cfg)\n",
    "\n",
    "test_cfg = {'dataset' : {'dirpath': '../data/', 'keys': ['ssp370']}}\n",
    "test_data = fairgp.make_data(test_cfg)\n",
    "\n",
    "model = fairgp.make_model(train_cfg, train_data)\n",
    "state_dict = torch.load('../data/models/leave-one-out-ssp/ssp370/SpatialFaIRGP/state_dict.pt')\n",
    "model.load_state_dict(state_dict)"
   ]
  },
  {
   "cell_type": "code",
   "execution_count": 54,
   "id": "a43586d1",
   "metadata": {},
   "outputs": [],
   "source": [
    "test_scenarios = test_data.scenarios\n",
    "test_tas = test_scenarios.tas\n",
    "\n",
    "model = model.eval()\n",
    "with torch.no_grad():\n",
    "    posterior = model.posterior(test_scenarios, diag=False)\n",
    "    posterior = model.likelihood(posterior)"
   ]
  },
  {
   "cell_type": "code",
   "execution_count": 55,
   "id": "6c1b8bde",
   "metadata": {},
   "outputs": [],
   "source": [
    "nlat = len(test_scenarios[0].lat)\n",
    "nlon = len(test_scenarios[0].lon)\n",
    "time_slice = slice(-21, None)\n",
    "\n",
    "prior_mean = model._compute_means(test_scenarios)['ssp370']\n",
    "posterior_mean = posterior.mean.reshape(nlat, nlon, -1).permute(2, 0, 1)\n",
    "posterior_correction = model.mu_targets + model.sigma_targets * posterior_mean\n",
    "posterior_correction = model.beta.unsqueeze(0) * posterior_correction\n",
    "posterior_mean = prior_mean + posterior_correction\n",
    "\n",
    "posterior_stddev = posterior.stddev.reshape(nlat, nlon, -1).permute(2, 0, 1)\n",
    "posterior_stddev = model.sigma_targets * posterior_stddev * torch.abs(model.beta.unsqueeze(0))\n",
    "\n",
    "prediction = torch.distributions.Normal(posterior_mean[time_slice], posterior_stddev[time_slice])\n",
    "groundtruth = test_tas[time_slice]"
   ]
  },
  {
   "cell_type": "code",
   "execution_count": 56,
   "id": "8fe27f99",
   "metadata": {},
   "outputs": [],
   "source": [
    "metrics_ssp370 = {**compute_deterministic_metrics(prediction.mean, groundtruth, wlat),\n",
    "                  **compute_probabilistic_metrics(prediction, groundtruth, wlat)}"
   ]
  },
  {
   "cell_type": "markdown",
   "id": "f2e00729",
   "metadata": {},
   "source": [
    "### SSP585"
   ]
  },
  {
   "cell_type": "code",
   "execution_count": 57,
   "id": "e411f3ae",
   "metadata": {},
   "outputs": [
    {
     "data": {
      "text/plain": [
       "<All keys matched successfully>"
      ]
     },
     "execution_count": 57,
     "metadata": {},
     "output_type": "execute_result"
    }
   ],
   "source": [
    "train_cfg = {'dataset' : {'dirpath': '../data/', 'keys': ['historical', 'ssp126', 'ssp245', 'ssp370']}}\n",
    "train_data = fairgp.make_data(train_cfg)\n",
    "\n",
    "test_cfg = {'dataset' : {'dirpath': '../data/', 'keys': ['ssp585']}}\n",
    "test_data = fairgp.make_data(test_cfg)\n",
    "\n",
    "model = fairgp.make_model(train_cfg, train_data)\n",
    "state_dict = torch.load('../data/models/leave-one-out-ssp/ssp585/SpatialFaIRGP/state_dict.pt')\n",
    "model.load_state_dict(state_dict)"
   ]
  },
  {
   "cell_type": "code",
   "execution_count": 58,
   "id": "40e4e8a3",
   "metadata": {},
   "outputs": [],
   "source": [
    "test_scenarios = test_data.scenarios\n",
    "test_tas = test_scenarios.tas\n",
    "\n",
    "model = model.eval()\n",
    "with torch.no_grad():\n",
    "    posterior = model.posterior(test_scenarios, diag=False)\n",
    "    posterior = model.likelihood(posterior)"
   ]
  },
  {
   "cell_type": "code",
   "execution_count": 59,
   "id": "cb57f243",
   "metadata": {},
   "outputs": [],
   "source": [
    "nlat = len(test_scenarios[0].lat)\n",
    "nlon = len(test_scenarios[0].lon)\n",
    "time_slice = slice(-21, None)\n",
    "\n",
    "prior_mean = model._compute_means(test_scenarios)['ssp585']\n",
    "posterior_mean = posterior.mean.reshape(nlat, nlon, -1).permute(2, 0, 1)\n",
    "posterior_correction = model.mu_targets + model.sigma_targets * posterior_mean\n",
    "posterior_correction = model.beta.unsqueeze(0) * posterior_correction\n",
    "posterior_mean = prior_mean + posterior_correction\n",
    "\n",
    "posterior_stddev = posterior.stddev.reshape(nlat, nlon, -1).permute(2, 0, 1)\n",
    "posterior_stddev = model.sigma_targets * posterior_stddev * torch.abs(model.beta.unsqueeze(0))\n",
    "\n",
    "prediction = torch.distributions.Normal(posterior_mean[time_slice], posterior_stddev[time_slice])\n",
    "groundtruth = test_tas[time_slice]"
   ]
  },
  {
   "cell_type": "code",
   "execution_count": 60,
   "id": "76a6503d",
   "metadata": {},
   "outputs": [],
   "source": [
    "metrics_ssp585 = {**compute_deterministic_metrics(prediction.mean, groundtruth, wlat),\n",
    "                  **compute_probabilistic_metrics(prediction, groundtruth, wlat)}"
   ]
  },
  {
   "cell_type": "code",
   "execution_count": 61,
   "id": "8f1b2b1c",
   "metadata": {},
   "outputs": [
    {
     "data": {
      "text/html": [
       "<div>\n",
       "<style scoped>\n",
       "    .dataframe tbody tr th:only-of-type {\n",
       "        vertical-align: middle;\n",
       "    }\n",
       "\n",
       "    .dataframe tbody tr th {\n",
       "        vertical-align: top;\n",
       "    }\n",
       "\n",
       "    .dataframe thead th {\n",
       "        text-align: right;\n",
       "    }\n",
       "</style>\n",
       "<table border=\"1\" class=\"dataframe\">\n",
       "  <thead>\n",
       "    <tr style=\"text-align: right;\">\n",
       "      <th></th>\n",
       "      <th>mb</th>\n",
       "      <th>rmse</th>\n",
       "      <th>mae</th>\n",
       "      <th>corr</th>\n",
       "      <th>ll</th>\n",
       "      <th>calib95</th>\n",
       "      <th>CRPS</th>\n",
       "    </tr>\n",
       "    <tr>\n",
       "      <th>SSP</th>\n",
       "      <th></th>\n",
       "      <th></th>\n",
       "      <th></th>\n",
       "      <th></th>\n",
       "      <th></th>\n",
       "      <th></th>\n",
       "      <th></th>\n",
       "    </tr>\n",
       "  </thead>\n",
       "  <tbody>\n",
       "    <tr>\n",
       "      <th>SSP126</th>\n",
       "      <td>0.028422</td>\n",
       "      <td>0.645861</td>\n",
       "      <td>0.465160</td>\n",
       "      <td>0.798938</td>\n",
       "      <td>-0.884064</td>\n",
       "      <td>0.858587</td>\n",
       "      <td>0.334499</td>\n",
       "    </tr>\n",
       "    <tr>\n",
       "      <th>SSP245</th>\n",
       "      <td>-0.025110</td>\n",
       "      <td>0.357439</td>\n",
       "      <td>0.261151</td>\n",
       "      <td>0.968298</td>\n",
       "      <td>-0.317328</td>\n",
       "      <td>0.995234</td>\n",
       "      <td>0.192620</td>\n",
       "    </tr>\n",
       "    <tr>\n",
       "      <th>SSP370</th>\n",
       "      <td>-0.059159</td>\n",
       "      <td>0.660676</td>\n",
       "      <td>0.478947</td>\n",
       "      <td>0.944079</td>\n",
       "      <td>-0.920739</td>\n",
       "      <td>0.854395</td>\n",
       "      <td>0.344719</td>\n",
       "    </tr>\n",
       "    <tr>\n",
       "      <th>SSP585</th>\n",
       "      <td>-0.349008</td>\n",
       "      <td>0.779046</td>\n",
       "      <td>0.568583</td>\n",
       "      <td>0.966606</td>\n",
       "      <td>-1.241063</td>\n",
       "      <td>0.782812</td>\n",
       "      <td>0.415220</td>\n",
       "    </tr>\n",
       "  </tbody>\n",
       "</table>\n",
       "</div>"
      ],
      "text/plain": [
       "              mb      rmse       mae      corr        ll   calib95      CRPS\n",
       "SSP                                                                         \n",
       "SSP126  0.028422  0.645861  0.465160  0.798938 -0.884064  0.858587  0.334499\n",
       "SSP245 -0.025110  0.357439  0.261151  0.968298 -0.317328  0.995234  0.192620\n",
       "SSP370 -0.059159  0.660676  0.478947  0.944079 -0.920739  0.854395  0.344719\n",
       "SSP585 -0.349008  0.779046  0.568583  0.966606 -1.241063  0.782812  0.415220"
      ]
     },
     "execution_count": 61,
     "metadata": {},
     "output_type": "execute_result"
    }
   ],
   "source": [
    "metrics_fairgp = [metrics_ssp126, metrics_ssp245, metrics_ssp370, metrics_ssp585]\n",
    "scores_fairgp = pd.DataFrame(metrics_fairgp)\n",
    "scores_fairgp.index = ssps\n",
    "scores_fairgp.index.name = 'SSP'\n",
    "scores_fairgp"
   ]
  },
  {
   "cell_type": "markdown",
   "id": "520b1a8b",
   "metadata": {},
   "source": [
    "---"
   ]
  },
  {
   "cell_type": "code",
   "execution_count": 62,
   "id": "8171fcce",
   "metadata": {},
   "outputs": [],
   "source": [
    "pattern_scaling_summary = scores_pattern_scaling.aggregate(['mean', 'std'])\n",
    "gp_summary = scores_plaingp.aggregate(['mean', 'std'])\n",
    "fairgp_summary = scores_fairgp.aggregate(['mean', 'std'])\n",
    "\n",
    "scores_pattern_scaling = pd.concat([scores_pattern_scaling, pattern_scaling_summary])\n",
    "scores_plaingp = pd.concat([scores_plaingp, gp_summary])\n",
    "scores_fairgp = pd.concat([scores_fairgp, fairgp_summary])"
   ]
  },
  {
   "cell_type": "code",
   "execution_count": 63,
   "id": "d62913f1",
   "metadata": {},
   "outputs": [],
   "source": [
    "scores_fairgp['Model'] = '2FaIRGP'\n",
    "scores_plaingp['Model'] = '1Plain GP'\n",
    "scores_pattern_scaling['Model'] = '0FaIR'\n",
    "metrics_cols = ['Bias', 'RMSE', 'MAE', 'Corr', 'LL', 'Calib95', 'CRPS']\n",
    "full_scores = pd.concat([scores_fairgp, scores_plaingp, scores_pattern_scaling]).sort_index().set_index('Model', append=True)\n",
    "full_scores.columns = metrics_cols\n",
    "full_scores = full_scores[['RMSE', 'MAE', 'Bias', 'Corr', 'LL', 'Calib95', 'CRPS']].sort_index().round(3)"
   ]
  },
  {
   "cell_type": "code",
   "execution_count": 65,
   "id": "e7c6a7e7",
   "metadata": {
    "scrolled": false
   },
   "outputs": [
    {
     "name": "stderr",
     "output_type": "stream",
     "text": [
      "/tmp/ipykernel_12791/3119819384.py:2: FutureWarning: In future versions `DataFrame.to_latex` is expected to utilise the base implementation of `Styler.to_latex` for formatting and rendering. The arguments signature may therefore change. It is recommended instead to use `DataFrame.style.to_latex` which also contains additional functionality.\n",
      "  results.to_latex('./tables/ssp-experiment-spatial-scores.tex')\n"
     ]
    },
    {
     "data": {
      "text/html": [
       "<div>\n",
       "<style scoped>\n",
       "    .dataframe tbody tr th:only-of-type {\n",
       "        vertical-align: middle;\n",
       "    }\n",
       "\n",
       "    .dataframe tbody tr th {\n",
       "        vertical-align: top;\n",
       "    }\n",
       "\n",
       "    .dataframe thead th {\n",
       "        text-align: right;\n",
       "    }\n",
       "</style>\n",
       "<table border=\"1\" class=\"dataframe\">\n",
       "  <thead>\n",
       "    <tr style=\"text-align: right;\">\n",
       "      <th></th>\n",
       "      <th></th>\n",
       "      <th>RMSE</th>\n",
       "      <th>MAE</th>\n",
       "      <th>Bias</th>\n",
       "      <th>LL</th>\n",
       "      <th>Calib95</th>\n",
       "      <th>CRPS</th>\n",
       "    </tr>\n",
       "    <tr>\n",
       "      <th></th>\n",
       "      <th>Model</th>\n",
       "      <th></th>\n",
       "      <th></th>\n",
       "      <th></th>\n",
       "      <th></th>\n",
       "      <th></th>\n",
       "      <th></th>\n",
       "    </tr>\n",
       "  </thead>\n",
       "  <tbody>\n",
       "    <tr>\n",
       "      <th rowspan=\"3\" valign=\"top\">SSP126</th>\n",
       "      <th>0FaIR</th>\n",
       "      <td>0.674</td>\n",
       "      <td>0.486</td>\n",
       "      <td>0.018</td>\n",
       "      <td>-</td>\n",
       "      <td>-</td>\n",
       "      <td>-</td>\n",
       "    </tr>\n",
       "    <tr>\n",
       "      <th>1Plain GP</th>\n",
       "      <td>0.676</td>\n",
       "      <td>0.487</td>\n",
       "      <td>0.113</td>\n",
       "      <td>-1.24</td>\n",
       "      <td>0.865</td>\n",
       "      <td>0.358</td>\n",
       "    </tr>\n",
       "    <tr>\n",
       "      <th>2FaIRGP</th>\n",
       "      <td>0.646</td>\n",
       "      <td>0.465</td>\n",
       "      <td>0.028</td>\n",
       "      <td>-0.884</td>\n",
       "      <td>0.859</td>\n",
       "      <td>0.334</td>\n",
       "    </tr>\n",
       "    <tr>\n",
       "      <th rowspan=\"3\" valign=\"top\">SSP245</th>\n",
       "      <th>0FaIR</th>\n",
       "      <td>0.371</td>\n",
       "      <td>0.272</td>\n",
       "      <td>-0.048</td>\n",
       "      <td>-</td>\n",
       "      <td>-</td>\n",
       "      <td>-</td>\n",
       "    </tr>\n",
       "    <tr>\n",
       "      <th>1Plain GP</th>\n",
       "      <td>0.554</td>\n",
       "      <td>0.396</td>\n",
       "      <td>-0.146</td>\n",
       "      <td>-0.715</td>\n",
       "      <td>0.948</td>\n",
       "      <td>0.28</td>\n",
       "    </tr>\n",
       "    <tr>\n",
       "      <th>2FaIRGP</th>\n",
       "      <td>0.357</td>\n",
       "      <td>0.261</td>\n",
       "      <td>-0.025</td>\n",
       "      <td>-0.317</td>\n",
       "      <td>0.995</td>\n",
       "      <td>0.193</td>\n",
       "    </tr>\n",
       "    <tr>\n",
       "      <th rowspan=\"3\" valign=\"top\">SSP370</th>\n",
       "      <th>0FaIR</th>\n",
       "      <td>0.662</td>\n",
       "      <td>0.483</td>\n",
       "      <td>-0.100</td>\n",
       "      <td>-</td>\n",
       "      <td>-</td>\n",
       "      <td>-</td>\n",
       "    </tr>\n",
       "    <tr>\n",
       "      <th>1Plain GP</th>\n",
       "      <td>1.108</td>\n",
       "      <td>0.810</td>\n",
       "      <td>-0.268</td>\n",
       "      <td>-2.56</td>\n",
       "      <td>0.712</td>\n",
       "      <td>0.606</td>\n",
       "    </tr>\n",
       "    <tr>\n",
       "      <th>2FaIRGP</th>\n",
       "      <td>0.661</td>\n",
       "      <td>0.479</td>\n",
       "      <td>-0.059</td>\n",
       "      <td>-0.921</td>\n",
       "      <td>0.854</td>\n",
       "      <td>0.345</td>\n",
       "    </tr>\n",
       "    <tr>\n",
       "      <th rowspan=\"3\" valign=\"top\">SSP585</th>\n",
       "      <th>0FaIR</th>\n",
       "      <td>0.810</td>\n",
       "      <td>0.597</td>\n",
       "      <td>-0.409</td>\n",
       "      <td>-</td>\n",
       "      <td>-</td>\n",
       "      <td>-</td>\n",
       "    </tr>\n",
       "    <tr>\n",
       "      <th>1Plain GP</th>\n",
       "      <td>1.780</td>\n",
       "      <td>1.297</td>\n",
       "      <td>-0.272</td>\n",
       "      <td>-5.306</td>\n",
       "      <td>0.629</td>\n",
       "      <td>1.006</td>\n",
       "    </tr>\n",
       "    <tr>\n",
       "      <th>2FaIRGP</th>\n",
       "      <td>0.779</td>\n",
       "      <td>0.569</td>\n",
       "      <td>-0.349</td>\n",
       "      <td>-1.241</td>\n",
       "      <td>0.783</td>\n",
       "      <td>0.415</td>\n",
       "    </tr>\n",
       "    <tr>\n",
       "      <th rowspan=\"3\" valign=\"top\">mean</th>\n",
       "      <th>0FaIR</th>\n",
       "      <td>0.629</td>\n",
       "      <td>0.459</td>\n",
       "      <td>-0.135</td>\n",
       "      <td>-</td>\n",
       "      <td>-</td>\n",
       "      <td>-</td>\n",
       "    </tr>\n",
       "    <tr>\n",
       "      <th>1Plain GP</th>\n",
       "      <td>1.029</td>\n",
       "      <td>0.747</td>\n",
       "      <td>-0.143</td>\n",
       "      <td>-2.455</td>\n",
       "      <td>0.788</td>\n",
       "      <td>0.562</td>\n",
       "    </tr>\n",
       "    <tr>\n",
       "      <th>2FaIRGP</th>\n",
       "      <td>0.611</td>\n",
       "      <td>0.443</td>\n",
       "      <td>-0.101</td>\n",
       "      <td>-0.841</td>\n",
       "      <td>0.873</td>\n",
       "      <td>0.322</td>\n",
       "    </tr>\n",
       "    <tr>\n",
       "      <th rowspan=\"3\" valign=\"top\">std</th>\n",
       "      <th>0FaIR</th>\n",
       "      <td>0.185</td>\n",
       "      <td>0.135</td>\n",
       "      <td>0.189</td>\n",
       "      <td>-</td>\n",
       "      <td>-</td>\n",
       "      <td>-</td>\n",
       "    </tr>\n",
       "    <tr>\n",
       "      <th>1Plain GP</th>\n",
       "      <td>0.554</td>\n",
       "      <td>0.407</td>\n",
       "      <td>0.181</td>\n",
       "      <td>2.053</td>\n",
       "      <td>0.144</td>\n",
       "      <td>0.327</td>\n",
       "    </tr>\n",
       "    <tr>\n",
       "      <th>2FaIRGP</th>\n",
       "      <td>0.179</td>\n",
       "      <td>0.130</td>\n",
       "      <td>0.169</td>\n",
       "      <td>0.384</td>\n",
       "      <td>0.089</td>\n",
       "      <td>0.093</td>\n",
       "    </tr>\n",
       "  </tbody>\n",
       "</table>\n",
       "</div>"
      ],
      "text/plain": [
       "                   RMSE    MAE   Bias     LL Calib95   CRPS\n",
       "       Model                                               \n",
       "SSP126 0FaIR      0.674  0.486  0.018      -       -      -\n",
       "       1Plain GP  0.676  0.487  0.113  -1.24   0.865  0.358\n",
       "       2FaIRGP    0.646  0.465  0.028 -0.884   0.859  0.334\n",
       "SSP245 0FaIR      0.371  0.272 -0.048      -       -      -\n",
       "       1Plain GP  0.554  0.396 -0.146 -0.715   0.948   0.28\n",
       "       2FaIRGP    0.357  0.261 -0.025 -0.317   0.995  0.193\n",
       "SSP370 0FaIR      0.662  0.483 -0.100      -       -      -\n",
       "       1Plain GP  1.108  0.810 -0.268  -2.56   0.712  0.606\n",
       "       2FaIRGP    0.661  0.479 -0.059 -0.921   0.854  0.345\n",
       "SSP585 0FaIR      0.810  0.597 -0.409      -       -      -\n",
       "       1Plain GP  1.780  1.297 -0.272 -5.306   0.629  1.006\n",
       "       2FaIRGP    0.779  0.569 -0.349 -1.241   0.783  0.415\n",
       "mean   0FaIR      0.629  0.459 -0.135      -       -      -\n",
       "       1Plain GP  1.029  0.747 -0.143 -2.455   0.788  0.562\n",
       "       2FaIRGP    0.611  0.443 -0.101 -0.841   0.873  0.322\n",
       "std    0FaIR      0.185  0.135  0.189      -       -      -\n",
       "       1Plain GP  0.554  0.407  0.181  2.053   0.144  0.327\n",
       "       2FaIRGP    0.179  0.130  0.169  0.384   0.089  0.093"
      ]
     },
     "execution_count": 65,
     "metadata": {},
     "output_type": "execute_result"
    }
   ],
   "source": [
    "results = full_scores[['RMSE', 'MAE', 'Bias', 'LL', 'Calib95', 'CRPS']].fillna('-')\n",
    "# results.to_latex('./tables/ssp-experiment-spatial-scores.tex')\n",
    "results"
   ]
  }
 ],
 "metadata": {
  "kernelspec": {
   "display_name": "sandbox",
   "language": "python",
   "name": "sandbox"
  },
  "language_info": {
   "codemirror_mode": {
    "name": "ipython",
    "version": 3
   },
   "file_extension": ".py",
   "mimetype": "text/x-python",
   "name": "python",
   "nbconvert_exporter": "python",
   "pygments_lexer": "ipython3",
   "version": "3.8.0"
  }
 },
 "nbformat": 4,
 "nbformat_minor": 5
}
