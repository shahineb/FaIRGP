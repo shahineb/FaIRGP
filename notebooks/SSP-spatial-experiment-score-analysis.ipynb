{
 "cells": [
  {
   "cell_type": "code",
   "execution_count": 1,
   "id": "cbaa4020",
   "metadata": {},
   "outputs": [],
   "source": [
    "%load_ext autoreload\n",
    "%autoreload 2"
   ]
  },
  {
   "cell_type": "code",
   "execution_count": 2,
   "id": "6bf1c661",
   "metadata": {},
   "outputs": [
    {
     "data": {
      "application/javascript": [
       "if (typeof IPython !== 'undefined') { IPython.OutputArea.prototype._should_scroll = function(lines){ return false; }}"
      ],
      "text/plain": [
       "<IPython.core.display.Javascript object>"
      ]
     },
     "metadata": {},
     "output_type": "display_data"
    }
   ],
   "source": [
    "import os\n",
    "import sys\n",
    "import numpy as np\n",
    "import torch\n",
    "import gpytorch\n",
    "import matplotlib.pyplot as plt\n",
    "import pandas as pd\n",
    "import xarray as xr\n",
    "import tqdm\n",
    "import joblib\n",
    "import utils as utils\n",
    "from sklearn.linear_model import LinearRegression\n",
    "\n",
    "base_dir = os.path.join(os.getcwd(), '..')\n",
    "sys.path.append(base_dir)\n",
    "\n",
    "import fit_spatial_GP as plaingp\n",
    "import fit_spatial_FaIRGP as fairgp\n",
    "from src.models.utils_spatial import compute_means\n",
    "from src.evaluation.metrics import spearman_correlation"
   ]
  },
  {
   "cell_type": "code",
   "execution_count": 3,
   "id": "4dd62e3d",
   "metadata": {},
   "outputs": [],
   "source": [
    "def weighted_mean(x, wlat):\n",
    "    mu = torch.sum(x * wlat, dim=(1, 2)) / (x.size(2) * wlat.sum())\n",
    "    return mu\n",
    "\n",
    "def compute_deterministic_metrics(prediction, groundtruth, wlat):\n",
    "    # Compute raw distances metrics\n",
    "    difference = prediction.sub(groundtruth)\n",
    "    mean_bias = weighted_mean(difference, wlat).mean()\n",
    "    rmse = weighted_mean(torch.square(difference), wlat).mean().sqrt()\n",
    "    mae = weighted_mean(torch.abs(difference), wlat).mean()\n",
    "\n",
    "    # Compute spearman correlation\n",
    "    corr = spearman_correlation(prediction.flatten(), groundtruth.flatten())\n",
    "\n",
    "    # Encapsulate results in output dictionnary\n",
    "    output = {'mb': mean_bias.item(),\n",
    "              'rmse': rmse.item(),\n",
    "              'mae': mae.item(),\n",
    "              'corr': corr}\n",
    "    return output\n",
    "\n",
    "def compute_probabilistic_metrics(prediction, groudtruth, wlat):\n",
    "    ll = weighted_mean(prediction.log_prob(groundtruth), wlat).mean()\n",
    "    lb, ub = prediction.icdf(torch.tensor(0.025)), prediction.icdf(torch.tensor(0.975))\n",
    "    mask = (groundtruth >= lb) & (groundtruth <= ub)\n",
    "    calib95 = weighted_mean(mask.float(), wlat).mean()\n",
    "    \n",
    "    mu, sigma = prediction.mean, prediction.stddev\n",
    "    y = (groundtruth - mu) / sigma\n",
    "    norm = torch.distributions.Normal(0, 1)\n",
    "    crps = sigma * (y * (2 * norm.cdf(y) - 1) + 2 * norm.log_prob(y).exp() - 1 / np.sqrt(np.pi))\n",
    "    crps = weighted_mean(crps, wlat).mean()\n",
    "    \n",
    "    output = {'ll': ll.item(),\n",
    "              'calib95': calib95.item(),\n",
    "              'CRPS': crps.item()}\n",
    "    return output"
   ]
  },
  {
   "cell_type": "code",
   "execution_count": 4,
   "id": "48aecff7",
   "metadata": {},
   "outputs": [],
   "source": [
    "ssps = ['SSP126', 'SSP245', 'SSP370', 'SSP585']"
   ]
  },
  {
   "cell_type": "markdown",
   "id": "05ef452d",
   "metadata": {},
   "source": [
    "## FaIR pattern scaling"
   ]
  },
  {
   "cell_type": "markdown",
   "id": "d44fd623",
   "metadata": {},
   "source": [
    "### SSP126"
   ]
  },
  {
   "cell_type": "code",
   "execution_count": 5,
   "id": "ece544b8",
   "metadata": {},
   "outputs": [],
   "source": [
    "train_cfg = {'dataset' : {'dirpath': '../data/', 'keys': ['historical', 'ssp245', 'ssp370', 'ssp585']}}\n",
    "train_data = plaingp.make_data(train_cfg)\n",
    "\n",
    "test_cfg = {'dataset' : {'dirpath': '../data/', 'keys': ['ssp126']}}\n",
    "test_data = plaingp.make_data(test_cfg)"
   ]
  },
  {
   "cell_type": "code",
   "execution_count": 6,
   "id": "885f5254",
   "metadata": {},
   "outputs": [
    {
     "data": {
      "text/plain": [
       "LinearRegression()"
      ]
     },
     "execution_count": 6,
     "metadata": {},
     "output_type": "execute_result"
    }
   ],
   "source": [
    "scenarios = train_data.scenarios\n",
    "all_tas = scenarios.tas\n",
    "wlat = torch.cos(torch.deg2rad(scenarios[0].lat)).clip(min=torch.finfo(torch.float64).eps)[:, None]\n",
    "glob_tas = weighted_mean(all_tas, wlat)\n",
    "\n",
    "pattern_scaling = LinearRegression()\n",
    "pattern_scaling.fit(glob_tas[:, None], all_tas.reshape(all_tas.size(0), -1))"
   ]
  },
  {
   "cell_type": "code",
   "execution_count": 7,
   "id": "7e84e6d0",
   "metadata": {},
   "outputs": [],
   "source": [
    "time_slice = slice(-21, None)\n",
    "\n",
    "pred = compute_means(test_data.scenarios, pattern_scaling)['ssp126']\n",
    "metrics_ssp126 = compute_deterministic_metrics(pred[time_slice],\n",
    "                                               test_data.scenarios[0].tas[time_slice],\n",
    "                                               wlat)"
   ]
  },
  {
   "cell_type": "markdown",
   "id": "57078d49",
   "metadata": {},
   "source": [
    "### SSP245"
   ]
  },
  {
   "cell_type": "code",
   "execution_count": 8,
   "id": "2fe18469",
   "metadata": {},
   "outputs": [],
   "source": [
    "train_cfg = {'dataset' : {'dirpath': '../data/', 'keys': ['historical', 'ssp126', 'ssp370', 'ssp585']}}\n",
    "train_data = plaingp.make_data(train_cfg)\n",
    "\n",
    "test_cfg = {'dataset' : {'dirpath': '../data/', 'keys': ['ssp245']}}\n",
    "test_data = plaingp.make_data(test_cfg)"
   ]
  },
  {
   "cell_type": "code",
   "execution_count": 9,
   "id": "58deffa3",
   "metadata": {},
   "outputs": [
    {
     "data": {
      "text/plain": [
       "LinearRegression()"
      ]
     },
     "execution_count": 9,
     "metadata": {},
     "output_type": "execute_result"
    }
   ],
   "source": [
    "scenarios = train_data.scenarios\n",
    "all_tas = scenarios.tas\n",
    "wlat = torch.cos(torch.deg2rad(scenarios[0].lat)).clip(min=torch.finfo(torch.float64).eps)[:, None]\n",
    "glob_tas = weighted_mean(all_tas, wlat)\n",
    "\n",
    "pattern_scaling = LinearRegression()\n",
    "pattern_scaling.fit(glob_tas[:, None], all_tas.reshape(all_tas.size(0), -1))"
   ]
  },
  {
   "cell_type": "code",
   "execution_count": 10,
   "id": "a77e8f2f",
   "metadata": {},
   "outputs": [],
   "source": [
    "time_slice = slice(-21, None)\n",
    "\n",
    "pred = compute_means(test_data.scenarios, pattern_scaling)['ssp245']\n",
    "metrics_ssp245 = compute_deterministic_metrics(pred[time_slice],\n",
    "                                               test_data.scenarios[0].tas[time_slice],\n",
    "                                               wlat)"
   ]
  },
  {
   "cell_type": "markdown",
   "id": "a51ee218",
   "metadata": {},
   "source": [
    "### SSP370"
   ]
  },
  {
   "cell_type": "code",
   "execution_count": 11,
   "id": "68693b9e",
   "metadata": {},
   "outputs": [],
   "source": [
    "train_cfg = {'dataset' : {'dirpath': '../data/', 'keys': ['historical', 'ssp126', 'ssp245', 'ssp585']}}\n",
    "train_data = plaingp.make_data(train_cfg)\n",
    "\n",
    "test_cfg = {'dataset' : {'dirpath': '../data/', 'keys': ['ssp370']}}\n",
    "test_data = plaingp.make_data(test_cfg)"
   ]
  },
  {
   "cell_type": "code",
   "execution_count": 12,
   "id": "01e3fbd7",
   "metadata": {},
   "outputs": [
    {
     "data": {
      "text/plain": [
       "LinearRegression()"
      ]
     },
     "execution_count": 12,
     "metadata": {},
     "output_type": "execute_result"
    }
   ],
   "source": [
    "scenarios = train_data.scenarios\n",
    "all_tas = scenarios.tas\n",
    "wlat = torch.cos(torch.deg2rad(scenarios[0].lat)).clip(min=torch.finfo(torch.float64).eps)[:, None]\n",
    "glob_tas = weighted_mean(all_tas, wlat)\n",
    "\n",
    "pattern_scaling = LinearRegression()\n",
    "pattern_scaling.fit(glob_tas[:, None], all_tas.reshape(all_tas.size(0), -1))"
   ]
  },
  {
   "cell_type": "code",
   "execution_count": 13,
   "id": "a0b7047e",
   "metadata": {},
   "outputs": [],
   "source": [
    "time_slice = slice(-21, None)\n",
    "\n",
    "pred = compute_means(test_data.scenarios, pattern_scaling)['ssp370']\n",
    "metrics_ssp370 = compute_deterministic_metrics(pred[time_slice],\n",
    "                                               test_data.scenarios[0].tas[time_slice],\n",
    "                                               wlat)"
   ]
  },
  {
   "cell_type": "markdown",
   "id": "45bfc5aa",
   "metadata": {},
   "source": [
    "### SSP585"
   ]
  },
  {
   "cell_type": "code",
   "execution_count": 14,
   "id": "a8bde1e8",
   "metadata": {},
   "outputs": [],
   "source": [
    "train_cfg = {'dataset' : {'dirpath': '../data/', 'keys': ['historical', 'ssp126', 'ssp245', 'ssp370']}}\n",
    "train_data = plaingp.make_data(train_cfg)\n",
    "\n",
    "test_cfg = {'dataset' : {'dirpath': '../data/', 'keys': ['ssp585']}}\n",
    "test_data = plaingp.make_data(test_cfg)"
   ]
  },
  {
   "cell_type": "code",
   "execution_count": 15,
   "id": "71ffe7fb",
   "metadata": {},
   "outputs": [
    {
     "data": {
      "text/plain": [
       "LinearRegression()"
      ]
     },
     "execution_count": 15,
     "metadata": {},
     "output_type": "execute_result"
    }
   ],
   "source": [
    "scenarios = train_data.scenarios\n",
    "all_tas = scenarios.tas\n",
    "wlat = torch.cos(torch.deg2rad(scenarios[0].lat)).clip(min=torch.finfo(torch.float64).eps)[:, None]\n",
    "glob_tas = weighted_mean(all_tas, wlat)\n",
    "\n",
    "pattern_scaling = LinearRegression()\n",
    "pattern_scaling.fit(glob_tas[:, None], all_tas.reshape(all_tas.size(0), -1))"
   ]
  },
  {
   "cell_type": "code",
   "execution_count": 16,
   "id": "813d32ea",
   "metadata": {},
   "outputs": [],
   "source": [
    "time_slice = slice(-21, None)\n",
    "\n",
    "pred = compute_means(test_data.scenarios, pattern_scaling)['ssp585']\n",
    "metrics_ssp585 = compute_deterministic_metrics(pred[time_slice],\n",
    "                                               test_data.scenarios[0].tas[time_slice],\n",
    "                                               wlat)"
   ]
  },
  {
   "cell_type": "code",
   "execution_count": 18,
   "id": "9d2f4b1b",
   "metadata": {},
   "outputs": [],
   "source": [
    "metrics_pattern_scaling = [metrics_ssp126, metrics_ssp245, metrics_ssp370, metrics_ssp585]\n",
    "scores_pattern_scaling = pd.DataFrame(metrics_pattern_scaling)\n",
    "scores_pattern_scaling.index = ssps\n",
    "scores_pattern_scaling.index.name = 'SSP'"
   ]
  },
  {
   "cell_type": "code",
   "execution_count": 19,
   "id": "3825d1cd",
   "metadata": {},
   "outputs": [],
   "source": [
    "test_cfg = {'dataset' : {'dirpath': '../data/', 'keys': ['ssp126', 'ssp245', 'ssp370', 'ssp585']}}\n",
    "test_data = plaingp.make_data(test_cfg)\n",
    "\n",
    "pattern_scaling = joblib.load('../data/pattern_scaling_model.joblib')\n",
    "wlat = torch.cos(torch.deg2rad(test_data.scenarios[0].lat)).clip(min=torch.finfo(torch.float64).eps)[:, None]"
   ]
  },
  {
   "cell_type": "code",
   "execution_count": 20,
   "id": "f20e44b5",
   "metadata": {},
   "outputs": [],
   "source": [
    "pattern_scaled = compute_means(test_data.scenarios, pattern_scaling)"
   ]
  },
  {
   "cell_type": "code",
   "execution_count": 21,
   "id": "164c3f93",
   "metadata": {},
   "outputs": [],
   "source": [
    "time_slice = slice(-21, None)\n",
    "\n",
    "metrics_pattern_scaling = []\n",
    "for name, preds in pattern_scaled.items():\n",
    "    \n",
    "    metrics_scenario = compute_deterministic_metrics(preds[time_slice],\n",
    "                                                     test_data.scenarios[name].tas[time_slice],\n",
    "                                                     wlat)\n",
    "    metrics_pattern_scaling.append(metrics_scenario)"
   ]
  },
  {
   "cell_type": "code",
   "execution_count": 22,
   "id": "fe1d0a52",
   "metadata": {},
   "outputs": [],
   "source": [
    "metrics_pattern_scaling = [metrics_ssp126, metrics_ssp245, metrics_ssp370, metrics_ssp585]\n",
    "scores_pattern_scaling = pd.DataFrame(metrics_pattern_scaling)\n",
    "scores_pattern_scaling.index = ssps\n",
    "scores_pattern_scaling.index.name = 'SSP'"
   ]
  },
  {
   "cell_type": "code",
   "execution_count": 23,
   "id": "f16a5485",
   "metadata": {},
   "outputs": [
    {
     "data": {
      "text/html": [
       "<div>\n",
       "<style scoped>\n",
       "    .dataframe tbody tr th:only-of-type {\n",
       "        vertical-align: middle;\n",
       "    }\n",
       "\n",
       "    .dataframe tbody tr th {\n",
       "        vertical-align: top;\n",
       "    }\n",
       "\n",
       "    .dataframe thead th {\n",
       "        text-align: right;\n",
       "    }\n",
       "</style>\n",
       "<table border=\"1\" class=\"dataframe\">\n",
       "  <thead>\n",
       "    <tr style=\"text-align: right;\">\n",
       "      <th></th>\n",
       "      <th>mb</th>\n",
       "      <th>rmse</th>\n",
       "      <th>mae</th>\n",
       "      <th>corr</th>\n",
       "    </tr>\n",
       "    <tr>\n",
       "      <th>SSP</th>\n",
       "      <th></th>\n",
       "      <th></th>\n",
       "      <th></th>\n",
       "      <th></th>\n",
       "    </tr>\n",
       "  </thead>\n",
       "  <tbody>\n",
       "    <tr>\n",
       "      <th>SSP126</th>\n",
       "      <td>0.017865</td>\n",
       "      <td>0.673905</td>\n",
       "      <td>0.485556</td>\n",
       "      <td>0.775864</td>\n",
       "    </tr>\n",
       "    <tr>\n",
       "      <th>SSP245</th>\n",
       "      <td>-0.048413</td>\n",
       "      <td>0.371226</td>\n",
       "      <td>0.272364</td>\n",
       "      <td>0.966141</td>\n",
       "    </tr>\n",
       "    <tr>\n",
       "      <th>SSP370</th>\n",
       "      <td>-0.100107</td>\n",
       "      <td>0.662458</td>\n",
       "      <td>0.483243</td>\n",
       "      <td>0.944825</td>\n",
       "    </tr>\n",
       "    <tr>\n",
       "      <th>SSP585</th>\n",
       "      <td>-0.409348</td>\n",
       "      <td>0.810060</td>\n",
       "      <td>0.596555</td>\n",
       "      <td>0.966578</td>\n",
       "    </tr>\n",
       "  </tbody>\n",
       "</table>\n",
       "</div>"
      ],
      "text/plain": [
       "              mb      rmse       mae      corr\n",
       "SSP                                           \n",
       "SSP126  0.017865  0.673905  0.485556  0.775864\n",
       "SSP245 -0.048413  0.371226  0.272364  0.966141\n",
       "SSP370 -0.100107  0.662458  0.483243  0.944825\n",
       "SSP585 -0.409348  0.810060  0.596555  0.966578"
      ]
     },
     "execution_count": 23,
     "metadata": {},
     "output_type": "execute_result"
    }
   ],
   "source": [
    "scores_pattern_scaling"
   ]
  },
  {
   "cell_type": "markdown",
   "id": "35d5bd40",
   "metadata": {},
   "source": [
    "## PlainGP"
   ]
  },
  {
   "cell_type": "markdown",
   "id": "77ff0495",
   "metadata": {},
   "source": [
    "### SSP126"
   ]
  },
  {
   "cell_type": "code",
   "execution_count": 24,
   "id": "e81e9b40",
   "metadata": {},
   "outputs": [
    {
     "data": {
      "text/plain": [
       "<All keys matched successfully>"
      ]
     },
     "execution_count": 24,
     "metadata": {},
     "output_type": "execute_result"
    }
   ],
   "source": [
    "train_cfg = {'dataset' : {'dirpath': '../data/', 'keys': ['historical', 'ssp245', 'ssp370', 'ssp585']}}\n",
    "train_data = plaingp.make_data(train_cfg)\n",
    "\n",
    "test_cfg = {'dataset' : {'dirpath': '../data/', 'keys': ['ssp126']}}\n",
    "test_data = plaingp.make_data(test_cfg)\n",
    "\n",
    "model = plaingp.make_model(train_cfg, train_data)\n",
    "state_dict = torch.load('../data/models/leave-one-out-ssp/ssp126/SpatialPlainGP/state_dict.pt')\n",
    "model.load_state_dict(state_dict)"
   ]
  },
  {
   "cell_type": "code",
   "execution_count": 25,
   "id": "6df21bb5",
   "metadata": {},
   "outputs": [],
   "source": [
    "test_scenarios = test_data.scenarios\n",
    "Xtest = test_scenarios.glob_inputs[:, 1:]\n",
    "Xtest = (Xtest - model.mu) / model.sigma\n",
    "test_tas = test_scenarios.tas\n",
    "model = model.eval()"
   ]
  },
  {
   "cell_type": "code",
   "execution_count": 26,
   "id": "5906e3b8",
   "metadata": {},
   "outputs": [],
   "source": [
    "with torch.no_grad():\n",
    "    posterior = model.posterior(Xtest, diag=False)\n",
    "    posterior = model.likelihood(posterior)"
   ]
  },
  {
   "cell_type": "code",
   "execution_count": 27,
   "id": "14cd3cbe",
   "metadata": {},
   "outputs": [],
   "source": [
    "nlat = len(test_scenarios[0].lat)\n",
    "nlon = len(test_scenarios[0].lon)\n",
    "ntimes = len(test_scenarios[0].timesteps)\n",
    "time_slice = slice(-21, None)\n",
    "\n",
    "prior_mean = model.mu_targets.view(1, nlat, nlon).repeat(ntimes, 1, 1)\n",
    "posterior_mean = posterior.mean.reshape(nlat, nlon, -1).permute(2, 0, 1)\n",
    "posterior_correction =  model.sigma_targets.view(1, nlat, nlon) * posterior_mean\n",
    "posterior_mean = prior_mean + posterior_mean\n",
    "\n",
    "posterior_stddev = posterior.stddev.reshape(nlat, nlon, -1).permute(2, 0, 1)\n",
    "posterior_stddev = model.sigma_targets.view(1, nlat, nlon) * posterior_stddev\n",
    "\n",
    "prediction = torch.distributions.Normal(posterior_mean[time_slice], posterior_stddev[time_slice])\n",
    "groundtruth = test_tas[time_slice]\n",
    "wlat = torch.cos(torch.deg2rad(test_scenarios[0].lat)).clip(min=torch.finfo(torch.float64).eps)[:, None]"
   ]
  },
  {
   "cell_type": "code",
   "execution_count": 28,
   "id": "24c881c7",
   "metadata": {},
   "outputs": [],
   "source": [
    "metrics_ssp126 = {**compute_deterministic_metrics(prediction.mean, groundtruth, wlat),\n",
    "                  **compute_probabilistic_metrics(prediction, groundtruth, wlat)}"
   ]
  },
  {
   "cell_type": "markdown",
   "id": "b8cc39c8",
   "metadata": {},
   "source": [
    "### SSP245"
   ]
  },
  {
   "cell_type": "code",
   "execution_count": 29,
   "id": "25fca91f",
   "metadata": {},
   "outputs": [
    {
     "data": {
      "text/plain": [
       "<All keys matched successfully>"
      ]
     },
     "execution_count": 29,
     "metadata": {},
     "output_type": "execute_result"
    }
   ],
   "source": [
    "train_cfg = {'dataset' : {'dirpath': '../data/', 'keys': ['historical', 'ssp126', 'ssp370', 'ssp585']}}\n",
    "train_data = plaingp.make_data(train_cfg)\n",
    "\n",
    "test_cfg = {'dataset' : {'dirpath': '../data/', 'keys': ['ssp245']}}\n",
    "test_data = plaingp.make_data(test_cfg)\n",
    "\n",
    "model = plaingp.make_model(train_cfg, train_data)\n",
    "state_dict = torch.load('../data/models/leave-one-out-ssp/ssp245/SpatialPlainGP/state_dict.pt')\n",
    "model.load_state_dict(state_dict)"
   ]
  },
  {
   "cell_type": "code",
   "execution_count": 30,
   "id": "deadcf14",
   "metadata": {},
   "outputs": [],
   "source": [
    "test_scenarios = test_data.scenarios\n",
    "Xtest = test_scenarios.glob_inputs[:, 1:]\n",
    "Xtest = (Xtest - model.mu) / model.sigma\n",
    "test_tas = test_scenarios.tas\n",
    "model = model.eval()"
   ]
  },
  {
   "cell_type": "code",
   "execution_count": 31,
   "id": "4d5afbe4",
   "metadata": {},
   "outputs": [],
   "source": [
    "with torch.no_grad():\n",
    "    posterior = model.posterior(Xtest, diag=False)\n",
    "    posterior = model.likelihood(posterior)"
   ]
  },
  {
   "cell_type": "code",
   "execution_count": 32,
   "id": "9de5aab2",
   "metadata": {},
   "outputs": [],
   "source": [
    "nlat = len(test_scenarios[0].lat)\n",
    "nlon = len(test_scenarios[0].lon)\n",
    "ntimes = len(test_scenarios[0].timesteps)\n",
    "time_slice = slice(-21, None)\n",
    "\n",
    "prior_mean = model.mu_targets.view(1, nlat, nlon).repeat(ntimes, 1, 1)\n",
    "posterior_mean = posterior.mean.reshape(nlat, nlon, -1).permute(2, 0, 1)\n",
    "posterior_correction =  model.sigma_targets.view(1, nlat, nlon) * posterior_mean\n",
    "posterior_mean = prior_mean + posterior_mean\n",
    "\n",
    "posterior_stddev = posterior.stddev.reshape(nlat, nlon, -1).permute(2, 0, 1)\n",
    "posterior_stddev = model.sigma_targets.view(1, nlat, nlon) * posterior_stddev\n",
    "\n",
    "prediction = torch.distributions.Normal(posterior_mean[time_slice], posterior_stddev[time_slice])\n",
    "groundtruth = test_tas[time_slice]\n",
    "wlat = torch.cos(torch.deg2rad(test_scenarios[0].lat)).clip(min=torch.finfo(torch.float64).eps)[:, None]"
   ]
  },
  {
   "cell_type": "code",
   "execution_count": 33,
   "id": "a848c26b",
   "metadata": {},
   "outputs": [],
   "source": [
    "metrics_ssp245 = {**compute_deterministic_metrics(prediction.mean, groundtruth, wlat),\n",
    "                  **compute_probabilistic_metrics(prediction, groundtruth, wlat)}"
   ]
  },
  {
   "cell_type": "markdown",
   "id": "82678ed2",
   "metadata": {},
   "source": [
    "### SSP370"
   ]
  },
  {
   "cell_type": "code",
   "execution_count": 34,
   "id": "77d51fa2",
   "metadata": {},
   "outputs": [
    {
     "data": {
      "text/plain": [
       "<All keys matched successfully>"
      ]
     },
     "execution_count": 34,
     "metadata": {},
     "output_type": "execute_result"
    }
   ],
   "source": [
    "train_cfg = {'dataset' : {'dirpath': '../data/', 'keys': ['historical', 'ssp126', 'ssp245', 'ssp585']}}\n",
    "train_data = plaingp.make_data(train_cfg)\n",
    "\n",
    "test_cfg = {'dataset' : {'dirpath': '../data/', 'keys': ['ssp370']}}\n",
    "test_data = plaingp.make_data(test_cfg)\n",
    "\n",
    "model = plaingp.make_model(train_cfg, train_data)\n",
    "state_dict = torch.load('../data/models/leave-one-out-ssp/ssp370/SpatialPlainGP/state_dict.pt')\n",
    "model.load_state_dict(state_dict)"
   ]
  },
  {
   "cell_type": "code",
   "execution_count": 35,
   "id": "c2bd0576",
   "metadata": {},
   "outputs": [],
   "source": [
    "test_scenarios = test_data.scenarios\n",
    "Xtest = test_scenarios.glob_inputs[:, 1:]\n",
    "Xtest = (Xtest - model.mu) / model.sigma\n",
    "test_tas = test_scenarios.tas\n",
    "model = model.eval()"
   ]
  },
  {
   "cell_type": "code",
   "execution_count": 36,
   "id": "349e1504",
   "metadata": {},
   "outputs": [],
   "source": [
    "with torch.no_grad():\n",
    "    posterior = model.posterior(Xtest, diag=False)\n",
    "    posterior = model.likelihood(posterior)"
   ]
  },
  {
   "cell_type": "code",
   "execution_count": 37,
   "id": "42369b3e",
   "metadata": {},
   "outputs": [],
   "source": [
    "nlat = len(test_scenarios[0].lat)\n",
    "nlon = len(test_scenarios[0].lon)\n",
    "ntimes = len(test_scenarios[0].timesteps)\n",
    "time_slice = slice(-21, None)\n",
    "\n",
    "prior_mean = model.mu_targets.view(1, nlat, nlon).repeat(ntimes, 1, 1)\n",
    "posterior_mean = posterior.mean.reshape(nlat, nlon, -1).permute(2, 0, 1)\n",
    "posterior_correction =  model.sigma_targets.view(1, nlat, nlon) * posterior_mean\n",
    "posterior_mean = prior_mean + posterior_mean\n",
    "\n",
    "posterior_stddev = posterior.stddev.reshape(nlat, nlon, -1).permute(2, 0, 1)\n",
    "posterior_stddev = model.sigma_targets.view(1, nlat, nlon) * posterior_stddev\n",
    "\n",
    "prediction = torch.distributions.Normal(posterior_mean[time_slice], posterior_stddev[time_slice])\n",
    "groundtruth = test_tas[time_slice]\n",
    "wlat = torch.cos(torch.deg2rad(test_scenarios[0].lat)).clip(min=torch.finfo(torch.float64).eps)[:, None]"
   ]
  },
  {
   "cell_type": "code",
   "execution_count": 38,
   "id": "a72f8b11",
   "metadata": {},
   "outputs": [],
   "source": [
    "metrics_ssp370 = {**compute_deterministic_metrics(prediction.mean, groundtruth, wlat),\n",
    "                  **compute_probabilistic_metrics(prediction, groundtruth, wlat)}"
   ]
  },
  {
   "cell_type": "markdown",
   "id": "04ff198c",
   "metadata": {},
   "source": [
    "### SSP585"
   ]
  },
  {
   "cell_type": "code",
   "execution_count": 39,
   "id": "44441d52",
   "metadata": {},
   "outputs": [
    {
     "data": {
      "text/plain": [
       "<All keys matched successfully>"
      ]
     },
     "execution_count": 39,
     "metadata": {},
     "output_type": "execute_result"
    }
   ],
   "source": [
    "train_cfg = {'dataset' : {'dirpath': '../data/', 'keys': ['historical', 'ssp126', 'ssp245', 'ssp370']}}\n",
    "train_data = plaingp.make_data(train_cfg)\n",
    "\n",
    "test_cfg = {'dataset' : {'dirpath': '../data/', 'keys': ['ssp585']}}\n",
    "test_data = plaingp.make_data(test_cfg)\n",
    "\n",
    "model = plaingp.make_model(train_cfg, train_data)\n",
    "state_dict = torch.load('../data/models/leave-one-out-ssp/ssp585/SpatialPlainGP/state_dict.pt')\n",
    "model.load_state_dict(state_dict)"
   ]
  },
  {
   "cell_type": "code",
   "execution_count": 40,
   "id": "69208419",
   "metadata": {},
   "outputs": [],
   "source": [
    "test_scenarios = test_data.scenarios\n",
    "Xtest = test_scenarios.glob_inputs[:, 1:]\n",
    "Xtest = (Xtest - model.mu) / model.sigma\n",
    "test_tas = test_scenarios.tas\n",
    "model = model.eval()"
   ]
  },
  {
   "cell_type": "code",
   "execution_count": 41,
   "id": "def90658",
   "metadata": {},
   "outputs": [],
   "source": [
    "with torch.no_grad():\n",
    "    posterior = model.posterior(Xtest, diag=False)\n",
    "    posterior = model.likelihood(posterior)"
   ]
  },
  {
   "cell_type": "code",
   "execution_count": 42,
   "id": "e99c7b8c",
   "metadata": {},
   "outputs": [],
   "source": [
    "nlat = len(test_scenarios[0].lat)\n",
    "nlon = len(test_scenarios[0].lon)\n",
    "ntimes = len(test_scenarios[0].timesteps)\n",
    "time_slice = slice(-21, None)\n",
    "\n",
    "prior_mean = model.mu_targets.view(1, nlat, nlon).repeat(ntimes, 1, 1)\n",
    "posterior_mean = posterior.mean.reshape(nlat, nlon, -1).permute(2, 0, 1)\n",
    "posterior_correction =  model.sigma_targets.view(1, nlat, nlon) * posterior_mean\n",
    "posterior_mean = prior_mean + posterior_mean\n",
    "\n",
    "posterior_stddev = posterior.stddev.reshape(nlat, nlon, -1).permute(2, 0, 1)\n",
    "posterior_stddev = model.sigma_targets.view(1, nlat, nlon) * posterior_stddev\n",
    "\n",
    "prediction = torch.distributions.Normal(posterior_mean[time_slice], posterior_stddev[time_slice])\n",
    "groundtruth = test_tas[time_slice]\n",
    "wlat = torch.cos(torch.deg2rad(test_scenarios[0].lat)).clip(min=torch.finfo(torch.float64).eps)[:, None]"
   ]
  },
  {
   "cell_type": "code",
   "execution_count": 43,
   "id": "25604dd2",
   "metadata": {},
   "outputs": [],
   "source": [
    "metrics_ssp585 = {**compute_deterministic_metrics(prediction.mean, groundtruth, wlat),\n",
    "                  **compute_probabilistic_metrics(prediction, groundtruth, wlat)}"
   ]
  },
  {
   "cell_type": "code",
   "execution_count": 44,
   "id": "6301bb2f",
   "metadata": {},
   "outputs": [],
   "source": [
    "metrics_plaingp = [metrics_ssp126, metrics_ssp245, metrics_ssp370, metrics_ssp585]\n",
    "scores_plaingp = pd.DataFrame(metrics_plaingp)\n",
    "scores_plaingp.index = ssps\n",
    "scores_plaingp.index.name = 'SSP'"
   ]
  },
  {
   "cell_type": "markdown",
   "id": "d43b2b4e",
   "metadata": {},
   "source": [
    "# FaIRGP"
   ]
  },
  {
   "cell_type": "markdown",
   "id": "6a378b8a",
   "metadata": {},
   "source": [
    "### SSP126"
   ]
  },
  {
   "cell_type": "code",
   "execution_count": 45,
   "id": "02fd6435",
   "metadata": {},
   "outputs": [
    {
     "data": {
      "text/plain": [
       "<All keys matched successfully>"
      ]
     },
     "execution_count": 45,
     "metadata": {},
     "output_type": "execute_result"
    }
   ],
   "source": [
    "train_cfg = {'dataset' : {'dirpath': '../data/', 'keys': ['historical', 'ssp245', 'ssp370', 'ssp585']}}\n",
    "train_data = fairgp.make_data(train_cfg)\n",
    "\n",
    "test_cfg = {'dataset' : {'dirpath': '../data/', 'keys': ['ssp126']}}\n",
    "test_data = fairgp.make_data(test_cfg)\n",
    "\n",
    "model = fairgp.make_model(train_cfg, train_data)\n",
    "state_dict = torch.load('../data/models/leave-one-out-ssp/ssp126/SpatialFaIRGP/state_dict.pt')\n",
    "model.load_state_dict(state_dict)"
   ]
  },
  {
   "cell_type": "code",
   "execution_count": 46,
   "id": "7214d4ce",
   "metadata": {},
   "outputs": [],
   "source": [
    "test_scenarios = test_data.scenarios\n",
    "test_tas = test_scenarios.tas\n",
    "\n",
    "model = model.eval()\n",
    "with torch.no_grad():\n",
    "    posterior = model.posterior(test_scenarios, diag=False)\n",
    "    posterior = model.likelihood(posterior)"
   ]
  },
  {
   "cell_type": "code",
   "execution_count": 47,
   "id": "b901721f",
   "metadata": {},
   "outputs": [],
   "source": [
    "nlat = len(test_scenarios[0].lat)\n",
    "nlon = len(test_scenarios[0].lon)\n",
    "time_slice = slice(-21, None)\n",
    "\n",
    "prior_mean = model._compute_means(test_scenarios)['ssp126']\n",
    "posterior_mean = posterior.mean.reshape(nlat, nlon, -1).permute(2, 0, 1)\n",
    "posterior_correction = model.mu_targets + model.sigma_targets * posterior_mean\n",
    "posterior_mean = prior_mean + posterior_correction\n",
    "\n",
    "posterior_stddev = posterior.stddev.reshape(nlat, nlon, -1).permute(2, 0, 1)\n",
    "posterior_stddev = model.sigma_targets * posterior_stddev\n",
    "\n",
    "prediction = torch.distributions.Normal(posterior_mean[time_slice], posterior_stddev[time_slice])\n",
    "groundtruth = test_tas[time_slice]"
   ]
  },
  {
   "cell_type": "code",
   "execution_count": 48,
   "id": "e8432796",
   "metadata": {},
   "outputs": [],
   "source": [
    "metrics_ssp126 = {**compute_deterministic_metrics(prediction.mean, groundtruth, wlat),\n",
    "                  **compute_probabilistic_metrics(prediction, groundtruth, wlat)}"
   ]
  },
  {
   "cell_type": "markdown",
   "id": "d1374055",
   "metadata": {},
   "source": [
    "### SSP245"
   ]
  },
  {
   "cell_type": "code",
   "execution_count": 49,
   "id": "f462ab40",
   "metadata": {},
   "outputs": [
    {
     "data": {
      "text/plain": [
       "<All keys matched successfully>"
      ]
     },
     "execution_count": 49,
     "metadata": {},
     "output_type": "execute_result"
    }
   ],
   "source": [
    "train_cfg = {'dataset' : {'dirpath': '../data/', 'keys': ['historical', 'ssp126', 'ssp370', 'ssp585']}}\n",
    "train_data = fairgp.make_data(train_cfg)\n",
    "\n",
    "test_cfg = {'dataset' : {'dirpath': '../data/', 'keys': ['ssp245']}}\n",
    "test_data = fairgp.make_data(test_cfg)\n",
    "\n",
    "model = fairgp.make_model(train_cfg, train_data)\n",
    "state_dict = torch.load('../data/models/leave-one-out-ssp/ssp245/SpatialFaIRGP/state_dict.pt')\n",
    "model.load_state_dict(state_dict)"
   ]
  },
  {
   "cell_type": "code",
   "execution_count": 50,
   "id": "0c477f8c",
   "metadata": {},
   "outputs": [],
   "source": [
    "test_scenarios = test_data.scenarios\n",
    "test_tas = test_scenarios.tas\n",
    "\n",
    "model = model.eval()\n",
    "with torch.no_grad():\n",
    "    posterior = model.posterior(test_scenarios, diag=False)\n",
    "    posterior = model.likelihood(posterior)"
   ]
  },
  {
   "cell_type": "code",
   "execution_count": 51,
   "id": "791bf5f2",
   "metadata": {},
   "outputs": [],
   "source": [
    "nlat = len(test_scenarios[0].lat)\n",
    "nlon = len(test_scenarios[0].lon)\n",
    "time_slice = slice(-21, None)\n",
    "\n",
    "prior_mean = model._compute_means(test_scenarios)['ssp245']\n",
    "posterior_mean = posterior.mean.reshape(nlat, nlon, -1).permute(2, 0, 1)\n",
    "posterior_correction = model.mu_targets + model.sigma_targets * posterior_mean\n",
    "posterior_mean = prior_mean + posterior_correction\n",
    "\n",
    "posterior_stddev = posterior.stddev.reshape(nlat, nlon, -1).permute(2, 0, 1)\n",
    "posterior_stddev = model.sigma_targets * posterior_stddev\n",
    "\n",
    "prediction = torch.distributions.Normal(posterior_mean[time_slice], posterior_stddev[time_slice])\n",
    "groundtruth = test_tas[time_slice]"
   ]
  },
  {
   "cell_type": "code",
   "execution_count": 52,
   "id": "6dd3b644",
   "metadata": {},
   "outputs": [],
   "source": [
    "metrics_ssp245 = {**compute_deterministic_metrics(prediction.mean, groundtruth, wlat),\n",
    "                  **compute_probabilistic_metrics(prediction, groundtruth, wlat)}"
   ]
  },
  {
   "cell_type": "markdown",
   "id": "4f29fc44",
   "metadata": {},
   "source": [
    "### SSP370"
   ]
  },
  {
   "cell_type": "code",
   "execution_count": 53,
   "id": "16916f76",
   "metadata": {},
   "outputs": [
    {
     "data": {
      "text/plain": [
       "<All keys matched successfully>"
      ]
     },
     "execution_count": 53,
     "metadata": {},
     "output_type": "execute_result"
    }
   ],
   "source": [
    "train_cfg = {'dataset' : {'dirpath': '../data/', 'keys': ['historical', 'ssp126', 'ssp245', 'ssp585']}}\n",
    "train_data = fairgp.make_data(train_cfg)\n",
    "\n",
    "test_cfg = {'dataset' : {'dirpath': '../data/', 'keys': ['ssp370']}}\n",
    "test_data = fairgp.make_data(test_cfg)\n",
    "\n",
    "model = fairgp.make_model(train_cfg, train_data)\n",
    "state_dict = torch.load('../data/models/leave-one-out-ssp/ssp370/SpatialFaIRGP/state_dict.pt')\n",
    "model.load_state_dict(state_dict)"
   ]
  },
  {
   "cell_type": "code",
   "execution_count": 54,
   "id": "a43586d1",
   "metadata": {},
   "outputs": [],
   "source": [
    "test_scenarios = test_data.scenarios\n",
    "test_tas = test_scenarios.tas\n",
    "\n",
    "model = model.eval()\n",
    "with torch.no_grad():\n",
    "    posterior = model.posterior(test_scenarios, diag=False)\n",
    "    posterior = model.likelihood(posterior)"
   ]
  },
  {
   "cell_type": "code",
   "execution_count": 55,
   "id": "6c1b8bde",
   "metadata": {},
   "outputs": [],
   "source": [
    "nlat = len(test_scenarios[0].lat)\n",
    "nlon = len(test_scenarios[0].lon)\n",
    "time_slice = slice(-21, None)\n",
    "\n",
    "prior_mean = model._compute_means(test_scenarios)['ssp370']\n",
    "posterior_mean = posterior.mean.reshape(nlat, nlon, -1).permute(2, 0, 1)\n",
    "posterior_correction = model.mu_targets + model.sigma_targets * posterior_mean\n",
    "posterior_mean = prior_mean + posterior_correction\n",
    "\n",
    "posterior_stddev = posterior.stddev.reshape(nlat, nlon, -1).permute(2, 0, 1)\n",
    "posterior_stddev = model.sigma_targets * posterior_stddev\n",
    "\n",
    "prediction = torch.distributions.Normal(posterior_mean[time_slice], posterior_stddev[time_slice])\n",
    "groundtruth = test_tas[time_slice]"
   ]
  },
  {
   "cell_type": "code",
   "execution_count": 56,
   "id": "8fe27f99",
   "metadata": {},
   "outputs": [],
   "source": [
    "metrics_ssp370 = {**compute_deterministic_metrics(prediction.mean, groundtruth, wlat),\n",
    "                  **compute_probabilistic_metrics(prediction, groundtruth, wlat)}"
   ]
  },
  {
   "cell_type": "markdown",
   "id": "f2e00729",
   "metadata": {},
   "source": [
    "### SSP585"
   ]
  },
  {
   "cell_type": "code",
   "execution_count": 57,
   "id": "e411f3ae",
   "metadata": {},
   "outputs": [
    {
     "data": {
      "text/plain": [
       "<All keys matched successfully>"
      ]
     },
     "execution_count": 57,
     "metadata": {},
     "output_type": "execute_result"
    }
   ],
   "source": [
    "train_cfg = {'dataset' : {'dirpath': '../data/', 'keys': ['historical', 'ssp126', 'ssp245', 'ssp370']}}\n",
    "train_data = fairgp.make_data(train_cfg)\n",
    "\n",
    "test_cfg = {'dataset' : {'dirpath': '../data/', 'keys': ['ssp585']}}\n",
    "test_data = fairgp.make_data(test_cfg)\n",
    "\n",
    "model = fairgp.make_model(train_cfg, train_data)\n",
    "state_dict = torch.load('../data/models/leave-one-out-ssp/ssp585/SpatialFaIRGP/state_dict.pt')\n",
    "model.load_state_dict(state_dict)"
   ]
  },
  {
   "cell_type": "code",
   "execution_count": 58,
   "id": "40e4e8a3",
   "metadata": {},
   "outputs": [],
   "source": [
    "test_scenarios = test_data.scenarios\n",
    "test_tas = test_scenarios.tas\n",
    "\n",
    "model = model.eval()\n",
    "with torch.no_grad():\n",
    "    posterior = model.posterior(test_scenarios, diag=False)\n",
    "    posterior = model.likelihood(posterior)"
   ]
  },
  {
   "cell_type": "code",
   "execution_count": 59,
   "id": "cb57f243",
   "metadata": {},
   "outputs": [],
   "source": [
    "nlat = len(test_scenarios[0].lat)\n",
    "nlon = len(test_scenarios[0].lon)\n",
    "time_slice = slice(-21, None)\n",
    "\n",
    "prior_mean = model._compute_means(test_scenarios)['ssp585']\n",
    "posterior_mean = posterior.mean.reshape(nlat, nlon, -1).permute(2, 0, 1)\n",
    "posterior_correction = model.mu_targets + model.sigma_targets * posterior_mean\n",
    "posterior_mean = prior_mean + posterior_correction\n",
    "\n",
    "posterior_stddev = posterior.stddev.reshape(nlat, nlon, -1).permute(2, 0, 1)\n",
    "posterior_stddev = model.sigma_targets * posterior_stddev\n",
    "\n",
    "prediction = torch.distributions.Normal(posterior_mean[time_slice], posterior_stddev[time_slice])\n",
    "groundtruth = test_tas[time_slice]"
   ]
  },
  {
   "cell_type": "code",
   "execution_count": 60,
   "id": "76a6503d",
   "metadata": {},
   "outputs": [],
   "source": [
    "metrics_ssp585 = {**compute_deterministic_metrics(prediction.mean, groundtruth, wlat),\n",
    "                  **compute_probabilistic_metrics(prediction, groundtruth, wlat)}"
   ]
  },
  {
   "cell_type": "code",
   "execution_count": 61,
   "id": "8f1b2b1c",
   "metadata": {},
   "outputs": [],
   "source": [
    "metrics_fairgp = [metrics_ssp126, metrics_ssp245, metrics_ssp370, metrics_ssp585]\n",
    "scores_fairgp = pd.DataFrame(metrics_fairgp)\n",
    "scores_fairgp.index = ssps\n",
    "scores_fairgp.index.name = 'SSP'"
   ]
  },
  {
   "cell_type": "markdown",
   "id": "520b1a8b",
   "metadata": {},
   "source": [
    "---"
   ]
  },
  {
   "cell_type": "code",
   "execution_count": 62,
   "id": "8171fcce",
   "metadata": {},
   "outputs": [],
   "source": [
    "pattern_scaling_summary = scores_pattern_scaling.aggregate(['mean', 'std'])\n",
    "gp_summary = scores_plaingp.aggregate(['mean', 'std'])\n",
    "fairgp_summary = scores_fairgp.aggregate(['mean', 'std'])\n",
    "\n",
    "scores_pattern_scaling = pd.concat([scores_pattern_scaling, pattern_scaling_summary])\n",
    "scores_plaingp = pd.concat([scores_plaingp, gp_summary])\n",
    "scores_fairgp = pd.concat([scores_fairgp, fairgp_summary])"
   ]
  },
  {
   "cell_type": "code",
   "execution_count": 63,
   "id": "d62913f1",
   "metadata": {},
   "outputs": [],
   "source": [
    "scores_fairgp['Model'] = '2FaIRGP'\n",
    "scores_plaingp['Model'] = '1Plain GP'\n",
    "scores_pattern_scaling['Model'] = '0FaIR'\n",
    "metrics_cols = ['Bias', 'RMSE', 'MAE', 'Corr', 'LL', 'Calib95', 'CRPS']\n",
    "full_scores = pd.concat([scores_fairgp, scores_plaingp, scores_pattern_scaling]).sort_index().set_index('Model', append=True)\n",
    "full_scores.columns = metrics_cols\n",
    "full_scores = full_scores[['RMSE', 'MAE', 'Bias', 'Corr', 'LL', 'Calib95', 'CRPS']].sort_index().round(3)"
   ]
  },
  {
   "cell_type": "code",
   "execution_count": 64,
   "id": "28c0d146",
   "metadata": {
    "scrolled": true
   },
   "outputs": [
    {
     "name": "stderr",
     "output_type": "stream",
     "text": [
      "/tmp/ipykernel_37897/1249708795.py:2: FutureWarning: In future versions `DataFrame.to_latex` is expected to utilise the base implementation of `Styler.to_latex` for formatting and rendering. The arguments signature may therefore change. It is recommended instead to use `DataFrame.style.to_latex` which also contains additional functionality.\n",
      "  results.to_latex('./tables/ssp-experiment-spatial-scores.tex')\n"
     ]
    },
    {
     "data": {
      "text/html": [
       "<div>\n",
       "<style scoped>\n",
       "    .dataframe tbody tr th:only-of-type {\n",
       "        vertical-align: middle;\n",
       "    }\n",
       "\n",
       "    .dataframe tbody tr th {\n",
       "        vertical-align: top;\n",
       "    }\n",
       "\n",
       "    .dataframe thead th {\n",
       "        text-align: right;\n",
       "    }\n",
       "</style>\n",
       "<table border=\"1\" class=\"dataframe\">\n",
       "  <thead>\n",
       "    <tr style=\"text-align: right;\">\n",
       "      <th></th>\n",
       "      <th></th>\n",
       "      <th>RMSE</th>\n",
       "      <th>MAE</th>\n",
       "      <th>Bias</th>\n",
       "      <th>Corr</th>\n",
       "      <th>LL</th>\n",
       "      <th>Calib95</th>\n",
       "      <th>CRPS</th>\n",
       "    </tr>\n",
       "    <tr>\n",
       "      <th></th>\n",
       "      <th>Model</th>\n",
       "      <th></th>\n",
       "      <th></th>\n",
       "      <th></th>\n",
       "      <th></th>\n",
       "      <th></th>\n",
       "      <th></th>\n",
       "      <th></th>\n",
       "    </tr>\n",
       "  </thead>\n",
       "  <tbody>\n",
       "    <tr>\n",
       "      <th rowspan=\"3\" valign=\"top\">SSP126</th>\n",
       "      <th>0FaIR</th>\n",
       "      <td>0.674</td>\n",
       "      <td>0.486</td>\n",
       "      <td>0.018</td>\n",
       "      <td>0.776</td>\n",
       "      <td>-</td>\n",
       "      <td>-</td>\n",
       "      <td>-</td>\n",
       "    </tr>\n",
       "    <tr>\n",
       "      <th>1Plain GP</th>\n",
       "      <td>0.682</td>\n",
       "      <td>0.494</td>\n",
       "      <td>0.102</td>\n",
       "      <td>0.777</td>\n",
       "      <td>-2.151</td>\n",
       "      <td>0.745</td>\n",
       "      <td>0.374</td>\n",
       "    </tr>\n",
       "    <tr>\n",
       "      <th>2FaIRGP</th>\n",
       "      <td>0.650</td>\n",
       "      <td>0.467</td>\n",
       "      <td>0.026</td>\n",
       "      <td>0.792</td>\n",
       "      <td>-1.104</td>\n",
       "      <td>0.776</td>\n",
       "      <td>0.344</td>\n",
       "    </tr>\n",
       "    <tr>\n",
       "      <th rowspan=\"3\" valign=\"top\">SSP245</th>\n",
       "      <th>0FaIR</th>\n",
       "      <td>0.371</td>\n",
       "      <td>0.272</td>\n",
       "      <td>-0.048</td>\n",
       "      <td>0.966</td>\n",
       "      <td>-</td>\n",
       "      <td>-</td>\n",
       "      <td>-</td>\n",
       "    </tr>\n",
       "    <tr>\n",
       "      <th>1Plain GP</th>\n",
       "      <td>0.582</td>\n",
       "      <td>0.421</td>\n",
       "      <td>-0.166</td>\n",
       "      <td>0.948</td>\n",
       "      <td>-2.595</td>\n",
       "      <td>0.672</td>\n",
       "      <td>0.322</td>\n",
       "    </tr>\n",
       "    <tr>\n",
       "      <th>2FaIRGP</th>\n",
       "      <td>0.359</td>\n",
       "      <td>0.264</td>\n",
       "      <td>-0.057</td>\n",
       "      <td>0.968</td>\n",
       "      <td>-0.26</td>\n",
       "      <td>0.968</td>\n",
       "      <td>0.189</td>\n",
       "    </tr>\n",
       "    <tr>\n",
       "      <th rowspan=\"3\" valign=\"top\">SSP370</th>\n",
       "      <th>0FaIR</th>\n",
       "      <td>0.662</td>\n",
       "      <td>0.483</td>\n",
       "      <td>-0.100</td>\n",
       "      <td>0.945</td>\n",
       "      <td>-</td>\n",
       "      <td>-</td>\n",
       "      <td>-</td>\n",
       "    </tr>\n",
       "    <tr>\n",
       "      <th>1Plain GP</th>\n",
       "      <td>1.161</td>\n",
       "      <td>0.823</td>\n",
       "      <td>-0.469</td>\n",
       "      <td>0.913</td>\n",
       "      <td>-3.508</td>\n",
       "      <td>0.583</td>\n",
       "      <td>0.648</td>\n",
       "    </tr>\n",
       "    <tr>\n",
       "      <th>2FaIRGP</th>\n",
       "      <td>0.664</td>\n",
       "      <td>0.484</td>\n",
       "      <td>-0.033</td>\n",
       "      <td>0.944</td>\n",
       "      <td>-1.277</td>\n",
       "      <td>0.738</td>\n",
       "      <td>0.36</td>\n",
       "    </tr>\n",
       "    <tr>\n",
       "      <th rowspan=\"3\" valign=\"top\">SSP585</th>\n",
       "      <th>0FaIR</th>\n",
       "      <td>0.810</td>\n",
       "      <td>0.597</td>\n",
       "      <td>-0.409</td>\n",
       "      <td>0.967</td>\n",
       "      <td>-</td>\n",
       "      <td>-</td>\n",
       "      <td>-</td>\n",
       "    </tr>\n",
       "    <tr>\n",
       "      <th>1Plain GP</th>\n",
       "      <td>1.820</td>\n",
       "      <td>1.334</td>\n",
       "      <td>-0.291</td>\n",
       "      <td>0.688</td>\n",
       "      <td>-10.823</td>\n",
       "      <td>0.462</td>\n",
       "      <td>1.105</td>\n",
       "    </tr>\n",
       "    <tr>\n",
       "      <th>2FaIRGP</th>\n",
       "      <td>0.827</td>\n",
       "      <td>0.609</td>\n",
       "      <td>-0.422</td>\n",
       "      <td>0.967</td>\n",
       "      <td>-2.03</td>\n",
       "      <td>0.619</td>\n",
       "      <td>0.469</td>\n",
       "    </tr>\n",
       "    <tr>\n",
       "      <th rowspan=\"3\" valign=\"top\">mean</th>\n",
       "      <th>0FaIR</th>\n",
       "      <td>0.629</td>\n",
       "      <td>0.459</td>\n",
       "      <td>-0.135</td>\n",
       "      <td>0.913</td>\n",
       "      <td>-</td>\n",
       "      <td>-</td>\n",
       "      <td>-</td>\n",
       "    </tr>\n",
       "    <tr>\n",
       "      <th>1Plain GP</th>\n",
       "      <td>1.061</td>\n",
       "      <td>0.768</td>\n",
       "      <td>-0.206</td>\n",
       "      <td>0.832</td>\n",
       "      <td>-4.769</td>\n",
       "      <td>0.616</td>\n",
       "      <td>0.612</td>\n",
       "    </tr>\n",
       "    <tr>\n",
       "      <th>2FaIRGP</th>\n",
       "      <td>0.625</td>\n",
       "      <td>0.456</td>\n",
       "      <td>-0.122</td>\n",
       "      <td>0.918</td>\n",
       "      <td>-1.168</td>\n",
       "      <td>0.775</td>\n",
       "      <td>0.34</td>\n",
       "    </tr>\n",
       "    <tr>\n",
       "      <th rowspan=\"3\" valign=\"top\">std</th>\n",
       "      <th>0FaIR</th>\n",
       "      <td>0.185</td>\n",
       "      <td>0.135</td>\n",
       "      <td>0.189</td>\n",
       "      <td>0.092</td>\n",
       "      <td>-</td>\n",
       "      <td>-</td>\n",
       "      <td>-</td>\n",
       "    </tr>\n",
       "    <tr>\n",
       "      <th>1Plain GP</th>\n",
       "      <td>0.565</td>\n",
       "      <td>0.416</td>\n",
       "      <td>0.240</td>\n",
       "      <td>0.121</td>\n",
       "      <td>4.075</td>\n",
       "      <td>0.122</td>\n",
       "      <td>0.359</td>\n",
       "    </tr>\n",
       "    <tr>\n",
       "      <th>2FaIRGP</th>\n",
       "      <td>0.195</td>\n",
       "      <td>0.143</td>\n",
       "      <td>0.203</td>\n",
       "      <td>0.084</td>\n",
       "      <td>0.727</td>\n",
       "      <td>0.145</td>\n",
       "      <td>0.115</td>\n",
       "    </tr>\n",
       "  </tbody>\n",
       "</table>\n",
       "</div>"
      ],
      "text/plain": [
       "                   RMSE    MAE   Bias   Corr      LL Calib95   CRPS\n",
       "       Model                                                       \n",
       "SSP126 0FaIR      0.674  0.486  0.018  0.776       -       -      -\n",
       "       1Plain GP  0.682  0.494  0.102  0.777  -2.151   0.745  0.374\n",
       "       2FaIRGP    0.650  0.467  0.026  0.792  -1.104   0.776  0.344\n",
       "SSP245 0FaIR      0.371  0.272 -0.048  0.966       -       -      -\n",
       "       1Plain GP  0.582  0.421 -0.166  0.948  -2.595   0.672  0.322\n",
       "       2FaIRGP    0.359  0.264 -0.057  0.968   -0.26   0.968  0.189\n",
       "SSP370 0FaIR      0.662  0.483 -0.100  0.945       -       -      -\n",
       "       1Plain GP  1.161  0.823 -0.469  0.913  -3.508   0.583  0.648\n",
       "       2FaIRGP    0.664  0.484 -0.033  0.944  -1.277   0.738   0.36\n",
       "SSP585 0FaIR      0.810  0.597 -0.409  0.967       -       -      -\n",
       "       1Plain GP  1.820  1.334 -0.291  0.688 -10.823   0.462  1.105\n",
       "       2FaIRGP    0.827  0.609 -0.422  0.967   -2.03   0.619  0.469\n",
       "mean   0FaIR      0.629  0.459 -0.135  0.913       -       -      -\n",
       "       1Plain GP  1.061  0.768 -0.206  0.832  -4.769   0.616  0.612\n",
       "       2FaIRGP    0.625  0.456 -0.122  0.918  -1.168   0.775   0.34\n",
       "std    0FaIR      0.185  0.135  0.189  0.092       -       -      -\n",
       "       1Plain GP  0.565  0.416  0.240  0.121   4.075   0.122  0.359\n",
       "       2FaIRGP    0.195  0.143  0.203  0.084   0.727   0.145  0.115"
      ]
     },
     "execution_count": 64,
     "metadata": {},
     "output_type": "execute_result"
    }
   ],
   "source": [
    "results = full_scores[['RMSE', 'MAE', 'Bias', 'Corr', 'LL', 'Calib95', 'CRPS']].fillna('-')\n",
    "results.to_latex('./tables/ssp-experiment-spatial-scores.tex')\n",
    "results"
   ]
  },
  {
   "cell_type": "code",
   "execution_count": null,
   "id": "2d0cb5d9",
   "metadata": {},
   "outputs": [],
   "source": []
  }
 ],
 "metadata": {
  "kernelspec": {
   "display_name": "sandbox",
   "language": "python",
   "name": "sandbox"
  },
  "language_info": {
   "codemirror_mode": {
    "name": "ipython",
    "version": 3
   },
   "file_extension": ".py",
   "mimetype": "text/x-python",
   "name": "python",
   "nbconvert_exporter": "python",
   "pygments_lexer": "ipython3",
   "version": "3.8.0"
  }
 },
 "nbformat": 4,
 "nbformat_minor": 5
}
