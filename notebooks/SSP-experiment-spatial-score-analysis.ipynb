{
 "cells": [
  {
   "cell_type": "code",
   "execution_count": 1,
   "id": "cbaa4020",
   "metadata": {},
   "outputs": [],
   "source": [
    "%load_ext autoreload\n",
    "%autoreload 2"
   ]
  },
  {
   "cell_type": "code",
   "execution_count": 99,
   "id": "6bf1c661",
   "metadata": {},
   "outputs": [],
   "source": [
    "import os\n",
    "import sys\n",
    "import numpy as np\n",
    "import torch\n",
    "import gpytorch\n",
    "import matplotlib.pyplot as plt\n",
    "import pandas as pd\n",
    "import xarray as xr\n",
    "import tqdm\n",
    "import utils as utils\n",
    "\n",
    "base_dir = os.path.join(os.getcwd(), '..')\n",
    "sys.path.append(base_dir)\n",
    "\n",
    "import fit_spatial_GP as plaingp\n",
    "import fit_spatial_simpleFaIRGP as fairgp\n",
    "from src.evaluation.metrics import spearman_correlation"
   ]
  },
  {
   "cell_type": "code",
   "execution_count": 61,
   "id": "4dd62e3d",
   "metadata": {},
   "outputs": [],
   "source": [
    "def weighted_mean(x, wlat):\n",
    "    mu = torch.sum(x * wlat, dim=(1, 2)) / (x.size(2) * wlat.sum())\n",
    "    return mu\n",
    "\n",
    "def compute_deterministic_metrics(prediction, groundtruth, wlat):\n",
    "    # Compute raw distances metrics\n",
    "    difference = prediction.sub(groundtruth)\n",
    "    mean_bias = weighted_mean(difference, wlat).mean()\n",
    "    rmse = weighted_mean(torch.square(difference), wlat).mean().sqrt()\n",
    "    mae = weighted_mean(torch.abs(difference), wlat).mean()\n",
    "\n",
    "    # Compute spearman correlation\n",
    "    corr = spearman_correlation(prediction.flatten(), groundtruth.flatten())\n",
    "\n",
    "    # Encapsulate results in output dictionnary\n",
    "    output = {'mb': mean_bias.item(),\n",
    "              'rmse': rmse.item(),\n",
    "              'mae': mae.item(),\n",
    "              'corr': corr}\n",
    "    return output\n",
    "\n",
    "def compute_probabilistic_metrics(prediction, groudtruth, wlat):\n",
    "    ll = weighted_mean(prediction.log_prob(groundtruth), wlat).mean()\n",
    "    lb, ub = prediction.icdf(torch.tensor(0.025)), prediction.icdf(torch.tensor(0.975))\n",
    "    mask = (groundtruth >= lb) & (groundtruth <= ub)\n",
    "    calib95 = weighted_mean(mask.float(), wlat).mean()\n",
    "    output = {'ll': ll.item(),\n",
    "              'calib95': calib95.item()}\n",
    "    return output"
   ]
  },
  {
   "cell_type": "markdown",
   "id": "35d5bd40",
   "metadata": {},
   "source": [
    "## PlainGP"
   ]
  },
  {
   "cell_type": "markdown",
   "id": "77ff0495",
   "metadata": {},
   "source": [
    "### SSP126"
   ]
  },
  {
   "cell_type": "code",
   "execution_count": 65,
   "id": "e81e9b40",
   "metadata": {},
   "outputs": [
    {
     "data": {
      "text/plain": [
       "<All keys matched successfully>"
      ]
     },
     "execution_count": 65,
     "metadata": {},
     "output_type": "execute_result"
    }
   ],
   "source": [
    "train_cfg = {'dataset' : {'dirpath': '../data/', 'keys': ['historical', 'ssp245', 'ssp370', 'ssp585']}}\n",
    "train_data = plaingp.make_data(train_cfg)\n",
    "\n",
    "test_cfg = {'dataset' : {'dirpath': '../data/', 'keys': ['ssp126']}}\n",
    "test_data = plaingp.make_data(test_cfg)\n",
    "\n",
    "model = plaingp.make_model(train_cfg, train_data)\n",
    "state_dict = torch.load('../data/models/leave-one-out-ssp/ssp126/SpatialPlainGP/state_dict.pt')\n",
    "model.load_state_dict(state_dict)"
   ]
  },
  {
   "cell_type": "code",
   "execution_count": 66,
   "id": "6df21bb5",
   "metadata": {},
   "outputs": [],
   "source": [
    "test_scenarios = test_data.scenarios\n",
    "Xtest = test_scenarios.glob_inputs[:, 1:]\n",
    "Xtest = (Xtest - model.mu) / model.sigma\n",
    "test_tas = test_scenarios.tas\n",
    "model = model.eval()"
   ]
  },
  {
   "cell_type": "code",
   "execution_count": 67,
   "id": "5906e3b8",
   "metadata": {},
   "outputs": [],
   "source": [
    "with torch.no_grad():\n",
    "    posterior = model.posterior(Xtest, diag=False)\n",
    "    posterior = model.likelihood(posterior)"
   ]
  },
  {
   "cell_type": "code",
   "execution_count": 68,
   "id": "14cd3cbe",
   "metadata": {},
   "outputs": [],
   "source": [
    "nlat = len(test_scenarios[0].lat)\n",
    "nlon = len(test_scenarios[0].lon)\n",
    "ntimes = len(test_scenarios[0].timesteps)\n",
    "time_slice = slice(-21, None)\n",
    "\n",
    "prior_mean = model.mu_targets.view(1, nlat, nlon).repeat(ntimes, 1, 1)\n",
    "posterior_mean = posterior.mean.reshape(nlat, nlon, -1).permute(2, 0, 1)\n",
    "posterior_correction =  model.sigma_targets.view(1, nlat, nlon) * posterior_mean\n",
    "posterior_mean = prior_mean + posterior_mean\n",
    "\n",
    "posterior_stddev = posterior.stddev.reshape(nlat, nlon, -1).permute(2, 0, 1)\n",
    "posterior_stddev = model.sigma_targets.view(1, nlat, nlon) * posterior_stddev\n",
    "\n",
    "prediction = torch.distributions.Normal(posterior_mean[time_slice], posterior_stddev[time_slice])\n",
    "groundtruth = test_tas[time_slice]\n",
    "wlat = torch.cos(torch.deg2rad(test_scenarios[0].lat)).clip(min=torch.finfo(torch.float64).eps)[:, None]"
   ]
  },
  {
   "cell_type": "code",
   "execution_count": 69,
   "id": "24c881c7",
   "metadata": {},
   "outputs": [],
   "source": [
    "metrics_ssp126 = {**compute_deterministic_metrics(prediction.mean, groundtruth, wlat),\n",
    "                  **compute_probabilistic_metrics(prediction, groundtruth, wlat)}"
   ]
  },
  {
   "cell_type": "markdown",
   "id": "b8cc39c8",
   "metadata": {},
   "source": [
    "### SSP245"
   ]
  },
  {
   "cell_type": "code",
   "execution_count": 82,
   "id": "25fca91f",
   "metadata": {},
   "outputs": [
    {
     "data": {
      "text/plain": [
       "<All keys matched successfully>"
      ]
     },
     "execution_count": 82,
     "metadata": {},
     "output_type": "execute_result"
    }
   ],
   "source": [
    "train_cfg = {'dataset' : {'dirpath': '../data/', 'keys': ['historical', 'ssp126', 'ssp370', 'ssp585']}}\n",
    "train_data = plaingp.make_data(train_cfg)\n",
    "\n",
    "test_cfg = {'dataset' : {'dirpath': '../data/', 'keys': ['ssp245']}}\n",
    "test_data = plaingp.make_data(test_cfg)\n",
    "\n",
    "model = plaingp.make_model(train_cfg, train_data)\n",
    "state_dict = torch.load('../data/models/leave-one-out-ssp/ssp245/SpatialPlainGP/state_dict.pt')\n",
    "model.load_state_dict(state_dict)"
   ]
  },
  {
   "cell_type": "code",
   "execution_count": 83,
   "id": "deadcf14",
   "metadata": {},
   "outputs": [],
   "source": [
    "test_scenarios = test_data.scenarios\n",
    "Xtest = test_scenarios.glob_inputs[:, 1:]\n",
    "Xtest = (Xtest - model.mu) / model.sigma\n",
    "test_tas = test_scenarios.tas\n",
    "model = model.eval()"
   ]
  },
  {
   "cell_type": "code",
   "execution_count": 84,
   "id": "4d5afbe4",
   "metadata": {},
   "outputs": [],
   "source": [
    "with torch.no_grad():\n",
    "    posterior = model.posterior(Xtest, diag=False)\n",
    "    posterior = model.likelihood(posterior)"
   ]
  },
  {
   "cell_type": "code",
   "execution_count": 85,
   "id": "9de5aab2",
   "metadata": {},
   "outputs": [],
   "source": [
    "nlat = len(test_scenarios[0].lat)\n",
    "nlon = len(test_scenarios[0].lon)\n",
    "ntimes = len(test_scenarios[0].timesteps)\n",
    "time_slice = slice(-21, None)\n",
    "\n",
    "prior_mean = model.mu_targets.view(1, nlat, nlon).repeat(ntimes, 1, 1)\n",
    "posterior_mean = posterior.mean.reshape(nlat, nlon, -1).permute(2, 0, 1)\n",
    "posterior_correction =  model.sigma_targets.view(1, nlat, nlon) * posterior_mean\n",
    "posterior_mean = prior_mean + posterior_mean\n",
    "\n",
    "posterior_stddev = posterior.stddev.reshape(nlat, nlon, -1).permute(2, 0, 1)\n",
    "posterior_stddev = model.sigma_targets.view(1, nlat, nlon) * posterior_stddev\n",
    "\n",
    "prediction = torch.distributions.Normal(posterior_mean[time_slice], posterior_stddev[time_slice])\n",
    "groundtruth = test_tas[time_slice]\n",
    "wlat = torch.cos(torch.deg2rad(test_scenarios[0].lat)).clip(min=torch.finfo(torch.float64).eps)[:, None]"
   ]
  },
  {
   "cell_type": "code",
   "execution_count": 86,
   "id": "a848c26b",
   "metadata": {},
   "outputs": [],
   "source": [
    "metrics_ssp245 = {**compute_deterministic_metrics(prediction.mean, groundtruth, wlat),\n",
    "                  **compute_probabilistic_metrics(prediction, groundtruth, wlat)}"
   ]
  },
  {
   "cell_type": "markdown",
   "id": "82678ed2",
   "metadata": {},
   "source": [
    "### SSP370"
   ]
  },
  {
   "cell_type": "code",
   "execution_count": 87,
   "id": "77d51fa2",
   "metadata": {},
   "outputs": [
    {
     "data": {
      "text/plain": [
       "<All keys matched successfully>"
      ]
     },
     "execution_count": 87,
     "metadata": {},
     "output_type": "execute_result"
    }
   ],
   "source": [
    "train_cfg = {'dataset' : {'dirpath': '../data/', 'keys': ['historical', 'ssp126', 'ssp245', 'ssp585']}}\n",
    "train_data = plaingp.make_data(train_cfg)\n",
    "\n",
    "test_cfg = {'dataset' : {'dirpath': '../data/', 'keys': ['ssp370']}}\n",
    "test_data = plaingp.make_data(test_cfg)\n",
    "\n",
    "model = plaingp.make_model(train_cfg, train_data)\n",
    "state_dict = torch.load('../data/models/leave-one-out-ssp/ssp370/SpatialPlainGP/state_dict.pt')\n",
    "model.load_state_dict(state_dict)"
   ]
  },
  {
   "cell_type": "code",
   "execution_count": 88,
   "id": "c2bd0576",
   "metadata": {},
   "outputs": [],
   "source": [
    "test_scenarios = test_data.scenarios\n",
    "Xtest = test_scenarios.glob_inputs[:, 1:]\n",
    "Xtest = (Xtest - model.mu) / model.sigma\n",
    "test_tas = test_scenarios.tas\n",
    "model = model.eval()"
   ]
  },
  {
   "cell_type": "code",
   "execution_count": 89,
   "id": "349e1504",
   "metadata": {},
   "outputs": [],
   "source": [
    "with torch.no_grad():\n",
    "    posterior = model.posterior(Xtest, diag=False)\n",
    "    posterior = model.likelihood(posterior)"
   ]
  },
  {
   "cell_type": "code",
   "execution_count": 90,
   "id": "42369b3e",
   "metadata": {},
   "outputs": [],
   "source": [
    "nlat = len(test_scenarios[0].lat)\n",
    "nlon = len(test_scenarios[0].lon)\n",
    "ntimes = len(test_scenarios[0].timesteps)\n",
    "time_slice = slice(-21, None)\n",
    "\n",
    "prior_mean = model.mu_targets.view(1, nlat, nlon).repeat(ntimes, 1, 1)\n",
    "posterior_mean = posterior.mean.reshape(nlat, nlon, -1).permute(2, 0, 1)\n",
    "posterior_correction =  model.sigma_targets.view(1, nlat, nlon) * posterior_mean\n",
    "posterior_mean = prior_mean + posterior_mean\n",
    "\n",
    "posterior_stddev = posterior.stddev.reshape(nlat, nlon, -1).permute(2, 0, 1)\n",
    "posterior_stddev = model.sigma_targets.view(1, nlat, nlon) * posterior_stddev\n",
    "\n",
    "prediction = torch.distributions.Normal(posterior_mean[time_slice], posterior_stddev[time_slice])\n",
    "groundtruth = test_tas[time_slice]\n",
    "wlat = torch.cos(torch.deg2rad(test_scenarios[0].lat)).clip(min=torch.finfo(torch.float64).eps)[:, None]"
   ]
  },
  {
   "cell_type": "code",
   "execution_count": 92,
   "id": "a72f8b11",
   "metadata": {},
   "outputs": [],
   "source": [
    "metrics_ssp370 = {**compute_deterministic_metrics(prediction.mean, groundtruth, wlat),\n",
    "                  **compute_probabilistic_metrics(prediction, groundtruth, wlat)}"
   ]
  },
  {
   "cell_type": "markdown",
   "id": "04ff198c",
   "metadata": {},
   "source": [
    "### SSP585"
   ]
  },
  {
   "cell_type": "code",
   "execution_count": 93,
   "id": "44441d52",
   "metadata": {},
   "outputs": [
    {
     "data": {
      "text/plain": [
       "<All keys matched successfully>"
      ]
     },
     "execution_count": 93,
     "metadata": {},
     "output_type": "execute_result"
    }
   ],
   "source": [
    "train_cfg = {'dataset' : {'dirpath': '../data/', 'keys': ['historical', 'ssp126', 'ssp245', 'ssp370']}}\n",
    "train_data = plaingp.make_data(train_cfg)\n",
    "\n",
    "test_cfg = {'dataset' : {'dirpath': '../data/', 'keys': ['ssp585']}}\n",
    "test_data = plaingp.make_data(test_cfg)\n",
    "\n",
    "model = plaingp.make_model(train_cfg, train_data)\n",
    "state_dict = torch.load('../data/models/leave-one-out-ssp/ssp585/SpatialPlainGP/state_dict.pt')\n",
    "model.load_state_dict(state_dict)"
   ]
  },
  {
   "cell_type": "code",
   "execution_count": 94,
   "id": "69208419",
   "metadata": {},
   "outputs": [],
   "source": [
    "test_scenarios = test_data.scenarios\n",
    "Xtest = test_scenarios.glob_inputs[:, 1:]\n",
    "Xtest = (Xtest - model.mu) / model.sigma\n",
    "test_tas = test_scenarios.tas\n",
    "model = model.eval()"
   ]
  },
  {
   "cell_type": "code",
   "execution_count": 95,
   "id": "def90658",
   "metadata": {},
   "outputs": [],
   "source": [
    "with torch.no_grad():\n",
    "    posterior = model.posterior(Xtest, diag=False)\n",
    "    posterior = model.likelihood(posterior)"
   ]
  },
  {
   "cell_type": "code",
   "execution_count": 96,
   "id": "e99c7b8c",
   "metadata": {},
   "outputs": [],
   "source": [
    "nlat = len(test_scenarios[0].lat)\n",
    "nlon = len(test_scenarios[0].lon)\n",
    "ntimes = len(test_scenarios[0].timesteps)\n",
    "time_slice = slice(-21, None)\n",
    "\n",
    "prior_mean = model.mu_targets.view(1, nlat, nlon).repeat(ntimes, 1, 1)\n",
    "posterior_mean = posterior.mean.reshape(nlat, nlon, -1).permute(2, 0, 1)\n",
    "posterior_correction =  model.sigma_targets.view(1, nlat, nlon) * posterior_mean\n",
    "posterior_mean = prior_mean + posterior_mean\n",
    "\n",
    "posterior_stddev = posterior.stddev.reshape(nlat, nlon, -1).permute(2, 0, 1)\n",
    "posterior_stddev = model.sigma_targets.view(1, nlat, nlon) * posterior_stddev\n",
    "\n",
    "prediction = torch.distributions.Normal(posterior_mean[time_slice], posterior_stddev[time_slice])\n",
    "groundtruth = test_tas[time_slice]\n",
    "wlat = torch.cos(torch.deg2rad(test_scenarios[0].lat)).clip(min=torch.finfo(torch.float64).eps)[:, None]"
   ]
  },
  {
   "cell_type": "code",
   "execution_count": 97,
   "id": "25604dd2",
   "metadata": {},
   "outputs": [],
   "source": [
    "metrics_ssp585 = {**compute_deterministic_metrics(prediction.mean, groundtruth, wlat),\n",
    "                  **compute_probabilistic_metrics(prediction, groundtruth, wlat)}"
   ]
  },
  {
   "cell_type": "code",
   "execution_count": 102,
   "id": "6301bb2f",
   "metadata": {},
   "outputs": [],
   "source": [
    "# metrics_plaingp = [metrics_ssp126, metrics_ssp245, metrics_ssp370, metrics_ssp585]\n",
    "scores_plaingp = pd.DataFrame(metrics_plaingp)"
   ]
  },
  {
   "cell_type": "markdown",
   "id": "d43b2b4e",
   "metadata": {},
   "source": [
    "# FaIRGP"
   ]
  },
  {
   "cell_type": "markdown",
   "id": "6a378b8a",
   "metadata": {},
   "source": [
    "### SSP126"
   ]
  },
  {
   "cell_type": "code",
   "execution_count": 103,
   "id": "02fd6435",
   "metadata": {},
   "outputs": [
    {
     "data": {
      "text/plain": [
       "<All keys matched successfully>"
      ]
     },
     "execution_count": 103,
     "metadata": {},
     "output_type": "execute_result"
    }
   ],
   "source": [
    "train_cfg = {'dataset' : {'dirpath': '../data/', 'keys': ['historical', 'ssp245', 'ssp370', 'ssp585']}}\n",
    "train_data = fairgp.make_data(train_cfg)\n",
    "\n",
    "test_cfg = {'dataset' : {'dirpath': '../data/', 'keys': ['ssp126']}}\n",
    "test_data = fairgp.make_data(test_cfg)\n",
    "\n",
    "model = fairgp.make_model(train_cfg, train_data)\n",
    "state_dict = torch.load('../data/models/leave-one-out-ssp/ssp126/SimpleSpatialFaIRGP/state_dict.pt')\n",
    "model.load_state_dict(state_dict)"
   ]
  },
  {
   "cell_type": "code",
   "execution_count": 104,
   "id": "7214d4ce",
   "metadata": {},
   "outputs": [],
   "source": [
    "test_scenarios = test_data.scenarios\n",
    "test_tas = test_scenarios.tas\n",
    "\n",
    "model = model.eval()\n",
    "with torch.no_grad():\n",
    "    posterior = model.posterior(test_scenarios, diag=False)\n",
    "    posterior = model.likelihood(posterior)"
   ]
  },
  {
   "cell_type": "code",
   "execution_count": 105,
   "id": "b901721f",
   "metadata": {},
   "outputs": [],
   "source": [
    "nlat = len(test_scenarios[0].lat)\n",
    "nlon = len(test_scenarios[0].lon)\n",
    "time_slice = slice(-21, None)\n",
    "\n",
    "prior_mean = model._compute_mean(test_scenarios[0])\n",
    "posterior_mean = posterior.mean.reshape(nlat, nlon, -1).permute(2, 0, 1)\n",
    "posterior_correction = model.mu_targets + model.sigma_targets * posterior_mean\n",
    "posterior_mean = prior_mean + posterior_correction\n",
    "\n",
    "posterior_stddev = posterior.stddev.reshape(nlat, nlon, -1).permute(2, 0, 1)\n",
    "posterior_stddev = model.sigma_targets * posterior_stddev\n",
    "\n",
    "prediction = torch.distributions.Normal(posterior_mean[time_slice], posterior_stddev[time_slice])\n",
    "groundtruth = test_tas[time_slice]"
   ]
  },
  {
   "cell_type": "code",
   "execution_count": 106,
   "id": "e8432796",
   "metadata": {},
   "outputs": [],
   "source": [
    "metrics_ssp126 = {**compute_deterministic_metrics(prediction.mean, groundtruth, wlat),\n",
    "                  **compute_probabilistic_metrics(prediction, groundtruth, wlat)}"
   ]
  },
  {
   "cell_type": "markdown",
   "id": "d1374055",
   "metadata": {},
   "source": [
    "### SSP245"
   ]
  },
  {
   "cell_type": "code",
   "execution_count": 107,
   "id": "5e5e796a",
   "metadata": {},
   "outputs": [
    {
     "data": {
      "text/plain": [
       "<All keys matched successfully>"
      ]
     },
     "execution_count": 107,
     "metadata": {},
     "output_type": "execute_result"
    }
   ],
   "source": [
    "train_cfg = {'dataset' : {'dirpath': '../data/', 'keys': ['historical', 'ssp126', 'ssp370', 'ssp585']}}\n",
    "train_data = fairgp.make_data(train_cfg)\n",
    "\n",
    "test_cfg = {'dataset' : {'dirpath': '../data/', 'keys': ['ssp245']}}\n",
    "test_data = fairgp.make_data(test_cfg)\n",
    "\n",
    "model = fairgp.make_model(train_cfg, train_data)\n",
    "state_dict = torch.load('../data/models/leave-one-out-ssp/ssp245/SimpleSpatialFaIRGP/state_dict.pt')\n",
    "model.load_state_dict(state_dict)"
   ]
  },
  {
   "cell_type": "code",
   "execution_count": 108,
   "id": "0c477f8c",
   "metadata": {},
   "outputs": [],
   "source": [
    "test_scenarios = test_data.scenarios\n",
    "test_tas = test_scenarios.tas\n",
    "\n",
    "model = model.eval()\n",
    "with torch.no_grad():\n",
    "    posterior = model.posterior(test_scenarios, diag=False)\n",
    "    posterior = model.likelihood(posterior)"
   ]
  },
  {
   "cell_type": "code",
   "execution_count": 109,
   "id": "791bf5f2",
   "metadata": {},
   "outputs": [],
   "source": [
    "nlat = len(test_scenarios[0].lat)\n",
    "nlon = len(test_scenarios[0].lon)\n",
    "time_slice = slice(-21, None)\n",
    "\n",
    "prior_mean = model._compute_mean(test_scenarios[0])\n",
    "posterior_mean = posterior.mean.reshape(nlat, nlon, -1).permute(2, 0, 1)\n",
    "posterior_correction = model.mu_targets + model.sigma_targets * posterior_mean\n",
    "posterior_mean = prior_mean + posterior_correction\n",
    "\n",
    "posterior_stddev = posterior.stddev.reshape(nlat, nlon, -1).permute(2, 0, 1)\n",
    "posterior_stddev = model.sigma_targets * posterior_stddev\n",
    "\n",
    "prediction = torch.distributions.Normal(posterior_mean[time_slice], posterior_stddev[time_slice])\n",
    "groundtruth = test_tas[time_slice]"
   ]
  },
  {
   "cell_type": "code",
   "execution_count": 110,
   "id": "6dd3b644",
   "metadata": {},
   "outputs": [],
   "source": [
    "metrics_ssp245 = {**compute_deterministic_metrics(prediction.mean, groundtruth, wlat),\n",
    "                  **compute_probabilistic_metrics(prediction, groundtruth, wlat)}"
   ]
  },
  {
   "cell_type": "markdown",
   "id": "4f29fc44",
   "metadata": {},
   "source": [
    "### SSP370"
   ]
  },
  {
   "cell_type": "code",
   "execution_count": 111,
   "id": "a7e9f267",
   "metadata": {},
   "outputs": [
    {
     "data": {
      "text/plain": [
       "<All keys matched successfully>"
      ]
     },
     "execution_count": 111,
     "metadata": {},
     "output_type": "execute_result"
    }
   ],
   "source": [
    "train_cfg = {'dataset' : {'dirpath': '../data/', 'keys': ['historical', 'ssp126', 'ssp245', 'ssp585']}}\n",
    "train_data = fairgp.make_data(train_cfg)\n",
    "\n",
    "test_cfg = {'dataset' : {'dirpath': '../data/', 'keys': ['ssp370']}}\n",
    "test_data = fairgp.make_data(test_cfg)\n",
    "\n",
    "model = fairgp.make_model(train_cfg, train_data)\n",
    "state_dict = torch.load('../data/models/leave-one-out-ssp/ssp370/SimpleSpatialFaIRGP/state_dict.pt')\n",
    "model.load_state_dict(state_dict)"
   ]
  },
  {
   "cell_type": "code",
   "execution_count": 112,
   "id": "a43586d1",
   "metadata": {},
   "outputs": [],
   "source": [
    "test_scenarios = test_data.scenarios\n",
    "test_tas = test_scenarios.tas\n",
    "\n",
    "model = model.eval()\n",
    "with torch.no_grad():\n",
    "    posterior = model.posterior(test_scenarios, diag=False)\n",
    "    posterior = model.likelihood(posterior)"
   ]
  },
  {
   "cell_type": "code",
   "execution_count": 113,
   "id": "6c1b8bde",
   "metadata": {},
   "outputs": [],
   "source": [
    "nlat = len(test_scenarios[0].lat)\n",
    "nlon = len(test_scenarios[0].lon)\n",
    "time_slice = slice(-21, None)\n",
    "\n",
    "prior_mean = model._compute_mean(test_scenarios[0])\n",
    "posterior_mean = posterior.mean.reshape(nlat, nlon, -1).permute(2, 0, 1)\n",
    "posterior_correction = model.mu_targets + model.sigma_targets * posterior_mean\n",
    "posterior_mean = prior_mean + posterior_correction\n",
    "\n",
    "posterior_stddev = posterior.stddev.reshape(nlat, nlon, -1).permute(2, 0, 1)\n",
    "posterior_stddev = model.sigma_targets * posterior_stddev\n",
    "\n",
    "prediction = torch.distributions.Normal(posterior_mean[time_slice], posterior_stddev[time_slice])\n",
    "groundtruth = test_tas[time_slice]"
   ]
  },
  {
   "cell_type": "code",
   "execution_count": 114,
   "id": "8fe27f99",
   "metadata": {},
   "outputs": [],
   "source": [
    "metrics_ssp370 = {**compute_deterministic_metrics(prediction.mean, groundtruth, wlat),\n",
    "                  **compute_probabilistic_metrics(prediction, groundtruth, wlat)}"
   ]
  },
  {
   "cell_type": "markdown",
   "id": "f2e00729",
   "metadata": {},
   "source": [
    "### SSP585"
   ]
  },
  {
   "cell_type": "code",
   "execution_count": 115,
   "id": "e2a2d6a8",
   "metadata": {},
   "outputs": [
    {
     "data": {
      "text/plain": [
       "<All keys matched successfully>"
      ]
     },
     "execution_count": 115,
     "metadata": {},
     "output_type": "execute_result"
    }
   ],
   "source": [
    "train_cfg = {'dataset' : {'dirpath': '../data/', 'keys': ['historical', 'ssp126', 'ssp245', 'ssp370']}}\n",
    "train_data = fairgp.make_data(train_cfg)\n",
    "\n",
    "test_cfg = {'dataset' : {'dirpath': '../data/', 'keys': ['ssp585']}}\n",
    "test_data = fairgp.make_data(test_cfg)\n",
    "\n",
    "model = fairgp.make_model(train_cfg, train_data)\n",
    "state_dict = torch.load('../data/models/leave-one-out-ssp/ssp585/SimpleSpatialFaIRGP/state_dict.pt')\n",
    "model.load_state_dict(state_dict)"
   ]
  },
  {
   "cell_type": "code",
   "execution_count": 116,
   "id": "40e4e8a3",
   "metadata": {},
   "outputs": [],
   "source": [
    "test_scenarios = test_data.scenarios\n",
    "test_tas = test_scenarios.tas\n",
    "\n",
    "model = model.eval()\n",
    "with torch.no_grad():\n",
    "    posterior = model.posterior(test_scenarios, diag=False)\n",
    "    posterior = model.likelihood(posterior)"
   ]
  },
  {
   "cell_type": "code",
   "execution_count": 117,
   "id": "cb57f243",
   "metadata": {},
   "outputs": [],
   "source": [
    "nlat = len(test_scenarios[0].lat)\n",
    "nlon = len(test_scenarios[0].lon)\n",
    "time_slice = slice(-21, None)\n",
    "\n",
    "prior_mean = model._compute_mean(test_scenarios[0])\n",
    "posterior_mean = posterior.mean.reshape(nlat, nlon, -1).permute(2, 0, 1)\n",
    "posterior_correction = model.mu_targets + model.sigma_targets * posterior_mean\n",
    "posterior_mean = prior_mean + posterior_correction\n",
    "\n",
    "posterior_stddev = posterior.stddev.reshape(nlat, nlon, -1).permute(2, 0, 1)\n",
    "posterior_stddev = model.sigma_targets * posterior_stddev\n",
    "\n",
    "prediction = torch.distributions.Normal(posterior_mean[time_slice], posterior_stddev[time_slice])\n",
    "groundtruth = test_tas[time_slice]"
   ]
  },
  {
   "cell_type": "code",
   "execution_count": 118,
   "id": "76a6503d",
   "metadata": {},
   "outputs": [],
   "source": [
    "metrics_ssp585 = {**compute_deterministic_metrics(prediction.mean, groundtruth, wlat),\n",
    "                  **compute_probabilistic_metrics(prediction, groundtruth, wlat)}"
   ]
  },
  {
   "cell_type": "code",
   "execution_count": 119,
   "id": "8f1b2b1c",
   "metadata": {},
   "outputs": [],
   "source": [
    "metrics_fairgp = [metrics_ssp126, metrics_ssp245, metrics_ssp370, metrics_ssp585]\n",
    "scores_fairgp = pd.DataFrame(metrics_fairgp)"
   ]
  },
  {
   "cell_type": "markdown",
   "id": "520b1a8b",
   "metadata": {},
   "source": [
    "---"
   ]
  },
  {
   "cell_type": "code",
   "execution_count": 122,
   "id": "8171fcce",
   "metadata": {},
   "outputs": [],
   "source": [
    "fairgp_summary = scores_fairgp.aggregate(['mean', 'std'])\n",
    "gp_summary = scores_plaingp.aggregate(['mean', 'std'])"
   ]
  },
  {
   "cell_type": "code",
   "execution_count": 124,
   "id": "465d1780",
   "metadata": {},
   "outputs": [],
   "source": [
    "model_cols = ['FaIRGP', 'Plain GP']\n",
    "metrics_cols = ['Bias', 'RMSE', 'MAE', 'Corr', 'LL', 'Calib95']\n",
    "\n",
    "\n",
    "results = pd.concat([fairgp_summary.loc['mean'], gp_summary.loc['mean']], axis=1)\n",
    "results.columns = model_cols\n",
    "results = results.T\n",
    "results.columns = metrics_cols\n",
    "\n",
    "stddev = pd.concat([fairgp_summary.loc['std'], gp_summary.loc['std']], axis=1)\n",
    "stddev.columns = model_cols\n",
    "stddev = stddev.T\n",
    "stddev.columns = metrics_cols"
   ]
  },
  {
   "cell_type": "code",
   "execution_count": 126,
   "id": "7b4cd3d9",
   "metadata": {},
   "outputs": [
    {
     "name": "stderr",
     "output_type": "stream",
     "text": [
      "/tmp/ipykernel_97945/1395175347.py:1: FutureWarning: In future versions `DataFrame.to_latex` is expected to utilise the base implementation of `Styler.to_latex` for formatting and rendering. The arguments signature may therefore change. It is recommended instead to use `DataFrame.style.to_latex` which also contains additional functionality.\n",
      "  results.to_latex('./tables/spatial-ssp-experiment-mean-scores.tex')\n"
     ]
    },
    {
     "data": {
      "text/html": [
       "<div>\n",
       "<style scoped>\n",
       "    .dataframe tbody tr th:only-of-type {\n",
       "        vertical-align: middle;\n",
       "    }\n",
       "\n",
       "    .dataframe tbody tr th {\n",
       "        vertical-align: top;\n",
       "    }\n",
       "\n",
       "    .dataframe thead th {\n",
       "        text-align: right;\n",
       "    }\n",
       "</style>\n",
       "<table border=\"1\" class=\"dataframe\">\n",
       "  <thead>\n",
       "    <tr style=\"text-align: right;\">\n",
       "      <th></th>\n",
       "      <th>Bias</th>\n",
       "      <th>RMSE</th>\n",
       "      <th>MAE</th>\n",
       "      <th>Corr</th>\n",
       "      <th>LL</th>\n",
       "      <th>Calib95</th>\n",
       "    </tr>\n",
       "  </thead>\n",
       "  <tbody>\n",
       "    <tr>\n",
       "      <th>FaIRGP</th>\n",
       "      <td>-0.077211</td>\n",
       "      <td>0.623604</td>\n",
       "      <td>0.455664</td>\n",
       "      <td>0.915279</td>\n",
       "      <td>-1.109238</td>\n",
       "      <td>0.788524</td>\n",
       "    </tr>\n",
       "    <tr>\n",
       "      <th>Plain GP</th>\n",
       "      <td>-0.205981</td>\n",
       "      <td>1.061161</td>\n",
       "      <td>0.767880</td>\n",
       "      <td>0.831512</td>\n",
       "      <td>-4.769297</td>\n",
       "      <td>0.615509</td>\n",
       "    </tr>\n",
       "  </tbody>\n",
       "</table>\n",
       "</div>"
      ],
      "text/plain": [
       "              Bias      RMSE       MAE      Corr        LL   Calib95\n",
       "FaIRGP   -0.077211  0.623604  0.455664  0.915279 -1.109238  0.788524\n",
       "Plain GP -0.205981  1.061161  0.767880  0.831512 -4.769297  0.615509"
      ]
     },
     "execution_count": 126,
     "metadata": {},
     "output_type": "execute_result"
    }
   ],
   "source": [
    "results.to_latex('./tables/spatial-ssp-experiment-mean-scores.tex')\n",
    "results"
   ]
  },
  {
   "cell_type": "code",
   "execution_count": 127,
   "id": "da0fc8ac",
   "metadata": {},
   "outputs": [
    {
     "data": {
      "text/html": [
       "<div>\n",
       "<style scoped>\n",
       "    .dataframe tbody tr th:only-of-type {\n",
       "        vertical-align: middle;\n",
       "    }\n",
       "\n",
       "    .dataframe tbody tr th {\n",
       "        vertical-align: top;\n",
       "    }\n",
       "\n",
       "    .dataframe thead th {\n",
       "        text-align: right;\n",
       "    }\n",
       "</style>\n",
       "<table border=\"1\" class=\"dataframe\">\n",
       "  <thead>\n",
       "    <tr style=\"text-align: right;\">\n",
       "      <th></th>\n",
       "      <th>Bias</th>\n",
       "      <th>RMSE</th>\n",
       "      <th>MAE</th>\n",
       "      <th>Corr</th>\n",
       "      <th>LL</th>\n",
       "      <th>Calib95</th>\n",
       "    </tr>\n",
       "  </thead>\n",
       "  <tbody>\n",
       "    <tr>\n",
       "      <th>FaIRGP</th>\n",
       "      <td>0.152633</td>\n",
       "      <td>0.191426</td>\n",
       "      <td>0.143806</td>\n",
       "      <td>0.082740</td>\n",
       "      <td>0.626609</td>\n",
       "      <td>0.131048</td>\n",
       "    </tr>\n",
       "    <tr>\n",
       "      <th>Plain GP</th>\n",
       "      <td>0.239941</td>\n",
       "      <td>0.565356</td>\n",
       "      <td>0.415852</td>\n",
       "      <td>0.120903</td>\n",
       "      <td>4.075295</td>\n",
       "      <td>0.121804</td>\n",
       "    </tr>\n",
       "  </tbody>\n",
       "</table>\n",
       "</div>"
      ],
      "text/plain": [
       "              Bias      RMSE       MAE      Corr        LL   Calib95\n",
       "FaIRGP    0.152633  0.191426  0.143806  0.082740  0.626609  0.131048\n",
       "Plain GP  0.239941  0.565356  0.415852  0.120903  4.075295  0.121804"
      ]
     },
     "execution_count": 127,
     "metadata": {},
     "output_type": "execute_result"
    }
   ],
   "source": [
    "stddev"
   ]
  }
 ],
 "metadata": {
  "kernelspec": {
   "display_name": "sandbox",
   "language": "python",
   "name": "sandbox"
  },
  "language_info": {
   "codemirror_mode": {
    "name": "ipython",
    "version": 3
   },
   "file_extension": ".py",
   "mimetype": "text/x-python",
   "name": "python",
   "nbconvert_exporter": "python",
   "pygments_lexer": "ipython3",
   "version": "3.8.0"
  }
 },
 "nbformat": 4,
 "nbformat_minor": 5
}
