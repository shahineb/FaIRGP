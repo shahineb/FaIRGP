{
 "cells": [
  {
   "cell_type": "code",
   "execution_count": 10,
   "id": "62b660ad",
   "metadata": {},
   "outputs": [],
   "source": [
    "%load_ext autoreload\n",
    "%autoreload 2"
   ]
  },
  {
   "cell_type": "code",
   "execution_count": 50,
   "id": "af8b7915",
   "metadata": {},
   "outputs": [],
   "source": [
    "import os\n",
    "import sys\n",
    "import numpy as np\n",
    "import pandas as pd\n",
    "import xarray as xr\n",
    "import torch\n",
    "\n",
    "base_dir = os.path.join(os.getcwd(), '..')\n",
    "sys.path.append(base_dir)\n",
    "\n",
    "from src.evaluation import metrics\n",
    "from src.evaluation.metrics import spearman_correlation"
   ]
  },
  {
   "cell_type": "code",
   "execution_count": 68,
   "id": "8957e45e",
   "metadata": {},
   "outputs": [],
   "source": [
    "def weighted_mean(x, wlat):\n",
    "    mu = torch.sum(x * wlat, dim=(1, 2)) / (x.size(2) * wlat.sum())\n",
    "    return mu\n",
    "\n",
    "def compute_deterministic_metrics(prediction, groundtruth, wlat):\n",
    "    # Compute raw distances metrics\n",
    "    difference = prediction.sub(groundtruth)\n",
    "    mean_bias = weighted_mean(difference, wlat).mean()\n",
    "    rmse = weighted_mean(torch.square(difference), wlat).mean().sqrt()\n",
    "    mae = weighted_mean(torch.abs(difference), wlat).mean()\n",
    "\n",
    "    # Compute spearman correlation\n",
    "    corr = spearman_correlation(prediction.flatten(), groundtruth.flatten())\n",
    "\n",
    "    # Encapsulate results in output dictionnary\n",
    "    output = {'mb': mean_bias.item(),\n",
    "              'rmse': rmse.item(),\n",
    "              'mae': mae.item(),\n",
    "              'corr': corr}\n",
    "    return output\n",
    "\n",
    "def compute_probabilistic_metrics(prediction, groundtruth, wlat):\n",
    "    ll = weighted_mean(prediction.log_prob(groundtruth), wlat).mean()\n",
    "    lb, ub = prediction.icdf(torch.tensor(0.025)), prediction.icdf(torch.tensor(0.975))\n",
    "    mask = (groundtruth >= lb) & (groundtruth <= ub)\n",
    "    calib95 = weighted_mean(mask.float(), wlat).mean()\n",
    "    \n",
    "    mu, sigma = prediction.mean, prediction.stddev\n",
    "    y = (groundtruth - mu) / sigma\n",
    "    norm = torch.distributions.Normal(0, 1)\n",
    "    crps = sigma * (y * (2 * norm.cdf(y) - 1) + 2 * norm.log_prob(y).exp() - 1 / np.sqrt(np.pi))\n",
    "    crps = weighted_mean(crps, wlat).mean()\n",
    "    \n",
    "    output = {'ll': ll.item(),\n",
    "              'calib95': calib95.item(),\n",
    "              'CRPS': crps.item()}\n",
    "    return output"
   ]
  },
  {
   "cell_type": "code",
   "execution_count": 52,
   "id": "4cb5cf23",
   "metadata": {},
   "outputs": [],
   "source": [
    "output_ssp245 = xr.open_dataset('../data/outputs_ssp245.nc').mean('member')['tas']\n",
    "pred_climatebench = xr.open_dataarray('../../archived/hackathon2021/climatebench-gp-posterior-mean-tas-test-2019-2100.nc')\n",
    "stddev_climatebench = xr.open_dataarray('../../archived/hackathon2021/climatebench-gp-posterior-std-tas-test-2019-2100.nc')\n",
    "wlat = np.cos(np.deg2rad(output_ssp245.lat))"
   ]
  },
  {
   "cell_type": "code",
   "execution_count": 62,
   "id": "8239967f",
   "metadata": {},
   "outputs": [
    {
     "data": {
      "text/html": [
       "<div>\n",
       "<style scoped>\n",
       "    .dataframe tbody tr th:only-of-type {\n",
       "        vertical-align: middle;\n",
       "    }\n",
       "\n",
       "    .dataframe tbody tr th {\n",
       "        vertical-align: top;\n",
       "    }\n",
       "\n",
       "    .dataframe thead th {\n",
       "        text-align: right;\n",
       "    }\n",
       "</style>\n",
       "<table border=\"1\" class=\"dataframe\">\n",
       "  <thead>\n",
       "    <tr style=\"text-align: right;\">\n",
       "      <th></th>\n",
       "      <th>mb</th>\n",
       "      <th>rmse</th>\n",
       "      <th>mae</th>\n",
       "      <th>corr</th>\n",
       "      <th>ll</th>\n",
       "      <th>calib95</th>\n",
       "      <th>CRPS</th>\n",
       "      <th>ICI</th>\n",
       "    </tr>\n",
       "  </thead>\n",
       "  <tbody>\n",
       "    <tr>\n",
       "      <th>0</th>\n",
       "      <td>0.01044</td>\n",
       "      <td>0.123675</td>\n",
       "      <td>0.103984</td>\n",
       "      <td>0.972437</td>\n",
       "      <td>-0.446444</td>\n",
       "      <td>1.0</td>\n",
       "      <td>0.152658</td>\n",
       "      <td>0.385557</td>\n",
       "    </tr>\n",
       "  </tbody>\n",
       "</table>\n",
       "</div>"
      ],
      "text/plain": [
       "        mb      rmse       mae      corr        ll  calib95      CRPS  \\\n",
       "0  0.01044  0.123675  0.103984  0.972437 -0.446444      1.0  0.152658   \n",
       "\n",
       "        ICI  \n",
       "0  0.385557  "
      ]
     },
     "execution_count": 62,
     "metadata": {},
     "output_type": "execute_result"
    }
   ],
   "source": [
    "global_gt = torch.from_numpy(output_ssp245.weighted(wlat).mean(['lat', 'lon']).data)\n",
    "global_pred = torch.from_numpy(pred_climatebench.weighted(wlat).mean(['lat', 'lon']).data)\n",
    "global_stddev = torch.from_numpy(stddev_climatebench.weighted(wlat).mean(['lat', 'lon']).data)\n",
    "global_dist = torch.distributions.Normal(global_pred, global_stddev)\n",
    "\n",
    "glob_det_scores = metrics.compute_deterministic_metrics(global_pred, global_gt)\n",
    "glob_prob_scores = metrics.compute_probabilistic_metrics(global_dist, global_gt)\n",
    "glob_scores = {**glob_det_scores, **glob_prob_scores}\n",
    "glob_df = pd.DataFrame(data=[glob_scores])\n",
    "glob_df"
   ]
  },
  {
   "cell_type": "code",
   "execution_count": 63,
   "id": "a725a5e9",
   "metadata": {},
   "outputs": [],
   "source": [
    "spatial_gt = torch.from_numpy(output_ssp245.sel(time=slice(2080, None)).data)\n",
    "spatial_pred = torch.from_numpy(pred_climatebench.sel(time=slice(2080, None)).data)\n",
    "spatial_stddev = torch.from_numpy(stddev_climatebench.sel(time=slice(2080, None)).data)\n",
    "spatial_dist = torch.distributions.Normal(spatial_pred, spatial_stddev)"
   ]
  },
  {
   "cell_type": "code",
   "execution_count": 69,
   "id": "d01a2b36",
   "metadata": {},
   "outputs": [],
   "source": [
    "torchwlat = torch.from_numpy(wlat.data)[:, None]\n",
    "spatial_metrics = {**compute_deterministic_metrics(spatial_pred, spatial_gt, torchwlat),\n",
    "                   **compute_probabilistic_metrics(spatial_dist, spatial_gt, torchwlat)}"
   ]
  },
  {
   "cell_type": "code",
   "execution_count": 71,
   "id": "173b2802",
   "metadata": {
    "scrolled": true
   },
   "outputs": [
    {
     "data": {
      "text/html": [
       "<div>\n",
       "<style scoped>\n",
       "    .dataframe tbody tr th:only-of-type {\n",
       "        vertical-align: middle;\n",
       "    }\n",
       "\n",
       "    .dataframe tbody tr th {\n",
       "        vertical-align: top;\n",
       "    }\n",
       "\n",
       "    .dataframe thead th {\n",
       "        text-align: right;\n",
       "    }\n",
       "</style>\n",
       "<table border=\"1\" class=\"dataframe\">\n",
       "  <thead>\n",
       "    <tr style=\"text-align: right;\">\n",
       "      <th></th>\n",
       "      <th>mb</th>\n",
       "      <th>rmse</th>\n",
       "      <th>mae</th>\n",
       "      <th>corr</th>\n",
       "      <th>ll</th>\n",
       "      <th>calib95</th>\n",
       "      <th>CRPS</th>\n",
       "    </tr>\n",
       "  </thead>\n",
       "  <tbody>\n",
       "    <tr>\n",
       "      <th>0</th>\n",
       "      <td>-0.133914</td>\n",
       "      <td>0.431235</td>\n",
       "      <td>0.320826</td>\n",
       "      <td>0.958299</td>\n",
       "      <td>-0.690149</td>\n",
       "      <td>0.98491</td>\n",
       "      <td>0.248752</td>\n",
       "    </tr>\n",
       "  </tbody>\n",
       "</table>\n",
       "</div>"
      ],
      "text/plain": [
       "         mb      rmse       mae      corr        ll  calib95      CRPS\n",
       "0 -0.133914  0.431235  0.320826  0.958299 -0.690149  0.98491  0.248752"
      ]
     },
     "execution_count": 71,
     "metadata": {},
     "output_type": "execute_result"
    }
   ],
   "source": [
    "spatial_df = pd.DataFrame(data=[spatial_metrics])\n",
    "spatial_df"
   ]
  }
 ],
 "metadata": {
  "kernelspec": {
   "display_name": "sandbox",
   "language": "python",
   "name": "sandbox"
  },
  "language_info": {
   "codemirror_mode": {
    "name": "ipython",
    "version": 3
   },
   "file_extension": ".py",
   "mimetype": "text/x-python",
   "name": "python",
   "nbconvert_exporter": "python",
   "pygments_lexer": "ipython3",
   "version": "3.8.0"
  }
 },
 "nbformat": 4,
 "nbformat_minor": 5
}
