{
 "cells": [
  {
   "cell_type": "code",
   "execution_count": 1,
   "id": "dd902abc",
   "metadata": {},
   "outputs": [],
   "source": [
    "import numpy as np\n",
    "import pandas as pd"
   ]
  },
  {
   "cell_type": "code",
   "execution_count": 2,
   "id": "e7aefa68",
   "metadata": {},
   "outputs": [],
   "source": [
    "fairgp_scores = pd.read_csv('../data/experiments/outputs/ssps/GFaIR/cv-scores.csv')\n",
    "gp_scores = pd.read_csv('../data/experiments/outputs/ssps/plain-GP/cv-scores.csv')\n",
    "fair_scores = pd.read_csv('../data/experiments/outputs/ssps/FaIR/cv-scores.csv')"
   ]
  },
  {
   "cell_type": "code",
   "execution_count": 10,
   "id": "ec8c027f",
   "metadata": {
    "scrolled": true
   },
   "outputs": [],
   "source": [
    "fairgp_summary = fairgp_scores.aggregate(['mean', 'std'])\n",
    "gp_summary = gp_scores.aggregate(['mean', 'std'])\n",
    "fair_summary = fair_scores.aggregate(['mean', 'std'])"
   ]
  },
  {
   "cell_type": "code",
   "execution_count": 32,
   "id": "88c17644",
   "metadata": {},
   "outputs": [],
   "source": [
    "model_cols = ['FaIRGP', 'Plain GP', 'FaIR']\n",
    "metrics_cols = ['Bias', 'RMSE', 'MAE', 'Corr', 'LL', 'Calib95', 'ICI']\n",
    "\n",
    "\n",
    "results = pd.concat([fairgp_summary.loc['mean'], gp_summary.loc['mean'], fair_summary.loc['mean']], axis=1)\n",
    "results.columns = model_cols\n",
    "results = results.T\n",
    "results.columns = metrics_cols\n",
    "\n",
    "stddev = pd.concat([fairgp_summary.loc['std'], gp_summary.loc['std'], fair_summary.loc['std']], axis=1)\n",
    "stddev.columns = model_cols\n",
    "stddev = stddev.T\n",
    "stddev.columns = metrics_cols"
   ]
  },
  {
   "cell_type": "code",
   "execution_count": 36,
   "id": "feef5889",
   "metadata": {},
   "outputs": [
    {
     "name": "stderr",
     "output_type": "stream",
     "text": [
      "/tmp/ipykernel_109440/1091681870.py:1: FutureWarning: In future versions `DataFrame.to_latex` is expected to utilise the base implementation of `Styler.to_latex` for formatting and rendering. The arguments signature may therefore change. It is recommended instead to use `DataFrame.style.to_latex` which also contains additional functionality.\n",
      "  results.to_latex('./ssp-experiment-mean-scores.tex')\n"
     ]
    },
    {
     "data": {
      "text/html": [
       "<div>\n",
       "<style scoped>\n",
       "    .dataframe tbody tr th:only-of-type {\n",
       "        vertical-align: middle;\n",
       "    }\n",
       "\n",
       "    .dataframe tbody tr th {\n",
       "        vertical-align: top;\n",
       "    }\n",
       "\n",
       "    .dataframe thead th {\n",
       "        text-align: right;\n",
       "    }\n",
       "</style>\n",
       "<table border=\"1\" class=\"dataframe\">\n",
       "  <thead>\n",
       "    <tr style=\"text-align: right;\">\n",
       "      <th></th>\n",
       "      <th>Bias</th>\n",
       "      <th>RMSE</th>\n",
       "      <th>MAE</th>\n",
       "      <th>Corr</th>\n",
       "      <th>LL</th>\n",
       "      <th>Calib95</th>\n",
       "      <th>ICI</th>\n",
       "    </tr>\n",
       "  </thead>\n",
       "  <tbody>\n",
       "    <tr>\n",
       "      <th>FaIRGP</th>\n",
       "      <td>-0.010725</td>\n",
       "      <td>0.160520</td>\n",
       "      <td>0.128440</td>\n",
       "      <td>0.910709</td>\n",
       "      <td>0.408876</td>\n",
       "      <td>0.94186</td>\n",
       "      <td>0.091616</td>\n",
       "    </tr>\n",
       "    <tr>\n",
       "      <th>Plain GP</th>\n",
       "      <td>-0.041109</td>\n",
       "      <td>0.195475</td>\n",
       "      <td>0.148977</td>\n",
       "      <td>0.908492</td>\n",
       "      <td>0.296883</td>\n",
       "      <td>1.00000</td>\n",
       "      <td>0.115820</td>\n",
       "    </tr>\n",
       "    <tr>\n",
       "      <th>FaIR</th>\n",
       "      <td>0.072403</td>\n",
       "      <td>0.215148</td>\n",
       "      <td>0.177461</td>\n",
       "      <td>0.903034</td>\n",
       "      <td>NaN</td>\n",
       "      <td>NaN</td>\n",
       "      <td>NaN</td>\n",
       "    </tr>\n",
       "  </tbody>\n",
       "</table>\n",
       "</div>"
      ],
      "text/plain": [
       "              Bias      RMSE       MAE      Corr        LL  Calib95       ICI\n",
       "FaIRGP   -0.010725  0.160520  0.128440  0.910709  0.408876  0.94186  0.091616\n",
       "Plain GP -0.041109  0.195475  0.148977  0.908492  0.296883  1.00000  0.115820\n",
       "FaIR      0.072403  0.215148  0.177461  0.903034       NaN      NaN       NaN"
      ]
     },
     "execution_count": 36,
     "metadata": {},
     "output_type": "execute_result"
    }
   ],
   "source": [
    "results.to_latex('./ssp-experiment-mean-scores.tex')\n",
    "results"
   ]
  },
  {
   "cell_type": "code",
   "execution_count": 31,
   "id": "eef26c04",
   "metadata": {},
   "outputs": [
    {
     "data": {
      "text/html": [
       "<div>\n",
       "<style scoped>\n",
       "    .dataframe tbody tr th:only-of-type {\n",
       "        vertical-align: middle;\n",
       "    }\n",
       "\n",
       "    .dataframe tbody tr th {\n",
       "        vertical-align: top;\n",
       "    }\n",
       "\n",
       "    .dataframe thead th {\n",
       "        text-align: right;\n",
       "    }\n",
       "</style>\n",
       "<table border=\"1\" class=\"dataframe\">\n",
       "  <thead>\n",
       "    <tr style=\"text-align: right;\">\n",
       "      <th></th>\n",
       "      <th>mb</th>\n",
       "      <th>rmse</th>\n",
       "      <th>mae</th>\n",
       "      <th>corr</th>\n",
       "      <th>ll</th>\n",
       "      <th>calib95</th>\n",
       "      <th>ICI</th>\n",
       "    </tr>\n",
       "  </thead>\n",
       "  <tbody>\n",
       "    <tr>\n",
       "      <th>FaIRGP</th>\n",
       "      <td>0.074168</td>\n",
       "      <td>0.050114</td>\n",
       "      <td>0.040409</td>\n",
       "      <td>0.140508</td>\n",
       "      <td>0.238901</td>\n",
       "      <td>0.05454</td>\n",
       "      <td>0.072543</td>\n",
       "    </tr>\n",
       "    <tr>\n",
       "      <th>Plain GP</th>\n",
       "      <td>0.113196</td>\n",
       "      <td>0.086684</td>\n",
       "      <td>0.059864</td>\n",
       "      <td>0.139355</td>\n",
       "      <td>0.254270</td>\n",
       "      <td>0.00000</td>\n",
       "      <td>0.069768</td>\n",
       "    </tr>\n",
       "    <tr>\n",
       "      <th>FaIR</th>\n",
       "      <td>0.078960</td>\n",
       "      <td>0.054659</td>\n",
       "      <td>0.045760</td>\n",
       "      <td>0.153154</td>\n",
       "      <td>NaN</td>\n",
       "      <td>NaN</td>\n",
       "      <td>NaN</td>\n",
       "    </tr>\n",
       "  </tbody>\n",
       "</table>\n",
       "</div>"
      ],
      "text/plain": [
       "                mb      rmse       mae      corr        ll  calib95       ICI\n",
       "FaIRGP    0.074168  0.050114  0.040409  0.140508  0.238901  0.05454  0.072543\n",
       "Plain GP  0.113196  0.086684  0.059864  0.139355  0.254270  0.00000  0.069768\n",
       "FaIR      0.078960  0.054659  0.045760  0.153154       NaN      NaN       NaN"
      ]
     },
     "execution_count": 31,
     "metadata": {},
     "output_type": "execute_result"
    }
   ],
   "source": [
    "stddev"
   ]
  }
 ],
 "metadata": {
  "kernelspec": {
   "display_name": "sandbox",
   "language": "python",
   "name": "sandbox"
  },
  "language_info": {
   "codemirror_mode": {
    "name": "ipython",
    "version": 3
   },
   "file_extension": ".py",
   "mimetype": "text/x-python",
   "name": "python",
   "nbconvert_exporter": "python",
   "pygments_lexer": "ipython3",
   "version": "3.8.0"
  }
 },
 "nbformat": 4,
 "nbformat_minor": 5
}
