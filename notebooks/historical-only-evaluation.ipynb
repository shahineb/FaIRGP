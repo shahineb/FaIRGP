{
 "cells": [
  {
   "cell_type": "code",
   "execution_count": 1,
   "id": "b6c4d820",
   "metadata": {},
   "outputs": [
    {
     "data": {
      "application/javascript": [
       "if (typeof IPython !== 'undefined') { IPython.OutputArea.prototype._should_scroll = function(lines){ return false; }}"
      ],
      "text/plain": [
       "<IPython.core.display.Javascript object>"
      ]
     },
     "metadata": {},
     "output_type": "display_data"
    }
   ],
   "source": [
    "import os\n",
    "import sys\n",
    "import numpy as np\n",
    "import torch\n",
    "import gpytorch\n",
    "import matplotlib.pyplot as plt\n",
    "import tqdm\n",
    "import utils as utils\n",
    "import scienceplots\n",
    "plt.style.use('science')\n",
    "\n",
    "base_dir = os.path.join(os.getcwd(), '..')\n",
    "sys.path.append(base_dir)\n",
    "\n",
    "import fit_FaIRGP as fairgp\n",
    "import fit_GP as plaingp\n",
    "import evaluate_FaIRGP as evalFaIRGP\n",
    "import evaluate_GP as evalGP"
   ]
  },
  {
   "cell_type": "code",
   "execution_count": 3,
   "id": "6d03062c",
   "metadata": {},
   "outputs": [
    {
     "data": {
      "text/plain": [
       "<All keys matched successfully>"
      ]
     },
     "execution_count": 3,
     "metadata": {},
     "output_type": "execute_result"
    }
   ],
   "source": [
    "train_cfg = {'dataset' : {'dirpath': '../data/', 'keys': ['historical']}}\n",
    "train_data = plaingp.make_data(train_cfg)\n",
    "\n",
    "test_cfg = {'dataset' : {'dirpath': '../data/', 'keys': ['ssp126', 'ssp245', 'ssp370', 'ssp585']}}\n",
    "test_data = plaingp.make_data(test_cfg)\n",
    "\n",
    "gpmodel = plaingp.make_model(train_cfg, train_data)\n",
    "state_dict = torch.load('../data/models/historical-only/PlainGP/state_dict.pt')\n",
    "gpmodel.load_state_dict(state_dict)\n",
    "\n",
    "fairgpmodel = fairgp.make_model(train_cfg, train_data)\n",
    "state_dict = torch.load('../data/models/historical-only/FaIRGP/state_dict.pt')\n",
    "fairgpmodel.load_state_dict(state_dict)"
   ]
  },
  {
   "cell_type": "code",
   "execution_count": 13,
   "id": "c79575db",
   "metadata": {},
   "outputs": [
    {
     "name": "stderr",
     "output_type": "stream",
     "text": [
      "/home/bouabid/.pyenv/versions/sandbox/lib/python3.8/site-packages/gpytorch/lazy/lazy_tensor.py:25: UserWarning: gpytorch.lazy.delazify is deprecated in favor of linear_operator.to_dense\n",
      "  warnings.warn(\"gpytorch.lazy.delazify is deprecated in favor of linear_operator.to_dense\")\n",
      "/home/bouabid/.pyenv/versions/sandbox/lib/python3.8/site-packages/gpytorch/lazy/non_lazy_tensor.py:13: UserWarning: gpytorch.lazy.lazify is deprecated in favor of linear_operator.to_linear_operator\n",
      "  warnings.warn(\"gpytorch.lazy.lazify is deprecated in favor of linear_operator.to_linear_operator\")\n"
     ]
    }
   ],
   "source": [
    "test_scenarios = test_data.scenarios\n",
    "test_times = test_scenarios.timesteps\n",
    "test_tas = test_scenarios.tas\n",
    "test_tas_fair = fairgpmodel._compute_mean(test_scenarios)\n",
    "X_test = torch.cat([test_scenarios.cum_emissions[:, 0, None],\n",
    "                    test_scenarios.emissions[:, 1:]], dim=-1)\n",
    "X_test = (X_test - gpmodel.mu) / gpmodel.sigma\n",
    "\n",
    "gpmodel = gpmodel.eval()\n",
    "fairgpmodel = fairgpmodel.eval()\n",
    "\n",
    "with torch.no_grad():\n",
    "    noisy_gp_test_posterior = gpmodel.likelihood(gpmodel(X_test))\n",
    "    mean = gpmodel.sigma_targets * noisy_gp_test_posterior.mean + test_tas_fair\n",
    "    covar = gpmodel.sigma_targets.pow(2) * noisy_gp_test_posterior.covariance_matrix\n",
    "    noisy_gp_test_posterior = noisy_gp_test_posterior.__class__(mean, covar)\n",
    "    \n",
    "with torch.no_grad():\n",
    "    fairgp_test_posterior = fairgpmodel(test_scenarios)\n",
    "    noisy_fairgp_test_posterior = fairgpmodel.likelihood(fairgp_test_posterior)\n",
    "    mean = noisy_fairgp_test_posterior.mean + test_tas_fair\n",
    "    covar = noisy_fairgp_test_posterior.lazy_covariance_matrix\n",
    "    noisy_fairgp_test_posterior = noisy_fairgp_test_posterior.__class__(mean, covar)"
   ]
  },
  {
   "cell_type": "code",
   "execution_count": 14,
   "id": "d1b422ae",
   "metadata": {},
   "outputs": [],
   "source": [
    "gp_scores = evalGP.compute_scores(noisy_gp_test_posterior, test_scenarios)\n",
    "fairgp_scores = evalFaIRGP.compute_scores(noisy_fairgp_test_posterior, test_scenarios)"
   ]
  },
  {
   "cell_type": "code",
   "execution_count": 15,
   "id": "aa3cb2be",
   "metadata": {},
   "outputs": [
    {
     "data": {
      "text/plain": [
       "{'mb': 0.11039731651544571,\n",
       " 'rmse': 0.2654469609260559,\n",
       " 'mae': 0.20985470712184906,\n",
       " 'corr': 0.9666864480692011,\n",
       " 'll': -0.24941770732402802,\n",
       " 'calib95': 0.9156976938247681,\n",
       " 'ICI': 0.0352203135819812}"
      ]
     },
     "execution_count": 15,
     "metadata": {},
     "output_type": "execute_result"
    }
   ],
   "source": [
    "gp_scores"
   ]
  },
  {
   "cell_type": "code",
   "execution_count": 16,
   "id": "b76fde02",
   "metadata": {},
   "outputs": [
    {
     "data": {
      "text/plain": [
       "{'mb': -0.07356604933738708,\n",
       " 'rmse': 0.19910657405853271,\n",
       " 'mae': 0.14806316792964935,\n",
       " 'corr': 0.9760644133624948,\n",
       " 'll': 0.14821457862854004,\n",
       " 'calib95': 0.8895348906517029,\n",
       " 'ICI': 0.02585679449533165}"
      ]
     },
     "execution_count": 16,
     "metadata": {},
     "output_type": "execute_result"
    }
   ],
   "source": [
    "fairgp_scores"
   ]
  },
  {
   "cell_type": "code",
   "execution_count": null,
   "id": "55be767e",
   "metadata": {},
   "outputs": [],
   "source": []
  }
 ],
 "metadata": {
  "kernelspec": {
   "display_name": "sandbox",
   "language": "python",
   "name": "sandbox"
  },
  "language_info": {
   "codemirror_mode": {
    "name": "ipython",
    "version": 3
   },
   "file_extension": ".py",
   "mimetype": "text/x-python",
   "name": "python",
   "nbconvert_exporter": "python",
   "pygments_lexer": "ipython3",
   "version": "3.8.0"
  }
 },
 "nbformat": 4,
 "nbformat_minor": 5
}
