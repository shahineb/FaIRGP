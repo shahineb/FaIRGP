{
 "cells": [
  {
   "cell_type": "code",
   "execution_count": 1,
   "id": "58621c57",
   "metadata": {},
   "outputs": [],
   "source": [
    "%load_ext autoreload\n",
    "%autoreload 2"
   ]
  },
  {
   "cell_type": "code",
   "execution_count": 2,
   "id": "9a86461c",
   "metadata": {},
   "outputs": [
    {
     "data": {
      "application/javascript": [
       "if (typeof IPython !== 'undefined') { IPython.OutputArea.prototype._should_scroll = function(lines){ return false; }}"
      ],
      "text/plain": [
       "<IPython.core.display.Javascript object>"
      ]
     },
     "metadata": {},
     "output_type": "display_data"
    }
   ],
   "source": [
    "import os\n",
    "import sys\n",
    "import numpy as np\n",
    "import torch\n",
    "import gpytorch\n",
    "import matplotlib.pyplot as plt\n",
    "import tqdm\n",
    "import utils as utils\n",
    "import scienceplots\n",
    "plt.style.use('science')\n",
    "\n",
    "base_dir = os.path.join(os.getcwd(), '..')\n",
    "sys.path.append(base_dir)\n",
    "\n",
    "import fit_FaIRGP as globalfairgp\n",
    "import fit_spatial_FaIRGP as spatialfairgp"
   ]
  },
  {
   "cell_type": "markdown",
   "id": "245af6b4",
   "metadata": {},
   "source": [
    "## Global"
   ]
  },
  {
   "cell_type": "code",
   "execution_count": 7,
   "id": "c6ebd15d",
   "metadata": {},
   "outputs": [],
   "source": [
    "train_cfg = {'dataset' : {'dirpath': '../data/', 'keys': ['historical', 'ssp126', 'ssp370', 'ssp585']}}\n",
    "train_data = globalfairgp.make_data(train_cfg)\n",
    "\n",
    "test_cfg = {'dataset' : {'dirpath': '../data/', 'keys': ['ssp245']}}\n",
    "test_data = globalfairgp.make_data(test_cfg)\n",
    "test_scenarios = test_data.scenarios\n",
    "\n",
    "fairgpmodel = globalfairgp.make_model(train_cfg, train_data)\n",
    "state_dict = torch.load('../data/experiments/outputs/ssps/GFaIR/fold_ssp245/state_dict.pt')\n",
    "fairgpmodel.load_state_dict(state_dict)\n",
    "fairgpmodel = fairgpmodel.eval()"
   ]
  },
  {
   "cell_type": "code",
   "execution_count": 8,
   "id": "711913c7",
   "metadata": {},
   "outputs": [
    {
     "name": "stderr",
     "output_type": "stream",
     "text": [
      "/home/bouabid/.pyenv/versions/sandbox/lib/python3.8/site-packages/gpytorch/lazy/lazy_tensor.py:25: UserWarning: gpytorch.lazy.delazify is deprecated in favor of linear_operator.to_dense\n",
      "  warnings.warn(\"gpytorch.lazy.delazify is deprecated in favor of linear_operator.to_dense\")\n",
      "/home/bouabid/.pyenv/versions/sandbox/lib/python3.8/site-packages/gpytorch/lazy/non_lazy_tensor.py:13: UserWarning: gpytorch.lazy.lazify is deprecated in favor of linear_operator.to_linear_operator\n",
      "  warnings.warn(\"gpytorch.lazy.lazify is deprecated in favor of linear_operator.to_linear_operator\")\n"
     ]
    },
    {
     "name": "stdout",
     "output_type": "stream",
     "text": [
      "923 ms ± 17.6 ms per loop (mean ± std. dev. of 7 runs, 1 loop each)\n"
     ]
    }
   ],
   "source": [
    "%%timeit\n",
    "with torch.no_grad():\n",
    "    fairgp_test_posterior = fairgpmodel(test_scenarios)\n",
    "    noisy_fairgp_test_posterior = fairgpmodel.likelihood(fairgp_test_posterior)"
   ]
  },
  {
   "cell_type": "markdown",
   "id": "e0a97613",
   "metadata": {},
   "source": [
    "## Spatial"
   ]
  },
  {
   "cell_type": "code",
   "execution_count": 10,
   "id": "833fc60f",
   "metadata": {},
   "outputs": [],
   "source": [
    "train_cfg = {'dataset' : {'dirpath': '../data/', 'keys': ['historical', 'ssp126', 'ssp370', 'ssp585']},}\n",
    "train_data = spatialfairgp.make_data(train_cfg)\n",
    "\n",
    "test_cfg = {'dataset' : {'dirpath': '../data/', 'keys': ['ssp245']}}\n",
    "test_data = spatialfairgp.make_data(test_cfg)\n",
    "test_scenarios = test_data.scenarios\n",
    "\n",
    "model = spatialfairgp.make_model(train_cfg, train_data)\n",
    "state_dict = torch.load('../data/models/leave-one-out-ssp/ssp245/SpatialFaIRGP/state_dict.pt')\n",
    "model.load_state_dict(state_dict)\n",
    "model = model.eval()"
   ]
  },
  {
   "cell_type": "code",
   "execution_count": 13,
   "id": "bbf6acee",
   "metadata": {},
   "outputs": [
    {
     "name": "stdout",
     "output_type": "stream",
     "text": [
      "682 ms ± 32.6 ms per loop (mean ± std. dev. of 7 runs, 1 loop each)\n"
     ]
    }
   ],
   "source": [
    "%%timeit\n",
    "with torch.no_grad():\n",
    "    posterior = model.posterior(test_scenarios, diag=False)\n",
    "    posterior = model.likelihood(posterior)"
   ]
  }
 ],
 "metadata": {
  "kernelspec": {
   "display_name": "sandbox",
   "language": "python",
   "name": "sandbox"
  },
  "language_info": {
   "codemirror_mode": {
    "name": "ipython",
    "version": 3
   },
   "file_extension": ".py",
   "mimetype": "text/x-python",
   "name": "python",
   "nbconvert_exporter": "python",
   "pygments_lexer": "ipython3",
   "version": "3.8.0"
  }
 },
 "nbformat": 4,
 "nbformat_minor": 5
}
