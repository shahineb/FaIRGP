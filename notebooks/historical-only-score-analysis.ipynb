{
 "cells": [
  {
   "cell_type": "code",
   "execution_count": 5,
   "id": "b6c4d820",
   "metadata": {},
   "outputs": [],
   "source": [
    "import os\n",
    "import sys\n",
    "import numpy as np\n",
    "import pandas as pd\n",
    "import torch\n",
    "import gpytorch\n",
    "import matplotlib.pyplot as plt\n",
    "import tqdm\n",
    "import utils as utils\n",
    "import scienceplots\n",
    "plt.style.use('science')\n",
    "\n",
    "base_dir = os.path.join(os.getcwd(), '..')\n",
    "sys.path.append(base_dir)\n",
    "\n",
    "import fit_FaIRGP as fairgp\n",
    "import fit_GP as plaingp\n",
    "import evaluate_FaIRGP as evalFaIRGP\n",
    "import evaluate_GP as evalGP"
   ]
  },
  {
   "cell_type": "code",
   "execution_count": 2,
   "id": "6d03062c",
   "metadata": {},
   "outputs": [
    {
     "data": {
      "text/plain": [
       "<All keys matched successfully>"
      ]
     },
     "execution_count": 2,
     "metadata": {},
     "output_type": "execute_result"
    }
   ],
   "source": [
    "train_cfg = {'dataset' : {'dirpath': '../data/', 'keys': ['historical']}}\n",
    "train_data = plaingp.make_data(train_cfg)\n",
    "\n",
    "test_cfg = {'dataset' : {'dirpath': '../data/', 'keys': ['ssp126', 'ssp245', 'ssp370', 'ssp585']}}\n",
    "test_data = plaingp.make_data(test_cfg)\n",
    "\n",
    "gpmodel = plaingp.make_model(train_cfg, train_data)\n",
    "state_dict = torch.load('../data/models/historical-only/PlainGP/state_dict.pt')\n",
    "gpmodel.load_state_dict(state_dict)\n",
    "\n",
    "fairgpmodel = fairgp.make_model(train_cfg, train_data)\n",
    "state_dict = torch.load('../data/models/historical-only/FaIRGP/state_dict.pt')\n",
    "fairgpmodel.load_state_dict(state_dict)"
   ]
  },
  {
   "cell_type": "code",
   "execution_count": 7,
   "id": "c79575db",
   "metadata": {},
   "outputs": [
    {
     "name": "stderr",
     "output_type": "stream",
     "text": [
      "/home/bouabid/.pyenv/versions/sandbox/lib/python3.8/site-packages/gpytorch/lazy/lazy_tensor.py:25: UserWarning: gpytorch.lazy.delazify is deprecated in favor of linear_operator.to_dense\n",
      "  warnings.warn(\"gpytorch.lazy.delazify is deprecated in favor of linear_operator.to_dense\")\n",
      "/home/bouabid/.pyenv/versions/sandbox/lib/python3.8/site-packages/gpytorch/lazy/non_lazy_tensor.py:13: UserWarning: gpytorch.lazy.lazify is deprecated in favor of linear_operator.to_linear_operator\n",
      "  warnings.warn(\"gpytorch.lazy.lazify is deprecated in favor of linear_operator.to_linear_operator\")\n"
     ]
    }
   ],
   "source": [
    "test_scenarios = test_data.scenarios\n",
    "test_times = test_scenarios.timesteps\n",
    "test_tas = test_scenarios.tas\n",
    "test_tas_fair = fairgpmodel._compute_mean(test_scenarios)\n",
    "X_test = torch.cat([test_scenarios.cum_emissions[:, 0, None],\n",
    "                    test_scenarios.emissions[:, 1:]], dim=-1)\n",
    "X_test = (X_test - gpmodel.mu) / gpmodel.sigma\n",
    "\n",
    "gpmodel = gpmodel.eval()\n",
    "fairgpmodel = fairgpmodel.eval()\n",
    "\n",
    "with torch.no_grad():\n",
    "    noisy_gp_test_posterior = gpmodel.likelihood(gpmodel(X_test))\n",
    "    mean = gpmodel.sigma_targets * noisy_gp_test_posterior.mean\n",
    "    covar = gpmodel.sigma_targets.pow(2) * noisy_gp_test_posterior.covariance_matrix\n",
    "    noisy_gp_test_posterior = noisy_gp_test_posterior.__class__(mean, covar)\n",
    "    \n",
    "with torch.no_grad():\n",
    "    fairgp_test_posterior = fairgpmodel(test_scenarios)\n",
    "    noisy_fairgp_test_posterior = fairgpmodel.likelihood(fairgp_test_posterior)\n",
    "    mean = noisy_fairgp_test_posterior.mean + test_tas_fair\n",
    "    covar = noisy_fairgp_test_posterior.lazy_covariance_matrix\n",
    "    noisy_fairgp_test_posterior = noisy_fairgp_test_posterior.__class__(mean, covar)"
   ]
  },
  {
   "cell_type": "code",
   "execution_count": 8,
   "id": "d1b422ae",
   "metadata": {},
   "outputs": [],
   "source": [
    "gp_scores = evalGP.compute_scores(noisy_gp_test_posterior, test_scenarios)\n",
    "fairgp_scores = evalFaIRGP.compute_scores(noisy_fairgp_test_posterior, test_scenarios)"
   ]
  },
  {
   "cell_type": "code",
   "execution_count": 11,
   "id": "aa3cb2be",
   "metadata": {},
   "outputs": [
    {
     "data": {
      "text/html": [
       "<div>\n",
       "<style scoped>\n",
       "    .dataframe tbody tr th:only-of-type {\n",
       "        vertical-align: middle;\n",
       "    }\n",
       "\n",
       "    .dataframe tbody tr th {\n",
       "        vertical-align: top;\n",
       "    }\n",
       "\n",
       "    .dataframe thead th {\n",
       "        text-align: right;\n",
       "    }\n",
       "</style>\n",
       "<table border=\"1\" class=\"dataframe\">\n",
       "  <thead>\n",
       "    <tr style=\"text-align: right;\">\n",
       "      <th></th>\n",
       "      <th>Bias</th>\n",
       "      <th>RMSE</th>\n",
       "      <th>MAE</th>\n",
       "      <th>Corr</th>\n",
       "      <th>LL</th>\n",
       "      <th>Calib95</th>\n",
       "      <th>ICI</th>\n",
       "    </tr>\n",
       "  </thead>\n",
       "  <tbody>\n",
       "    <tr>\n",
       "      <th>FaIRGP</th>\n",
       "      <td>-0.073566</td>\n",
       "      <td>0.199107</td>\n",
       "      <td>0.148063</td>\n",
       "      <td>0.976064</td>\n",
       "      <td>0.148215</td>\n",
       "      <td>0.889535</td>\n",
       "      <td>0.025857</td>\n",
       "    </tr>\n",
       "    <tr>\n",
       "      <th>Plain GP</th>\n",
       "      <td>-1.689909</td>\n",
       "      <td>1.874665</td>\n",
       "      <td>1.689909</td>\n",
       "      <td>-0.363755</td>\n",
       "      <td>-30.978508</td>\n",
       "      <td>0.008721</td>\n",
       "      <td>0.499082</td>\n",
       "    </tr>\n",
       "  </tbody>\n",
       "</table>\n",
       "</div>"
      ],
      "text/plain": [
       "              Bias      RMSE       MAE      Corr         LL   Calib95  \\\n",
       "FaIRGP   -0.073566  0.199107  0.148063  0.976064   0.148215  0.889535   \n",
       "Plain GP -1.689909  1.874665  1.689909 -0.363755 -30.978508  0.008721   \n",
       "\n",
       "               ICI  \n",
       "FaIRGP    0.025857  \n",
       "Plain GP  0.499082  "
      ]
     },
     "execution_count": 11,
     "metadata": {},
     "output_type": "execute_result"
    }
   ],
   "source": [
    "scores_df = pd.DataFrame([fairgp_scores, gp_scores])\n",
    "scores_df.columns = ['Bias', 'RMSE', 'MAE', 'Corr', 'LL', 'Calib95', 'ICI']\n",
    "scores_df.index = ['FaIRGP', 'Plain GP']\n",
    "scores_df"
   ]
  }
 ],
 "metadata": {
  "kernelspec": {
   "display_name": "sandbox",
   "language": "python",
   "name": "sandbox"
  },
  "language_info": {
   "codemirror_mode": {
    "name": "ipython",
    "version": 3
   },
   "file_extension": ".py",
   "mimetype": "text/x-python",
   "name": "python",
   "nbconvert_exporter": "python",
   "pygments_lexer": "ipython3",
   "version": "3.8.0"
  }
 },
 "nbformat": 4,
 "nbformat_minor": 5
}
