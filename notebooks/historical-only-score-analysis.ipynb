{
 "cells": [
  {
   "cell_type": "code",
   "execution_count": 9,
   "id": "b6c4d820",
   "metadata": {},
   "outputs": [],
   "source": [
    "import os\n",
    "import sys\n",
    "import numpy as np\n",
    "import pandas as pd\n",
    "import torch\n",
    "import gpytorch\n",
    "import matplotlib.pyplot as plt\n",
    "import tqdm\n",
    "import utils as utils\n",
    "import scienceplots\n",
    "plt.style.use('science')\n",
    "\n",
    "base_dir = os.path.join(os.getcwd(), '..')\n",
    "sys.path.append(base_dir)\n",
    "\n",
    "import fit_FaIRGP as fairgp\n",
    "import fit_GP as plaingp\n",
    "import evaluate_FaIRGP as evalFaIRGP\n",
    "import evaluate_GP as evalGP\n",
    "import evaluate_FaIR as evalFaIR"
   ]
  },
  {
   "cell_type": "code",
   "execution_count": 10,
   "id": "6d03062c",
   "metadata": {},
   "outputs": [
    {
     "data": {
      "text/plain": [
       "<All keys matched successfully>"
      ]
     },
     "execution_count": 10,
     "metadata": {},
     "output_type": "execute_result"
    }
   ],
   "source": [
    "train_cfg = {'dataset' : {'dirpath': '../data/', 'keys': ['historical']}}\n",
    "train_data = plaingp.make_data(train_cfg)\n",
    "\n",
    "test_cfg = {'dataset' : {'dirpath': '../data/', 'keys': ['ssp126', 'ssp245', 'ssp370', 'ssp585']}}\n",
    "test_data = plaingp.make_data(test_cfg)\n",
    "\n",
    "gpmodel = plaingp.make_model(train_cfg, train_data)\n",
    "state_dict = torch.load('../data/models/historical-only/PlainGP/state_dict.pt')\n",
    "gpmodel.load_state_dict(state_dict)\n",
    "\n",
    "fairgpmodel = fairgp.make_model(train_cfg, train_data)\n",
    "state_dict = torch.load('../data/models/historical-only/FaIRGP/state_dict.pt')\n",
    "fairgpmodel.load_state_dict(state_dict)"
   ]
  },
  {
   "cell_type": "code",
   "execution_count": 28,
   "id": "c79575db",
   "metadata": {},
   "outputs": [
    {
     "name": "stderr",
     "output_type": "stream",
     "text": [
      "/home/bouabid/.pyenv/versions/sandbox/lib/python3.8/site-packages/gpytorch/lazy/lazy_tensor.py:25: UserWarning: gpytorch.lazy.delazify is deprecated in favor of linear_operator.to_dense\n",
      "  warnings.warn(\"gpytorch.lazy.delazify is deprecated in favor of linear_operator.to_dense\")\n",
      "/home/bouabid/.pyenv/versions/sandbox/lib/python3.8/site-packages/gpytorch/lazy/non_lazy_tensor.py:13: UserWarning: gpytorch.lazy.lazify is deprecated in favor of linear_operator.to_linear_operator\n",
      "  warnings.warn(\"gpytorch.lazy.lazify is deprecated in favor of linear_operator.to_linear_operator\")\n"
     ]
    }
   ],
   "source": [
    "test_scenarios = test_data.scenarios\n",
    "test_times = test_scenarios.timesteps\n",
    "test_tas = test_scenarios.tas\n",
    "test_tas_fair = fairgpmodel._compute_mean(test_scenarios)\n",
    "X_test = torch.cat([test_scenarios.cum_emissions[:, 0, None],\n",
    "                    test_scenarios.emissions[:, 1:]], dim=-1)\n",
    "X_test = (X_test - gpmodel.mu) / gpmodel.sigma\n",
    "\n",
    "gpmodel = gpmodel.eval()\n",
    "fairgpmodel = fairgpmodel.eval()\n",
    "\n",
    "with torch.no_grad():\n",
    "    noisy_gp_test_posterior = gpmodel.likelihood(gpmodel(X_test))\n",
    "    mean = gpmodel.sigma_targets * noisy_gp_test_posterior.mean\n",
    "    covar = gpmodel.sigma_targets.pow(2) * noisy_gp_test_posterior.covariance_matrix\n",
    "    noisy_gp_test_posterior = noisy_gp_test_posterior.__class__(mean, covar)\n",
    "    \n",
    "with torch.no_grad():\n",
    "    fairgp_test_posterior = fairgpmodel(test_scenarios)\n",
    "    noisy_fairgp_test_posterior = fairgpmodel.likelihood(fairgp_test_posterior)\n",
    "    mean = noisy_fairgp_test_posterior.mean + test_tas_fair\n",
    "    covar = noisy_fairgp_test_posterior.lazy_covariance_matrix\n",
    "    noisy_fairgp_test_posterior = noisy_fairgp_test_posterior.__class__(mean, covar)\n",
    "\n",
    "fair_tas = []\n",
    "for scenario in test_scenarios.scenarios.values():\n",
    "    output = evalFaIR.run_fair(scenario=scenario, cfg=test_cfg)\n",
    "    fair_tas.append(output)\n",
    "fair_tas = np.concatenate(fair_tas)"
   ]
  },
  {
   "cell_type": "code",
   "execution_count": 29,
   "id": "d1b422ae",
   "metadata": {},
   "outputs": [],
   "source": [
    "fair_scores = evalFaIR.evaluate(fair_tas=fair_tas, groundtruth_tas=test_scenarios.tas)\n",
    "gp_scores = evalGP.compute_scores(noisy_gp_test_posterior, test_scenarios)\n",
    "fairgp_scores = evalFaIRGP.compute_scores(noisy_fairgp_test_posterior, test_scenarios)"
   ]
  },
  {
   "cell_type": "code",
   "execution_count": 32,
   "id": "aa3cb2be",
   "metadata": {},
   "outputs": [
    {
     "data": {
      "text/html": [
       "<div>\n",
       "<style scoped>\n",
       "    .dataframe tbody tr th:only-of-type {\n",
       "        vertical-align: middle;\n",
       "    }\n",
       "\n",
       "    .dataframe tbody tr th {\n",
       "        vertical-align: top;\n",
       "    }\n",
       "\n",
       "    .dataframe thead th {\n",
       "        text-align: right;\n",
       "    }\n",
       "</style>\n",
       "<table border=\"1\" class=\"dataframe\">\n",
       "  <thead>\n",
       "    <tr style=\"text-align: right;\">\n",
       "      <th></th>\n",
       "      <th>Bias</th>\n",
       "      <th>RMSE</th>\n",
       "      <th>MAE</th>\n",
       "      <th>Corr</th>\n",
       "      <th>LL</th>\n",
       "      <th>Calib95</th>\n",
       "      <th>CRPS</th>\n",
       "      <th>ICI</th>\n",
       "    </tr>\n",
       "  </thead>\n",
       "  <tbody>\n",
       "    <tr>\n",
       "      <th>FaIR</th>\n",
       "      <td>0.037890</td>\n",
       "      <td>0.207693</td>\n",
       "      <td>0.163181</td>\n",
       "      <td>0.977429</td>\n",
       "      <td>NaN</td>\n",
       "      <td>NaN</td>\n",
       "      <td>NaN</td>\n",
       "      <td>NaN</td>\n",
       "    </tr>\n",
       "    <tr>\n",
       "      <th>Plain GP</th>\n",
       "      <td>-1.689907</td>\n",
       "      <td>1.874664</td>\n",
       "      <td>1.689907</td>\n",
       "      <td>-0.363765</td>\n",
       "      <td>-30.976843</td>\n",
       "      <td>0.008721</td>\n",
       "      <td>1.558382</td>\n",
       "      <td>0.499082</td>\n",
       "    </tr>\n",
       "    <tr>\n",
       "      <th>FaIRGP</th>\n",
       "      <td>-0.037224</td>\n",
       "      <td>0.191353</td>\n",
       "      <td>0.140140</td>\n",
       "      <td>0.976922</td>\n",
       "      <td>0.313877</td>\n",
       "      <td>0.947674</td>\n",
       "      <td>0.101995</td>\n",
       "      <td>0.033293</td>\n",
       "    </tr>\n",
       "  </tbody>\n",
       "</table>\n",
       "</div>"
      ],
      "text/plain": [
       "              Bias      RMSE       MAE      Corr         LL   Calib95  \\\n",
       "FaIR      0.037890  0.207693  0.163181  0.977429        NaN       NaN   \n",
       "Plain GP -1.689907  1.874664  1.689907 -0.363765 -30.976843  0.008721   \n",
       "FaIRGP   -0.037224  0.191353  0.140140  0.976922   0.313877  0.947674   \n",
       "\n",
       "              CRPS       ICI  \n",
       "FaIR           NaN       NaN  \n",
       "Plain GP  1.558382  0.499082  \n",
       "FaIRGP    0.101995  0.033293  "
      ]
     },
     "execution_count": 32,
     "metadata": {},
     "output_type": "execute_result"
    }
   ],
   "source": [
    "scores_df = pd.DataFrame([fair_scores, gp_scores, fairgp_scores])\n",
    "scores_df.columns = ['Bias', 'RMSE', 'MAE', 'Corr', 'LL', 'Calib95', 'CRPS', 'ICI']\n",
    "scores_df.index = ['FaIR', 'Plain GP', 'FaIRGP']\n",
    "scores_df"
   ]
  },
  {
   "cell_type": "code",
   "execution_count": 36,
   "id": "f27ba622",
   "metadata": {},
   "outputs": [
    {
     "name": "stderr",
     "output_type": "stream",
     "text": [
      "/tmp/ipykernel_85524/713675530.py:2: FutureWarning: In future versions `DataFrame.to_latex` is expected to utilise the base implementation of `Styler.to_latex` for formatting and rendering. The arguments signature may therefore change. It is recommended instead to use `DataFrame.style.to_latex` which also contains additional functionality.\n",
      "  results.to_latex('./tables/historical-only-scores.tex')\n"
     ]
    },
    {
     "data": {
      "text/html": [
       "<div>\n",
       "<style scoped>\n",
       "    .dataframe tbody tr th:only-of-type {\n",
       "        vertical-align: middle;\n",
       "    }\n",
       "\n",
       "    .dataframe tbody tr th {\n",
       "        vertical-align: top;\n",
       "    }\n",
       "\n",
       "    .dataframe thead th {\n",
       "        text-align: right;\n",
       "    }\n",
       "</style>\n",
       "<table border=\"1\" class=\"dataframe\">\n",
       "  <thead>\n",
       "    <tr style=\"text-align: right;\">\n",
       "      <th></th>\n",
       "      <th>RMSE</th>\n",
       "      <th>MAE</th>\n",
       "      <th>Bias</th>\n",
       "      <th>LL</th>\n",
       "      <th>Calib95</th>\n",
       "      <th>CRPS</th>\n",
       "    </tr>\n",
       "  </thead>\n",
       "  <tbody>\n",
       "    <tr>\n",
       "      <th>FaIR</th>\n",
       "      <td>0.208</td>\n",
       "      <td>0.163</td>\n",
       "      <td>0.038</td>\n",
       "      <td>-</td>\n",
       "      <td>-</td>\n",
       "      <td>-</td>\n",
       "    </tr>\n",
       "    <tr>\n",
       "      <th>Plain GP</th>\n",
       "      <td>1.875</td>\n",
       "      <td>1.690</td>\n",
       "      <td>-1.690</td>\n",
       "      <td>-30.977</td>\n",
       "      <td>0.009</td>\n",
       "      <td>1.558</td>\n",
       "    </tr>\n",
       "    <tr>\n",
       "      <th>FaIRGP</th>\n",
       "      <td>0.191</td>\n",
       "      <td>0.140</td>\n",
       "      <td>-0.037</td>\n",
       "      <td>0.314</td>\n",
       "      <td>0.948</td>\n",
       "      <td>0.102</td>\n",
       "    </tr>\n",
       "  </tbody>\n",
       "</table>\n",
       "</div>"
      ],
      "text/plain": [
       "           RMSE    MAE   Bias      LL Calib95   CRPS\n",
       "FaIR      0.208  0.163  0.038       -       -      -\n",
       "Plain GP  1.875  1.690 -1.690 -30.977   0.009  1.558\n",
       "FaIRGP    0.191  0.140 -0.037   0.314   0.948  0.102"
      ]
     },
     "execution_count": 36,
     "metadata": {},
     "output_type": "execute_result"
    }
   ],
   "source": [
    "results = scores_df[['RMSE', 'MAE', 'Bias', 'LL', 'Calib95', 'CRPS']].round(3).fillna('-')\n",
    "results.to_latex('./tables/historical-only-scores.tex')\n",
    "results"
   ]
  }
 ],
 "metadata": {
  "kernelspec": {
   "display_name": "sandbox",
   "language": "python",
   "name": "sandbox"
  },
  "language_info": {
   "codemirror_mode": {
    "name": "ipython",
    "version": 3
   },
   "file_extension": ".py",
   "mimetype": "text/x-python",
   "name": "python",
   "nbconvert_exporter": "python",
   "pygments_lexer": "ipython3",
   "version": "3.8.0"
  }
 },
 "nbformat": 4,
 "nbformat_minor": 5
}
